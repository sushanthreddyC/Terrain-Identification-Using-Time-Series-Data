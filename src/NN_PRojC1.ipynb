{
  "cells": [
    {
      "cell_type": "code",
      "execution_count": 12,
      "metadata": {
        "id": "NGm6Zp0FLXGh"
      },
      "outputs": [],
      "source": [
        "#imports\n",
        "\n",
        "import numpy as np\n",
        "import pandas as pd\n",
        "import matplotlib.pyplot as plt\n",
        "from sklearn.preprocessing import  StandardScaler\n",
        "from sklearn.model_selection import train_test_split\n",
        "\n",
        "\n",
        "from keras.utils import to_categorical\n",
        "from keras.callbacks import Callback,ModelCheckpoint\n",
        "from keras.models import Sequential,load_model\n",
        "from keras.layers import Dense, Dropout\n",
        "from keras.wrappers.scikit_learn import KerasClassifier\n",
        "import keras.backend as K\n",
        "\n",
        "\n"
      ]
    },
    {
      "cell_type": "code",
      "execution_count": 13,
      "metadata": {
        "id": "rw7MQHA_6Kjz"
      },
      "outputs": [],
      "source": [
        "import pandas as pd\n",
        "import glob\n",
        "from sklearn.model_selection import train_test_split\n",
        "from sklearn import metrics\n",
        "import numpy as np\n",
        "from keras.models import Sequential\n",
        "from keras.layers import Dense\n",
        "from keras.layers import Flatten, Reshape\n",
        "from keras.utils import to_categorical\n",
        "from keras.layers.convolutional import Conv1D\n",
        "from keras.layers.convolutional import MaxPooling1D\n",
        "from keras.optimizers import SGD, Adam, RMSprop, Adagrad\n",
        "from keras.layers import Dropout, InputLayer, LSTM\n",
        "from keras.layers import Bidirectional, BatchNormalization\n",
        "from keras.layers import TimeDistributed\n",
        "from keras.layers import Conv2D, MaxPooling2D, Flatten, Dense, Activation, BatchNormalization, Dropout, UpSampling1D, AveragePooling1D"
      ]
    },
    {
      "cell_type": "code",
      "execution_count": 14,
      "metadata": {
        "colab": {
          "base_uri": "https://localhost:8080/"
        },
        "id": "AhxjY0sg9aBA",
        "outputId": "eb16fbf8-e624-45af-ef4a-8263906ea3aa"
      },
      "outputs": [
        {
          "name": "stdout",
          "output_type": "stream",
          "text": [
            "\u001b[?25l     \u001b[90m━━━━━━━━━━━━━━━━━━━━━━━━━━━━━━━━━━━━━━━━\u001b[0m \u001b[32m0.0/176.1 kB\u001b[0m \u001b[31m?\u001b[0m eta \u001b[36m-:--:--\u001b[0m\r\u001b[2K     \u001b[90m━━━━━━━━━━━━━━━━━━━━━━━━━━━━━━━━━━━━━━\u001b[0m \u001b[32m176.1/176.1 kB\u001b[0m \u001b[31m15.2 MB/s\u001b[0m eta \u001b[36m0:00:00\u001b[0m\n",
            "\u001b[?25h"
          ]
        }
      ],
      "source": [
        "!pip install -q -U keras-tuner\n",
        "import keras_tuner as kt\n",
        "import tensorflow as tf\n",
        "from tensorflow import keras"
      ]
    },
    {
      "cell_type": "markdown",
      "metadata": {
        "id": "0Qi_AbWuEBj3"
      },
      "source": [
        "#DATA LOADING"
      ]
    },
    {
      "cell_type": "code",
      "execution_count": 15,
      "metadata": {
        "id": "HqX6PH0UM2IR"
      },
      "outputs": [],
      "source": [
        "#load data\n",
        "\n",
        "x_1_1 = pd.read_csv('https://raw.githubusercontent.com/sushanthreddyC/Terrain-Identification-Using-Time-Series-Data/main/TrainingData/subject_001_01__x.csv', names = ['ax', 'ay', 'az', 'gx', 'gy', 'gz'])\n",
        "x_1_2 = pd.read_csv('https://raw.githubusercontent.com/sushanthreddyC/Terrain-Identification-Using-Time-Series-Data/main/TrainingData/subject_001_02__x.csv', names = ['ax', 'ay', 'az', 'gx', 'gy', 'gz'])\n",
        "x_1_3 = pd.read_csv('https://raw.githubusercontent.com/sushanthreddyC/Terrain-Identification-Using-Time-Series-Data/main/TrainingData/subject_001_03__x.csv', names = ['ax', 'ay', 'az', 'gx', 'gy', 'gz'])\n",
        "x_1_4 = pd.read_csv('https://raw.githubusercontent.com/sushanthreddyC/Terrain-Identification-Using-Time-Series-Data/main/TrainingData/subject_001_04__x.csv', names = ['ax', 'ay', 'az', 'gx', 'gy', 'gz'])\n",
        "x_1_5 = pd.read_csv('https://raw.githubusercontent.com/sushanthreddyC/Terrain-Identification-Using-Time-Series-Data/main/TrainingData/subject_001_05__x.csv', names = ['ax', 'ay', 'az', 'gx', 'gy', 'gz'])\n",
        "x_1_6 = pd.read_csv('https://raw.githubusercontent.com/sushanthreddyC/Terrain-Identification-Using-Time-Series-Data/main/TrainingData/subject_001_06__x.csv', names = ['ax', 'ay', 'az', 'gx', 'gy', 'gz'])\n",
        "x_1_7 = pd.read_csv('https://raw.githubusercontent.com/sushanthreddyC/Terrain-Identification-Using-Time-Series-Data/main/TrainingData/subject_001_07__x.csv', names = ['ax', 'ay', 'az', 'gx', 'gy', 'gz'])\n",
        "x_1_8 = pd.read_csv('https://raw.githubusercontent.com/sushanthreddyC/Terrain-Identification-Using-Time-Series-Data/main/TrainingData/subject_001_08__x.csv', names = ['ax', 'ay', 'az', 'gx', 'gy', 'gz'])\n",
        "\n",
        "\n",
        "\n",
        "x_2_1 = pd.read_csv('https://raw.githubusercontent.com/sushanthreddyC/Terrain-Identification-Using-Time-Series-Data/main/TrainingData/subject_002_01__x.csv', names = ['ax', 'ay', 'az', 'gx', 'gy', 'gz'])\n",
        "x_2_2 = pd.read_csv('https://raw.githubusercontent.com/sushanthreddyC/Terrain-Identification-Using-Time-Series-Data/main/TrainingData/subject_002_02__x.csv', names = ['ax', 'ay', 'az', 'gx', 'gy', 'gz'])\n",
        "x_2_3 = pd.read_csv('https://raw.githubusercontent.com/sushanthreddyC/Terrain-Identification-Using-Time-Series-Data/main/TrainingData/subject_002_03__x.csv', names = ['ax', 'ay', 'az', 'gx', 'gy', 'gz'])\n",
        "x_2_4 = pd.read_csv('https://raw.githubusercontent.com/sushanthreddyC/Terrain-Identification-Using-Time-Series-Data/main/TrainingData/subject_002_04__x.csv', names = ['ax', 'ay', 'az', 'gx', 'gy', 'gz'])\n",
        "x_2_5 = pd.read_csv('https://raw.githubusercontent.com/sushanthreddyC/Terrain-Identification-Using-Time-Series-Data/main/TrainingData/subject_002_05__x.csv', names = ['ax', 'ay', 'az', 'gx', 'gy', 'gz'])\n",
        "\n",
        "\n",
        "\n",
        "x_3_1 = pd.read_csv('https://raw.githubusercontent.com/sushanthreddyC/Terrain-Identification-Using-Time-Series-Data/main/TrainingData/subject_003_01__x.csv', names = ['ax', 'ay', 'az', 'gx', 'gy', 'gz'])\n",
        "x_3_2 = pd.read_csv('https://raw.githubusercontent.com/sushanthreddyC/Terrain-Identification-Using-Time-Series-Data/main/TrainingData/subject_003_02__x.csv', names = ['ax', 'ay', 'az', 'gx', 'gy', 'gz'])\n",
        "x_3_3 = pd.read_csv('https://raw.githubusercontent.com/sushanthreddyC/Terrain-Identification-Using-Time-Series-Data/main/TrainingData/subject_003_03__x.csv', names = ['ax', 'ay', 'az', 'gx', 'gy', 'gz'])\n",
        "\n",
        "\n",
        "\n",
        "x_4_1 = pd.read_csv('https://raw.githubusercontent.com/sushanthreddyC/Terrain-Identification-Using-Time-Series-Data/main/TrainingData/subject_004_01__x.csv',  names = ['ax', 'ay', 'az', 'gx', 'gy', 'gz'])\n",
        "x_4_2 = pd.read_csv('https://raw.githubusercontent.com/sushanthreddyC/Terrain-Identification-Using-Time-Series-Data/main/TrainingData/subject_004_02__x.csv',  names = ['ax', 'ay', 'az', 'gx', 'gy', 'gz'])\n",
        "\n",
        "\n",
        "\n",
        "x_5_1 = pd.read_csv('https://raw.githubusercontent.com/sushanthreddyC/Terrain-Identification-Using-Time-Series-Data/main/TrainingData/subject_005_01__x.csv', names = ['ax', 'ay', 'az', 'gx', 'gy', 'gz'])\n",
        "x_5_2 = pd.read_csv('https://raw.githubusercontent.com/sushanthreddyC/Terrain-Identification-Using-Time-Series-Data/main/TrainingData/subject_005_02__x.csv', names = ['ax', 'ay', 'az', 'gx', 'gy', 'gz'])\n",
        "x_5_3 = pd.read_csv('https://raw.githubusercontent.com/sushanthreddyC/Terrain-Identification-Using-Time-Series-Data/main/TrainingData/subject_005_03__x.csv', names = ['ax', 'ay', 'az', 'gx', 'gy', 'gz'])\n",
        "\n",
        "\n",
        "x_6_1 = pd.read_csv('https://raw.githubusercontent.com/sushanthreddyC/Terrain-Identification-Using-Time-Series-Data/main/TrainingData/subject_006_01__x.csv', names = ['ax', 'ay', 'az', 'gx', 'gy', 'gz'])\n",
        "x_6_2 = pd.read_csv('https://raw.githubusercontent.com/sushanthreddyC/Terrain-Identification-Using-Time-Series-Data/main/TrainingData/subject_006_02__x.csv', names = ['ax', 'ay', 'az', 'gx', 'gy', 'gz'])\n",
        "x_6_3 = pd.read_csv('https://raw.githubusercontent.com/sushanthreddyC/Terrain-Identification-Using-Time-Series-Data/main/TrainingData/subject_006_03__x.csv', names = ['ax', 'ay', 'az', 'gx', 'gy', 'gz'])\n",
        "\n",
        "x_7_1 = pd.read_csv('https://raw.githubusercontent.com/sushanthreddyC/Terrain-Identification-Using-Time-Series-Data/main/TrainingData/subject_007_01__x.csv', names = ['ax', 'ay', 'az', 'gx', 'gy', 'gz'])\n",
        "x_7_2 = pd.read_csv('https://raw.githubusercontent.com/sushanthreddyC/Terrain-Identification-Using-Time-Series-Data/main/TrainingData/subject_007_02__x.csv', names = ['ax', 'ay', 'az', 'gx', 'gy', 'gz'])\n",
        "x_7_3 = pd.read_csv('https://raw.githubusercontent.com/sushanthreddyC/Terrain-Identification-Using-Time-Series-Data/main/TrainingData/subject_007_03__x.csv', names = ['ax', 'ay', 'az', 'gx', 'gy', 'gz'])\n",
        "x_7_4 = pd.read_csv('https://raw.githubusercontent.com/sushanthreddyC/Terrain-Identification-Using-Time-Series-Data/main/TrainingData/subject_007_04__x.csv', names = ['ax', 'ay', 'az', 'gx', 'gy', 'gz'])\n",
        "\n",
        "x_8_1 = pd.read_csv('https://raw.githubusercontent.com/sushanthreddyC/Terrain-Identification-Using-Time-Series-Data/main/TrainingData/subject_008_01__x.csv', names = ['ax', 'ay', 'az', 'gx', 'gy', 'gz'])"
      ]
    },
    {
      "cell_type": "code",
      "execution_count": 16,
      "metadata": {
        "colab": {
          "base_uri": "https://localhost:8080/",
          "height": 206
        },
        "id": "mhqNDUEu4CTf",
        "outputId": "cc2c3a94-ea2b-45aa-c81d-116d19ae2b49"
      },
      "outputs": [
        {
          "data": {
            "text/html": [
              "\n",
              "  <div id=\"df-fb38e68f-e704-4ea5-80c7-c35b44a2c454\">\n",
              "    <div class=\"colab-df-container\">\n",
              "      <div>\n",
              "<style scoped>\n",
              "    .dataframe tbody tr th:only-of-type {\n",
              "        vertical-align: middle;\n",
              "    }\n",
              "\n",
              "    .dataframe tbody tr th {\n",
              "        vertical-align: top;\n",
              "    }\n",
              "\n",
              "    .dataframe thead th {\n",
              "        text-align: right;\n",
              "    }\n",
              "</style>\n",
              "<table border=\"1\" class=\"dataframe\">\n",
              "  <thead>\n",
              "    <tr style=\"text-align: right;\">\n",
              "      <th></th>\n",
              "      <th>ax</th>\n",
              "      <th>ay</th>\n",
              "      <th>az</th>\n",
              "      <th>gx</th>\n",
              "      <th>gy</th>\n",
              "      <th>gz</th>\n",
              "    </tr>\n",
              "  </thead>\n",
              "  <tbody>\n",
              "    <tr>\n",
              "      <th>0</th>\n",
              "      <td>4.435275</td>\n",
              "      <td>8.196063</td>\n",
              "      <td>2.974488</td>\n",
              "      <td>0.014215</td>\n",
              "      <td>-0.039157</td>\n",
              "      <td>-0.016744</td>\n",
              "    </tr>\n",
              "    <tr>\n",
              "      <th>1</th>\n",
              "      <td>4.186920</td>\n",
              "      <td>8.344455</td>\n",
              "      <td>2.908057</td>\n",
              "      <td>0.005771</td>\n",
              "      <td>-0.004480</td>\n",
              "      <td>-0.003345</td>\n",
              "    </tr>\n",
              "    <tr>\n",
              "      <th>2</th>\n",
              "      <td>4.544637</td>\n",
              "      <td>8.408659</td>\n",
              "      <td>2.890000</td>\n",
              "      <td>0.007967</td>\n",
              "      <td>0.022412</td>\n",
              "      <td>0.001159</td>\n",
              "    </tr>\n",
              "    <tr>\n",
              "      <th>3</th>\n",
              "      <td>4.849308</td>\n",
              "      <td>8.411614</td>\n",
              "      <td>2.900692</td>\n",
              "      <td>0.027778</td>\n",
              "      <td>-0.010670</td>\n",
              "      <td>-0.014223</td>\n",
              "    </tr>\n",
              "    <tr>\n",
              "      <th>4</th>\n",
              "      <td>4.509190</td>\n",
              "      <td>8.118649</td>\n",
              "      <td>2.847298</td>\n",
              "      <td>0.021577</td>\n",
              "      <td>-0.045498</td>\n",
              "      <td>-0.021111</td>\n",
              "    </tr>\n",
              "  </tbody>\n",
              "</table>\n",
              "</div>\n",
              "      <button class=\"colab-df-convert\" onclick=\"convertToInteractive('df-fb38e68f-e704-4ea5-80c7-c35b44a2c454')\"\n",
              "              title=\"Convert this dataframe to an interactive table.\"\n",
              "              style=\"display:none;\">\n",
              "        \n",
              "  <svg xmlns=\"http://www.w3.org/2000/svg\" height=\"24px\"viewBox=\"0 0 24 24\"\n",
              "       width=\"24px\">\n",
              "    <path d=\"M0 0h24v24H0V0z\" fill=\"none\"/>\n",
              "    <path d=\"M18.56 5.44l.94 2.06.94-2.06 2.06-.94-2.06-.94-.94-2.06-.94 2.06-2.06.94zm-11 1L8.5 8.5l.94-2.06 2.06-.94-2.06-.94L8.5 2.5l-.94 2.06-2.06.94zm10 10l.94 2.06.94-2.06 2.06-.94-2.06-.94-.94-2.06-.94 2.06-2.06.94z\"/><path d=\"M17.41 7.96l-1.37-1.37c-.4-.4-.92-.59-1.43-.59-.52 0-1.04.2-1.43.59L10.3 9.45l-7.72 7.72c-.78.78-.78 2.05 0 2.83L4 21.41c.39.39.9.59 1.41.59.51 0 1.02-.2 1.41-.59l7.78-7.78 2.81-2.81c.8-.78.8-2.07 0-2.86zM5.41 20L4 18.59l7.72-7.72 1.47 1.35L5.41 20z\"/>\n",
              "  </svg>\n",
              "      </button>\n",
              "      \n",
              "  <style>\n",
              "    .colab-df-container {\n",
              "      display:flex;\n",
              "      flex-wrap:wrap;\n",
              "      gap: 12px;\n",
              "    }\n",
              "\n",
              "    .colab-df-convert {\n",
              "      background-color: #E8F0FE;\n",
              "      border: none;\n",
              "      border-radius: 50%;\n",
              "      cursor: pointer;\n",
              "      display: none;\n",
              "      fill: #1967D2;\n",
              "      height: 32px;\n",
              "      padding: 0 0 0 0;\n",
              "      width: 32px;\n",
              "    }\n",
              "\n",
              "    .colab-df-convert:hover {\n",
              "      background-color: #E2EBFA;\n",
              "      box-shadow: 0px 1px 2px rgba(60, 64, 67, 0.3), 0px 1px 3px 1px rgba(60, 64, 67, 0.15);\n",
              "      fill: #174EA6;\n",
              "    }\n",
              "\n",
              "    [theme=dark] .colab-df-convert {\n",
              "      background-color: #3B4455;\n",
              "      fill: #D2E3FC;\n",
              "    }\n",
              "\n",
              "    [theme=dark] .colab-df-convert:hover {\n",
              "      background-color: #434B5C;\n",
              "      box-shadow: 0px 1px 3px 1px rgba(0, 0, 0, 0.15);\n",
              "      filter: drop-shadow(0px 1px 2px rgba(0, 0, 0, 0.3));\n",
              "      fill: #FFFFFF;\n",
              "    }\n",
              "  </style>\n",
              "\n",
              "      <script>\n",
              "        const buttonEl =\n",
              "          document.querySelector('#df-fb38e68f-e704-4ea5-80c7-c35b44a2c454 button.colab-df-convert');\n",
              "        buttonEl.style.display =\n",
              "          google.colab.kernel.accessAllowed ? 'block' : 'none';\n",
              "\n",
              "        async function convertToInteractive(key) {\n",
              "          const element = document.querySelector('#df-fb38e68f-e704-4ea5-80c7-c35b44a2c454');\n",
              "          const dataTable =\n",
              "            await google.colab.kernel.invokeFunction('convertToInteractive',\n",
              "                                                     [key], {});\n",
              "          if (!dataTable) return;\n",
              "\n",
              "          const docLinkHtml = 'Like what you see? Visit the ' +\n",
              "            '<a target=\"_blank\" href=https://colab.research.google.com/notebooks/data_table.ipynb>data table notebook</a>'\n",
              "            + ' to learn more about interactive tables.';\n",
              "          element.innerHTML = '';\n",
              "          dataTable['output_type'] = 'display_data';\n",
              "          await google.colab.output.renderOutput(dataTable, element);\n",
              "          const docLink = document.createElement('div');\n",
              "          docLink.innerHTML = docLinkHtml;\n",
              "          element.appendChild(docLink);\n",
              "        }\n",
              "      </script>\n",
              "    </div>\n",
              "  </div>\n",
              "  "
            ],
            "text/plain": [
              "         ax        ay        az        gx        gy        gz\n",
              "0  4.435275  8.196063  2.974488  0.014215 -0.039157 -0.016744\n",
              "1  4.186920  8.344455  2.908057  0.005771 -0.004480 -0.003345\n",
              "2  4.544637  8.408659  2.890000  0.007967  0.022412  0.001159\n",
              "3  4.849308  8.411614  2.900692  0.027778 -0.010670 -0.014223\n",
              "4  4.509190  8.118649  2.847298  0.021577 -0.045498 -0.021111"
            ]
          },
          "execution_count": 16,
          "metadata": {},
          "output_type": "execute_result"
        }
      ],
      "source": [
        "x_1_1.head()"
      ]
    },
    {
      "cell_type": "markdown",
      "metadata": {
        "id": "acYTZTeEEF_C"
      },
      "source": [
        "X-time Values"
      ]
    },
    {
      "cell_type": "code",
      "execution_count": 17,
      "metadata": {
        "id": "mjhyF3PEEFo0"
      },
      "outputs": [],
      "source": [
        "#load data\n",
        "\n",
        "x_1_1_t = pd.read_csv('https://raw.githubusercontent.com/sushanthreddyC/Terrain-Identification-Using-Time-Series-Data/main/TrainingData/subject_001_01__x_time.csv', names = ['time'])\n",
        "x_1_2_t = pd.read_csv('https://raw.githubusercontent.com/sushanthreddyC/Terrain-Identification-Using-Time-Series-Data/main/TrainingData/subject_001_02__x_time.csv', names = ['time'])\n",
        "x_1_3_t = pd.read_csv('https://raw.githubusercontent.com/sushanthreddyC/Terrain-Identification-Using-Time-Series-Data/main/TrainingData/subject_001_03__x_time.csv', names = ['time'])\n",
        "x_1_4_t = pd.read_csv('https://raw.githubusercontent.com/sushanthreddyC/Terrain-Identification-Using-Time-Series-Data/main/TrainingData/subject_001_04__x_time.csv', names = ['time'])\n",
        "x_1_5_t = pd.read_csv('https://raw.githubusercontent.com/sushanthreddyC/Terrain-Identification-Using-Time-Series-Data/main/TrainingData/subject_001_05__x_time.csv', names = ['time'])\n",
        "x_1_6_t = pd.read_csv('https://raw.githubusercontent.com/sushanthreddyC/Terrain-Identification-Using-Time-Series-Data/main/TrainingData/subject_001_06__x_time.csv', names = ['time'])\n",
        "x_1_7_t = pd.read_csv('https://raw.githubusercontent.com/sushanthreddyC/Terrain-Identification-Using-Time-Series-Data/main/TrainingData/subject_001_07__x_time.csv', names = ['time'])\n",
        "x_1_8_t = pd.read_csv('https://raw.githubusercontent.com/sushanthreddyC/Terrain-Identification-Using-Time-Series-Data/main/TrainingData/subject_001_08__x_time.csv', names = ['time'])\n",
        "\n",
        "\n",
        "\n",
        "x_2_1_t = pd.read_csv('https://raw.githubusercontent.com/sushanthreddyC/Terrain-Identification-Using-Time-Series-Data/main/TrainingData/subject_002_01__x_time.csv', names = ['time'])\n",
        "x_2_2_t = pd.read_csv('https://raw.githubusercontent.com/sushanthreddyC/Terrain-Identification-Using-Time-Series-Data/main/TrainingData/subject_002_02__x_time.csv', names = ['time'])\n",
        "x_2_3_t = pd.read_csv('https://raw.githubusercontent.com/sushanthreddyC/Terrain-Identification-Using-Time-Series-Data/main/TrainingData/subject_002_03__x_time.csv', names = ['time'])\n",
        "x_2_4_t = pd.read_csv('https://raw.githubusercontent.com/sushanthreddyC/Terrain-Identification-Using-Time-Series-Data/main/TrainingData/subject_002_04__x_time.csv', names = ['time'])\n",
        "x_2_5_t = pd.read_csv('https://raw.githubusercontent.com/sushanthreddyC/Terrain-Identification-Using-Time-Series-Data/main/TrainingData/subject_002_05__x_time.csv', names = ['time'])\n",
        "\n",
        "\n",
        "\n",
        "x_3_1_t = pd.read_csv('https://raw.githubusercontent.com/sushanthreddyC/Terrain-Identification-Using-Time-Series-Data/main/TrainingData/subject_003_01__x_time.csv', names = ['time'])\n",
        "x_3_2_t = pd.read_csv('https://raw.githubusercontent.com/sushanthreddyC/Terrain-Identification-Using-Time-Series-Data/main/TrainingData/subject_003_02__x_time.csv', names = ['time'])\n",
        "x_3_3_t = pd.read_csv('https://raw.githubusercontent.com/sushanthreddyC/Terrain-Identification-Using-Time-Series-Data/main/TrainingData/subject_003_03__x_time.csv', names = ['time'])\n",
        "\n",
        "\n",
        "\n",
        "x_4_1_t = pd.read_csv('https://raw.githubusercontent.com/sushanthreddyC/Terrain-Identification-Using-Time-Series-Data/main/TrainingData/subject_004_01__x_time.csv',  names = ['time'])\n",
        "x_4_2_t = pd.read_csv('https://raw.githubusercontent.com/sushanthreddyC/Terrain-Identification-Using-Time-Series-Data/main/TrainingData/subject_004_02__x_time.csv',  names = ['time'])\n",
        "\n",
        "\n",
        "\n",
        "x_5_1_t = pd.read_csv('https://raw.githubusercontent.com/sushanthreddyC/Terrain-Identification-Using-Time-Series-Data/main/TrainingData/subject_005_01__x_time.csv', names = ['time'])\n",
        "x_5_2_t = pd.read_csv('https://raw.githubusercontent.com/sushanthreddyC/Terrain-Identification-Using-Time-Series-Data/main/TrainingData/subject_005_02__x_time.csv', names = ['time'])\n",
        "x_5_3_t = pd.read_csv('https://raw.githubusercontent.com/sushanthreddyC/Terrain-Identification-Using-Time-Series-Data/main/TrainingData/subject_005_03__x_time.csv', names = ['time'])\n",
        "\n",
        "\n",
        "x_6_1_t = pd.read_csv('https://raw.githubusercontent.com/sushanthreddyC/Terrain-Identification-Using-Time-Series-Data/main/TrainingData/subject_006_01__x_time.csv', names = ['time'])\n",
        "x_6_2_t = pd.read_csv('https://raw.githubusercontent.com/sushanthreddyC/Terrain-Identification-Using-Time-Series-Data/main/TrainingData/subject_006_02__x_time.csv', names = ['time'])\n",
        "x_6_3_t = pd.read_csv('https://raw.githubusercontent.com/sushanthreddyC/Terrain-Identification-Using-Time-Series-Data/main/TrainingData/subject_006_03__x_time.csv', names = ['time'])\n",
        "\n",
        "x_7_1_t = pd.read_csv('https://raw.githubusercontent.com/sushanthreddyC/Terrain-Identification-Using-Time-Series-Data/main/TrainingData/subject_007_01__x_time.csv', names =['time'])\n",
        "x_7_2_t = pd.read_csv('https://raw.githubusercontent.com/sushanthreddyC/Terrain-Identification-Using-Time-Series-Data/main/TrainingData/subject_007_02__x_time.csv', names = ['time'])\n",
        "x_7_3_t = pd.read_csv('https://raw.githubusercontent.com/sushanthreddyC/Terrain-Identification-Using-Time-Series-Data/main/TrainingData/subject_007_03__x_time.csv', names = ['time'])\n",
        "x_7_4_t = pd.read_csv('https://raw.githubusercontent.com/sushanthreddyC/Terrain-Identification-Using-Time-Series-Data/main/TrainingData/subject_007_04__x_time.csv', names = ['time'])\n",
        "\n",
        "x_8_1_t = pd.read_csv('https://raw.githubusercontent.com/sushanthreddyC/Terrain-Identification-Using-Time-Series-Data/main/TrainingData/subject_008_01__x_time.csv', names = ['time'])"
      ]
    },
    {
      "cell_type": "code",
      "execution_count": 18,
      "metadata": {
        "colab": {
          "base_uri": "https://localhost:8080/",
          "height": 0
        },
        "id": "RBrn0oK14FlK",
        "outputId": "779c17ff-1713-4da0-88da-945295f713d9"
      },
      "outputs": [
        {
          "data": {
            "text/html": [
              "\n",
              "  <div id=\"df-ac1ea6e1-5b21-4c02-9ffe-e05627c1d3fd\">\n",
              "    <div class=\"colab-df-container\">\n",
              "      <div>\n",
              "<style scoped>\n",
              "    .dataframe tbody tr th:only-of-type {\n",
              "        vertical-align: middle;\n",
              "    }\n",
              "\n",
              "    .dataframe tbody tr th {\n",
              "        vertical-align: top;\n",
              "    }\n",
              "\n",
              "    .dataframe thead th {\n",
              "        text-align: right;\n",
              "    }\n",
              "</style>\n",
              "<table border=\"1\" class=\"dataframe\">\n",
              "  <thead>\n",
              "    <tr style=\"text-align: right;\">\n",
              "      <th></th>\n",
              "      <th>time</th>\n",
              "    </tr>\n",
              "  </thead>\n",
              "  <tbody>\n",
              "    <tr>\n",
              "      <th>0</th>\n",
              "      <td>0.000</td>\n",
              "    </tr>\n",
              "    <tr>\n",
              "      <th>1</th>\n",
              "      <td>0.025</td>\n",
              "    </tr>\n",
              "    <tr>\n",
              "      <th>2</th>\n",
              "      <td>0.050</td>\n",
              "    </tr>\n",
              "    <tr>\n",
              "      <th>3</th>\n",
              "      <td>0.075</td>\n",
              "    </tr>\n",
              "    <tr>\n",
              "      <th>4</th>\n",
              "      <td>0.100</td>\n",
              "    </tr>\n",
              "  </tbody>\n",
              "</table>\n",
              "</div>\n",
              "      <button class=\"colab-df-convert\" onclick=\"convertToInteractive('df-ac1ea6e1-5b21-4c02-9ffe-e05627c1d3fd')\"\n",
              "              title=\"Convert this dataframe to an interactive table.\"\n",
              "              style=\"display:none;\">\n",
              "        \n",
              "  <svg xmlns=\"http://www.w3.org/2000/svg\" height=\"24px\"viewBox=\"0 0 24 24\"\n",
              "       width=\"24px\">\n",
              "    <path d=\"M0 0h24v24H0V0z\" fill=\"none\"/>\n",
              "    <path d=\"M18.56 5.44l.94 2.06.94-2.06 2.06-.94-2.06-.94-.94-2.06-.94 2.06-2.06.94zm-11 1L8.5 8.5l.94-2.06 2.06-.94-2.06-.94L8.5 2.5l-.94 2.06-2.06.94zm10 10l.94 2.06.94-2.06 2.06-.94-2.06-.94-.94-2.06-.94 2.06-2.06.94z\"/><path d=\"M17.41 7.96l-1.37-1.37c-.4-.4-.92-.59-1.43-.59-.52 0-1.04.2-1.43.59L10.3 9.45l-7.72 7.72c-.78.78-.78 2.05 0 2.83L4 21.41c.39.39.9.59 1.41.59.51 0 1.02-.2 1.41-.59l7.78-7.78 2.81-2.81c.8-.78.8-2.07 0-2.86zM5.41 20L4 18.59l7.72-7.72 1.47 1.35L5.41 20z\"/>\n",
              "  </svg>\n",
              "      </button>\n",
              "      \n",
              "  <style>\n",
              "    .colab-df-container {\n",
              "      display:flex;\n",
              "      flex-wrap:wrap;\n",
              "      gap: 12px;\n",
              "    }\n",
              "\n",
              "    .colab-df-convert {\n",
              "      background-color: #E8F0FE;\n",
              "      border: none;\n",
              "      border-radius: 50%;\n",
              "      cursor: pointer;\n",
              "      display: none;\n",
              "      fill: #1967D2;\n",
              "      height: 32px;\n",
              "      padding: 0 0 0 0;\n",
              "      width: 32px;\n",
              "    }\n",
              "\n",
              "    .colab-df-convert:hover {\n",
              "      background-color: #E2EBFA;\n",
              "      box-shadow: 0px 1px 2px rgba(60, 64, 67, 0.3), 0px 1px 3px 1px rgba(60, 64, 67, 0.15);\n",
              "      fill: #174EA6;\n",
              "    }\n",
              "\n",
              "    [theme=dark] .colab-df-convert {\n",
              "      background-color: #3B4455;\n",
              "      fill: #D2E3FC;\n",
              "    }\n",
              "\n",
              "    [theme=dark] .colab-df-convert:hover {\n",
              "      background-color: #434B5C;\n",
              "      box-shadow: 0px 1px 3px 1px rgba(0, 0, 0, 0.15);\n",
              "      filter: drop-shadow(0px 1px 2px rgba(0, 0, 0, 0.3));\n",
              "      fill: #FFFFFF;\n",
              "    }\n",
              "  </style>\n",
              "\n",
              "      <script>\n",
              "        const buttonEl =\n",
              "          document.querySelector('#df-ac1ea6e1-5b21-4c02-9ffe-e05627c1d3fd button.colab-df-convert');\n",
              "        buttonEl.style.display =\n",
              "          google.colab.kernel.accessAllowed ? 'block' : 'none';\n",
              "\n",
              "        async function convertToInteractive(key) {\n",
              "          const element = document.querySelector('#df-ac1ea6e1-5b21-4c02-9ffe-e05627c1d3fd');\n",
              "          const dataTable =\n",
              "            await google.colab.kernel.invokeFunction('convertToInteractive',\n",
              "                                                     [key], {});\n",
              "          if (!dataTable) return;\n",
              "\n",
              "          const docLinkHtml = 'Like what you see? Visit the ' +\n",
              "            '<a target=\"_blank\" href=https://colab.research.google.com/notebooks/data_table.ipynb>data table notebook</a>'\n",
              "            + ' to learn more about interactive tables.';\n",
              "          element.innerHTML = '';\n",
              "          dataTable['output_type'] = 'display_data';\n",
              "          await google.colab.output.renderOutput(dataTable, element);\n",
              "          const docLink = document.createElement('div');\n",
              "          docLink.innerHTML = docLinkHtml;\n",
              "          element.appendChild(docLink);\n",
              "        }\n",
              "      </script>\n",
              "    </div>\n",
              "  </div>\n",
              "  "
            ],
            "text/plain": [
              "    time\n",
              "0  0.000\n",
              "1  0.025\n",
              "2  0.050\n",
              "3  0.075\n",
              "4  0.100"
            ]
          },
          "execution_count": 18,
          "metadata": {},
          "output_type": "execute_result"
        }
      ],
      "source": [
        "x_8_1_t.head()"
      ]
    },
    {
      "cell_type": "markdown",
      "metadata": {
        "id": "OW5oxwRKMwLo"
      },
      "source": [
        "Y-Values"
      ]
    },
    {
      "cell_type": "code",
      "execution_count": 19,
      "metadata": {
        "id": "Rju3fMUWQUIA"
      },
      "outputs": [],
      "source": [
        "y_1_1 = pd.read_csv('https://raw.githubusercontent.com/sushanthreddyC/Terrain-Identification-Using-Time-Series-Data/main/TrainingData/subject_001_01__y.csv', names = ['target'])\n",
        "y_1_2 = pd.read_csv('https://raw.githubusercontent.com/sushanthreddyC/Terrain-Identification-Using-Time-Series-Data/main/TrainingData/subject_001_02__y.csv', names = ['target'])\n",
        "y_1_3 = pd.read_csv('https://raw.githubusercontent.com/sushanthreddyC/Terrain-Identification-Using-Time-Series-Data/main/TrainingData/subject_001_03__y.csv', names = ['target'])\n",
        "y_1_4 = pd.read_csv('https://raw.githubusercontent.com/sushanthreddyC/Terrain-Identification-Using-Time-Series-Data/main/TrainingData/subject_001_04__y.csv', names = ['target'])\n",
        "y_1_5 = pd.read_csv('https://raw.githubusercontent.com/sushanthreddyC/Terrain-Identification-Using-Time-Series-Data/main/TrainingData/subject_001_05__y.csv', names = ['target'])\n",
        "y_1_6 = pd.read_csv('https://raw.githubusercontent.com/sushanthreddyC/Terrain-Identification-Using-Time-Series-Data/main/TrainingData/subject_001_06__y.csv', names = ['target'])\n",
        "y_1_7 = pd.read_csv('https://raw.githubusercontent.com/sushanthreddyC/Terrain-Identification-Using-Time-Series-Data/main/TrainingData/subject_001_07__y.csv', names = ['target'])\n",
        "y_1_8 = pd.read_csv('https://raw.githubusercontent.com/sushanthreddyC/Terrain-Identification-Using-Time-Series-Data/main/TrainingData/subject_001_08__y.csv', names = ['target'])\n",
        "\n",
        "\n",
        "\n",
        "y_2_1 = pd.read_csv('https://raw.githubusercontent.com/sushanthreddyC/Terrain-Identification-Using-Time-Series-Data/main/TrainingData/subject_002_01__y.csv', names = ['target'])\n",
        "y_2_2 = pd.read_csv('https://raw.githubusercontent.com/sushanthreddyC/Terrain-Identification-Using-Time-Series-Data/main/TrainingData/subject_002_02__y.csv', names = ['target'])\n",
        "y_2_3 = pd.read_csv('https://raw.githubusercontent.com/sushanthreddyC/Terrain-Identification-Using-Time-Series-Data/main/TrainingData/subject_002_03__y.csv', names = ['target'])\n",
        "y_2_4 = pd.read_csv('https://raw.githubusercontent.com/sushanthreddyC/Terrain-Identification-Using-Time-Series-Data/main/TrainingData/subject_002_04__y.csv', names = ['target'])\n",
        "y_2_5 = pd.read_csv('https://raw.githubusercontent.com/sushanthreddyC/Terrain-Identification-Using-Time-Series-Data/main/TrainingData/subject_002_05__y.csv', names = ['target'])\n",
        "\n",
        "\n",
        "\n",
        "y_3_1 = pd.read_csv('https://raw.githubusercontent.com/sushanthreddyC/Terrain-Identification-Using-Time-Series-Data/main/TrainingData/subject_003_01__y.csv', names = ['target'])\n",
        "y_3_2 = pd.read_csv('https://raw.githubusercontent.com/sushanthreddyC/Terrain-Identification-Using-Time-Series-Data/main/TrainingData/subject_003_02__y.csv', names = ['target'])\n",
        "y_3_3 = pd.read_csv('https://raw.githubusercontent.com/sushanthreddyC/Terrain-Identification-Using-Time-Series-Data/main/TrainingData/subject_003_03__y.csv', names = ['target'])\n",
        "\n",
        "y_4_1 = pd.read_csv('https://raw.githubusercontent.com/sushanthreddyC/Terrain-Identification-Using-Time-Series-Data/main/TrainingData/subject_004_01__y.csv',  names = ['target'])\n",
        "y_4_2 = pd.read_csv('https://raw.githubusercontent.com/sushanthreddyC/Terrain-Identification-Using-Time-Series-Data/main/TrainingData/subject_004_02__y.csv',  names = ['target'])\n",
        "\n",
        "y_5_1 = pd.read_csv('https://raw.githubusercontent.com/sushanthreddyC/Terrain-Identification-Using-Time-Series-Data/main/TrainingData/subject_005_01__y.csv', names = ['target'])\n",
        "y_5_2 = pd.read_csv('https://raw.githubusercontent.com/sushanthreddyC/Terrain-Identification-Using-Time-Series-Data/main/TrainingData/subject_005_02__y.csv', names = ['target'])\n",
        "y_5_3 = pd.read_csv('https://raw.githubusercontent.com/sushanthreddyC/Terrain-Identification-Using-Time-Series-Data/main/TrainingData/subject_005_03__y.csv', names = ['target'])\n",
        "\n",
        "\n",
        "y_6_1 = pd.read_csv('https://raw.githubusercontent.com/sushanthreddyC/Terrain-Identification-Using-Time-Series-Data/main/TrainingData/subject_006_01__y.csv', names = ['target'])\n",
        "y_6_2 = pd.read_csv('https://raw.githubusercontent.com/sushanthreddyC/Terrain-Identification-Using-Time-Series-Data/main/TrainingData/subject_006_02__y.csv', names = ['target'])\n",
        "y_6_3 = pd.read_csv('https://raw.githubusercontent.com/sushanthreddyC/Terrain-Identification-Using-Time-Series-Data/main/TrainingData/subject_006_03__y.csv', names = ['target'])\n",
        "\n",
        "y_7_1 = pd.read_csv('https://raw.githubusercontent.com/sushanthreddyC/Terrain-Identification-Using-Time-Series-Data/main/TrainingData/subject_007_01__y.csv', names = ['target'])\n",
        "y_7_2 = pd.read_csv('https://raw.githubusercontent.com/sushanthreddyC/Terrain-Identification-Using-Time-Series-Data/main/TrainingData/subject_007_02__y.csv', names = ['target'])\n",
        "y_7_3 = pd.read_csv('https://raw.githubusercontent.com/sushanthreddyC/Terrain-Identification-Using-Time-Series-Data/main/TrainingData/subject_007_03__y.csv', names = ['target'])\n",
        "y_7_4 = pd.read_csv('https://raw.githubusercontent.com/sushanthreddyC/Terrain-Identification-Using-Time-Series-Data/main/TrainingData/subject_007_04__y.csv', names = ['target'])\n",
        "\n",
        "y_8_1 = pd.read_csv('https://raw.githubusercontent.com/sushanthreddyC/Terrain-Identification-Using-Time-Series-Data/main/TrainingData/subject_008_01__y.csv', names = ['target'])"
      ]
    },
    {
      "cell_type": "markdown",
      "metadata": {
        "id": "C1STZEEIMuSG"
      },
      "source": [
        "Y-Time"
      ]
    },
    {
      "cell_type": "code",
      "execution_count": 20,
      "metadata": {
        "id": "bMdLBo2SLl9L"
      },
      "outputs": [],
      "source": [
        "#load data\n",
        "\n",
        "y_1_1_t = pd.read_csv('https://raw.githubusercontent.com/sushanthreddyC/Terrain-Identification-Using-Time-Series-Data/main/TrainingData/subject_001_01__y_time.csv', names = ['time'])\n",
        "y_1_2_t = pd.read_csv('https://raw.githubusercontent.com/sushanthreddyC/Terrain-Identification-Using-Time-Series-Data/main/TrainingData/subject_001_02__y_time.csv', names = ['time'])\n",
        "y_1_3_t = pd.read_csv('https://raw.githubusercontent.com/sushanthreddyC/Terrain-Identification-Using-Time-Series-Data/main/TrainingData/subject_001_03__y_time.csv', names = ['time'])\n",
        "y_1_4_t = pd.read_csv('https://raw.githubusercontent.com/sushanthreddyC/Terrain-Identification-Using-Time-Series-Data/main/TrainingData/subject_001_04__y_time.csv', names = ['time'])\n",
        "y_1_5_t = pd.read_csv('https://raw.githubusercontent.com/sushanthreddyC/Terrain-Identification-Using-Time-Series-Data/main/TrainingData/subject_001_05__y_time.csv', names = ['time'])\n",
        "y_1_6_t = pd.read_csv('https://raw.githubusercontent.com/sushanthreddyC/Terrain-Identification-Using-Time-Series-Data/main/TrainingData/subject_001_06__y_time.csv', names = ['time'])\n",
        "y_1_7_t = pd.read_csv('https://raw.githubusercontent.com/sushanthreddyC/Terrain-Identification-Using-Time-Series-Data/main/TrainingData/subject_001_07__y_time.csv', names = ['time'])\n",
        "y_1_8_t = pd.read_csv('https://raw.githubusercontent.com/sushanthreddyC/Terrain-Identification-Using-Time-Series-Data/main/TrainingData/subject_001_08__y_time.csv', names = ['time'])\n",
        "\n",
        "\n",
        "\n",
        "y_2_1_t = pd.read_csv('https://raw.githubusercontent.com/sushanthreddyC/Terrain-Identification-Using-Time-Series-Data/main/TrainingData/subject_002_01__y_time.csv', names = ['time'])\n",
        "y_2_2_t = pd.read_csv('https://raw.githubusercontent.com/sushanthreddyC/Terrain-Identification-Using-Time-Series-Data/main/TrainingData/subject_002_02__y_time.csv', names = ['time'])\n",
        "y_2_3_t = pd.read_csv('https://raw.githubusercontent.com/sushanthreddyC/Terrain-Identification-Using-Time-Series-Data/main/TrainingData/subject_002_03__y_time.csv', names = ['time'])\n",
        "y_2_4_t = pd.read_csv('https://raw.githubusercontent.com/sushanthreddyC/Terrain-Identification-Using-Time-Series-Data/main/TrainingData/subject_002_04__y_time.csv', names = ['time'])\n",
        "y_2_5_t = pd.read_csv('https://raw.githubusercontent.com/sushanthreddyC/Terrain-Identification-Using-Time-Series-Data/main/TrainingData/subject_002_05__y_time.csv', names = ['time'])\n",
        "\n",
        "\n",
        "\n",
        "y_3_1_t = pd.read_csv('https://raw.githubusercontent.com/sushanthreddyC/Terrain-Identification-Using-Time-Series-Data/main/TrainingData/subject_003_01__y_time.csv', names = ['time'])\n",
        "y_3_2_t = pd.read_csv('https://raw.githubusercontent.com/sushanthreddyC/Terrain-Identification-Using-Time-Series-Data/main/TrainingData/subject_003_02__y_time.csv', names = ['time'])\n",
        "y_3_3_t = pd.read_csv('https://raw.githubusercontent.com/sushanthreddyC/Terrain-Identification-Using-Time-Series-Data/main/TrainingData/subject_003_03__y_time.csv', names = ['time'])\n",
        "\n",
        "\n",
        "\n",
        "y_4_1_t = pd.read_csv('https://raw.githubusercontent.com/sushanthreddyC/Terrain-Identification-Using-Time-Series-Data/main/TrainingData/subject_004_01__y_time.csv',  names = ['time'])\n",
        "y_4_2_t = pd.read_csv('https://raw.githubusercontent.com/sushanthreddyC/Terrain-Identification-Using-Time-Series-Data/main/TrainingData/subject_004_02__y_time.csv',  names = ['time'])\n",
        "\n",
        "\n",
        "\n",
        "y_5_1_t = pd.read_csv('https://raw.githubusercontent.com/sushanthreddyC/Terrain-Identification-Using-Time-Series-Data/main/TrainingData/subject_005_01__y_time.csv', names = ['time'])\n",
        "y_5_2_t = pd.read_csv('https://raw.githubusercontent.com/sushanthreddyC/Terrain-Identification-Using-Time-Series-Data/main/TrainingData/subject_005_02__y_time.csv', names = ['time'])\n",
        "y_5_3_t = pd.read_csv('https://raw.githubusercontent.com/sushanthreddyC/Terrain-Identification-Using-Time-Series-Data/main/TrainingData/subject_005_03__y_time.csv', names = ['time'])\n",
        "\n",
        "\n",
        "y_6_1_t = pd.read_csv('https://raw.githubusercontent.com/sushanthreddyC/Terrain-Identification-Using-Time-Series-Data/main/TrainingData/subject_006_01__y_time.csv', names = ['time'])\n",
        "y_6_2_t = pd.read_csv('https://raw.githubusercontent.com/sushanthreddyC/Terrain-Identification-Using-Time-Series-Data/main/TrainingData/subject_006_02__y_time.csv', names = ['time'])\n",
        "y_6_3_t = pd.read_csv('https://raw.githubusercontent.com/sushanthreddyC/Terrain-Identification-Using-Time-Series-Data/main/TrainingData/subject_006_03__y_time.csv', names = ['time'])\n",
        "\n",
        "y_7_1_t = pd.read_csv('https://raw.githubusercontent.com/sushanthreddyC/Terrain-Identification-Using-Time-Series-Data/main/TrainingData/subject_007_01__y_time.csv', names =['time'])\n",
        "y_7_2_t = pd.read_csv('https://raw.githubusercontent.com/sushanthreddyC/Terrain-Identification-Using-Time-Series-Data/main/TrainingData/subject_007_02__y_time.csv', names = ['time'])\n",
        "y_7_3_t = pd.read_csv('https://raw.githubusercontent.com/sushanthreddyC/Terrain-Identification-Using-Time-Series-Data/main/TrainingData/subject_007_03__y_time.csv', names = ['time'])\n",
        "y_7_4_t = pd.read_csv('https://raw.githubusercontent.com/sushanthreddyC/Terrain-Identification-Using-Time-Series-Data/main/TrainingData/subject_007_04__y_time.csv', names = ['time'])\n",
        "\n",
        "y_8_1_t = pd.read_csv('https://raw.githubusercontent.com/sushanthreddyC/Terrain-Identification-Using-Time-Series-Data/main/TrainingData/subject_008_01__y_time.csv', names = ['time'])"
      ]
    },
    {
      "cell_type": "code",
      "execution_count": 3,
      "metadata": {
        "id": "VyU73xN939rH"
      },
      "outputs": [],
      "source": []
    },
    {
      "cell_type": "markdown",
      "metadata": {
        "id": "7IaW6BxN91r-"
      },
      "source": [
        "#Utils Functions"
      ]
    },
    {
      "cell_type": "code",
      "execution_count": 21,
      "metadata": {
        "id": "7zDynrfIBBpX"
      },
      "outputs": [],
      "source": [
        "window_size=40"
      ]
    },
    {
      "cell_type": "code",
      "execution_count": 22,
      "metadata": {
        "id": "1qyeiLdN947b"
      },
      "outputs": [],
      "source": [
        "\n",
        "def define_windows(df_x, df_y, windowsize=120):\n",
        "  window_x=[]\n",
        "  window_y=[]\n",
        "  rem = df_x.shape[0]%window_size\n",
        "  if(rem):\n",
        "    df_x = pd.concat([df_x, df_x[-(window_size-rem):]])\n",
        "    df_y = pd.concat([df_y, df_y[-(window_size-rem):]])\n",
        "  for i in range(0, len(df_x)-windowsize+1, windowsize):\n",
        "    window_x.append([df_x.values[i:i+windowsize]])\n",
        "    window_y.append([df_y.values[i:i+windowsize]])\n",
        "  window_x=np.array(window_x).reshape(-1,windowsize,6)\n",
        "  window_y=np.array(window_y).reshape(-1,windowsize,4)\n",
        "\n",
        "  return window_x, window_y\n",
        "\n"
      ]
    },
    {
      "cell_type": "code",
      "execution_count": 23,
      "metadata": {
        "id": "2U7JGfVq95u9"
      },
      "outputs": [],
      "source": [
        "def flatten_pred(y_pred):\n",
        "  y_hat=[]\n",
        "  for i in y_pred:\n",
        "    for j in i:\n",
        "      y_hat.append(np.argmax(j))\n",
        "  \n",
        "  return y_hat"
      ]
    },
    {
      "cell_type": "code",
      "execution_count": 24,
      "metadata": {
        "id": "Qbx0Hslx-m6Z"
      },
      "outputs": [],
      "source": [
        "def get_f1(y_true, y_pred): #taken from old keras source code\n",
        "    true_positives = K.sum(K.round(K.clip(y_true * y_pred, 0, 1)))\n",
        "    possible_positives = K.sum(K.round(K.clip(y_true, 0, 1)))\n",
        "    predicted_positives = K.sum(K.round(K.clip(y_pred, 0, 1)))\n",
        "    precision = true_positives / (predicted_positives + K.epsilon())\n",
        "    recall = true_positives / (possible_positives + K.epsilon())\n",
        "    f1_val = 2*(precision*recall)/(precision+recall+K.epsilon())\n",
        "    return f1_val"
      ]
    },
    {
      "cell_type": "code",
      "execution_count": 38,
      "metadata": {
        "id": "hIBjDL_4Ce-o"
      },
      "outputs": [],
      "source": [
        "def recall_m(y_true, y_pred):\n",
        "    true_positives = K.sum(K.round(K.clip(y_true * y_pred, 0, 1)))\n",
        "    possible_positives = K.sum(K.round(K.clip(y_true, 0, 1)))\n",
        "    recall = true_positives / (possible_positives + K.epsilon())\n",
        "    return recall\n",
        "\n",
        "def precision_m(y_true, y_pred):\n",
        "    true_positives = K.sum(K.round(K.clip(y_true * y_pred, 0, 1)))\n",
        "    predicted_positives = K.sum(K.round(K.clip(y_pred, 0, 1)))\n",
        "    precision = true_positives / (predicted_positives + K.epsilon())\n",
        "    return precision\n",
        "\n",
        "def f1_m(y_true, y_pred):\n",
        "    precision = precision_m(y_true, y_pred)\n",
        "    recall = recall_m(y_true, y_pred)\n",
        "    return 2*((precision*recall)/(precision+recall+K.epsilon()))"
      ]
    },
    {
      "cell_type": "code",
      "execution_count": 39,
      "metadata": {
        "id": "siKT7TpkCgN0"
      },
      "outputs": [],
      "source": [
        "METRICS = [ \n",
        "      keras.metrics.BinaryAccuracy(name='accuracy'),\n",
        "      keras.metrics.Precision(name='precision'),\n",
        "      keras.metrics.Recall(name='recall'),\n",
        "      f1_m\n",
        "      #tf.keras.metrics.F1Score( name='f1_score')\n",
        "]"
      ]
    },
    {
      "cell_type": "code",
      "execution_count": 40,
      "metadata": {
        "id": "KIatUAfjCnPy"
      },
      "outputs": [],
      "source": [
        "def define_windows_test(df_x, windowsize=120):\n",
        "  window_x=[]\n",
        "  window_y=[]\n",
        "  rem = df_x.shape[0]%window_size\n",
        "  if(rem):\n",
        "    df_x = pd.concat([df_x, df_x[-(window_size-rem):]])\n",
        "   \n",
        "  for i in range(0, len(df_x)-windowsize+1, windowsize):\n",
        "    window_x.append([df_x.values[i:i+windowsize]])\n",
        "   \n",
        "  window_x=np.array(window_x).reshape(-1,windowsize,6)\n",
        "  \n",
        "  return window_x\n"
      ]
    },
    {
      "cell_type": "markdown",
      "metadata": {
        "id": "G6MS4vHX3NB_"
      },
      "source": [
        "#Data Processing part1"
      ]
    },
    {
      "cell_type": "code",
      "execution_count": null,
      "metadata": {
        "id": "NH-DpQZAStKS"
      },
      "outputs": [],
      "source": [
        "def sampler(df):\n",
        "  df_rs = []\n",
        "\n",
        "  for i in range(len(df)):\n",
        "    df_rs.append(df.iloc[i])\n",
        "  df_rs = pd.DataFrame(df_rs).reset_index()\n",
        "  df_rs.drop(['index'], inplace=True, axis=1)\n",
        "  return df_rs\n"
      ]
    },
    {
      "cell_type": "code",
      "execution_count": null,
      "metadata": {
        "id": "SNJoK_D9Pdem"
      },
      "outputs": [],
      "source": [
        "dfs = [x_1_1, x_1_2, x_1_3, x_1_4, x_1_5, x_1_6, x_1_7, x_1_8, x_2_1, x_2_2, x_2_3, x_2_4, x_2_5, x_3_1, x_3_2, x_3_3,x_4_1,x_4_2, x_5_1,x_5_2,x_5_3, x_6_1,x_6_2, x_6_3, x_7_1, x_7_2,x_7_3,x_7_4, x_8_1]\n",
        "y =   [y_1_1, y_1_2, y_1_3, y_1_4, y_1_5, y_1_6, y_1_7, y_1_8, y_2_1, y_2_2, y_2_3, y_2_4, y_2_5, y_3_1, y_3_2, y_3_3,y_4_1,y_4_2, y_5_1,y_5_2,y_5_3, y_6_1,y_6_2, y_6_3, y_7_1, y_7_2,y_7_3,y_7_4, y_8_1 ]\n",
        "\n",
        "dfs_rs = []\n",
        "\n",
        "for i in dfs:\n",
        "  dfs_rs.append(sampler(i))"
      ]
    },
    {
      "cell_type": "code",
      "execution_count": null,
      "metadata": {
        "id": "Yn8bXRYbR0da"
      },
      "outputs": [],
      "source": [
        "# for df in dfs:\n",
        "#   print(len(df)/4, end =' *')\n",
        "# print('\\n')\n",
        "# for df in dfs_rs:\n",
        "#   print(len(df), end =' *')\n",
        "# print('\\n')\n",
        "# for lab in y :\n",
        "#   print(len(lab), end=' *')"
      ]
    },
    {
      "cell_type": "code",
      "execution_count": null,
      "metadata": {
        "id": "ph0Le9EVt916"
      },
      "outputs": [],
      "source": [
        "train_data= pd.concat(dfs, ignore_index=True)"
      ]
    },
    {
      "cell_type": "code",
      "execution_count": null,
      "metadata": {
        "colab": {
          "base_uri": "https://localhost:8080/"
        },
        "id": "ryoVX62NuCpE",
        "outputId": "719bf927-5ea5-42cb-c746-c32404225994"
      },
      "outputs": [
        {
          "data": {
            "text/plain": [
              "ax          ay         az          gx         gy         gz       \n",
              "-39.150000  26.611810   11.714450   0.543123   0.361127   0.012853    1\n",
              " 2.154298   8.924636    3.997920   -1.328288   0.003709   0.206232    1\n",
              " 2.154508   2.560252    13.137300  -1.457326  -0.824083  -0.331403    1\n",
              " 2.154490   9.401936    0.068233   -1.502346  -0.380816  -0.596367    1\n",
              " 2.154478   13.189160  -4.353672   -2.959512  -0.326386   0.559960    1\n",
              "                                                                     ..\n",
              "-0.927329   9.177821    3.261090   -0.023162   0.260342   0.096838    1\n",
              "-0.927330   9.051335    4.387356   -1.267184  -0.523452   0.034028    1\n",
              "-0.927332   2.325085    10.271660   3.698228   2.419538  -0.707337    1\n",
              "-0.927338   20.448940   14.621550  -3.230504  -3.571943  -0.745651    1\n",
              " 39.390910  38.896560   3.745230   -4.786136   3.704648  -0.330202    1\n",
              "Length: 1341646, dtype: int64"
            ]
          },
          "execution_count": 11,
          "metadata": {},
          "output_type": "execute_result"
        }
      ],
      "source": [
        "train_data.value_counts()"
      ]
    },
    {
      "cell_type": "code",
      "execution_count": null,
      "metadata": {
        "id": "s9ElkeaLSh4R"
      },
      "outputs": [],
      "source": [
        "train_data= pd.concat(dfs_rs, ignore_index=True)\n",
        "labels = pd.concat(y, ignore_index=True)"
      ]
    },
    {
      "cell_type": "code",
      "execution_count": null,
      "metadata": {
        "colab": {
          "base_uri": "https://localhost:8080/",
          "height": 424
        },
        "id": "F3nR9FXzWW_3",
        "outputId": "3239aec0-89b6-4492-d3e1-d8d26fb57dd7"
      },
      "outputs": [
        {
          "data": {
            "text/html": [
              "\n",
              "  <div id=\"df-d3522a27-5c9f-4b11-9fd0-ec5c84930188\">\n",
              "    <div class=\"colab-df-container\">\n",
              "      <div>\n",
              "<style scoped>\n",
              "    .dataframe tbody tr th:only-of-type {\n",
              "        vertical-align: middle;\n",
              "    }\n",
              "\n",
              "    .dataframe tbody tr th {\n",
              "        vertical-align: top;\n",
              "    }\n",
              "\n",
              "    .dataframe thead th {\n",
              "        text-align: right;\n",
              "    }\n",
              "</style>\n",
              "<table border=\"1\" class=\"dataframe\">\n",
              "  <thead>\n",
              "    <tr style=\"text-align: right;\">\n",
              "      <th></th>\n",
              "      <th>ax</th>\n",
              "      <th>ay</th>\n",
              "      <th>az</th>\n",
              "      <th>gx</th>\n",
              "      <th>gy</th>\n",
              "      <th>gz</th>\n",
              "    </tr>\n",
              "  </thead>\n",
              "  <tbody>\n",
              "    <tr>\n",
              "      <th>0</th>\n",
              "      <td>4.186920</td>\n",
              "      <td>8.344455</td>\n",
              "      <td>2.908057</td>\n",
              "      <td>0.005771</td>\n",
              "      <td>-0.004480</td>\n",
              "      <td>-0.003345</td>\n",
              "    </tr>\n",
              "    <tr>\n",
              "      <th>1</th>\n",
              "      <td>4.226515</td>\n",
              "      <td>8.273807</td>\n",
              "      <td>2.851742</td>\n",
              "      <td>0.012534</td>\n",
              "      <td>0.000445</td>\n",
              "      <td>-0.016830</td>\n",
              "    </tr>\n",
              "    <tr>\n",
              "      <th>2</th>\n",
              "      <td>4.432763</td>\n",
              "      <td>8.272613</td>\n",
              "      <td>2.790050</td>\n",
              "      <td>-0.002715</td>\n",
              "      <td>0.023094</td>\n",
              "      <td>0.012222</td>\n",
              "    </tr>\n",
              "    <tr>\n",
              "      <th>3</th>\n",
              "      <td>4.524325</td>\n",
              "      <td>8.446963</td>\n",
              "      <td>2.874356</td>\n",
              "      <td>-0.003438</td>\n",
              "      <td>0.036310</td>\n",
              "      <td>0.045451</td>\n",
              "    </tr>\n",
              "    <tr>\n",
              "      <th>4</th>\n",
              "      <td>4.788242</td>\n",
              "      <td>8.201208</td>\n",
              "      <td>2.805275</td>\n",
              "      <td>-0.009608</td>\n",
              "      <td>0.032156</td>\n",
              "      <td>0.025749</td>\n",
              "    </tr>\n",
              "    <tr>\n",
              "      <th>...</th>\n",
              "      <td>...</td>\n",
              "      <td>...</td>\n",
              "      <td>...</td>\n",
              "      <td>...</td>\n",
              "      <td>...</td>\n",
              "      <td>...</td>\n",
              "    </tr>\n",
              "    <tr>\n",
              "      <th>335408</th>\n",
              "      <td>2.089250</td>\n",
              "      <td>8.900750</td>\n",
              "      <td>-3.539250</td>\n",
              "      <td>0.002040</td>\n",
              "      <td>0.002040</td>\n",
              "      <td>0.000990</td>\n",
              "    </tr>\n",
              "    <tr>\n",
              "      <th>335409</th>\n",
              "      <td>2.060000</td>\n",
              "      <td>8.920930</td>\n",
              "      <td>-3.540930</td>\n",
              "      <td>-0.001169</td>\n",
              "      <td>-0.004330</td>\n",
              "      <td>-0.002165</td>\n",
              "    </tr>\n",
              "    <tr>\n",
              "      <th>335410</th>\n",
              "      <td>2.051408</td>\n",
              "      <td>8.911408</td>\n",
              "      <td>-3.500704</td>\n",
              "      <td>-0.001219</td>\n",
              "      <td>0.002114</td>\n",
              "      <td>-0.000054</td>\n",
              "    </tr>\n",
              "    <tr>\n",
              "      <th>335411</th>\n",
              "      <td>2.072244</td>\n",
              "      <td>8.908878</td>\n",
              "      <td>-3.500000</td>\n",
              "      <td>0.001351</td>\n",
              "      <td>0.001191</td>\n",
              "      <td>0.001031</td>\n",
              "    </tr>\n",
              "    <tr>\n",
              "      <th>335412</th>\n",
              "      <td>2.087730</td>\n",
              "      <td>8.900000</td>\n",
              "      <td>-3.518865</td>\n",
              "      <td>0.000052</td>\n",
              "      <td>-0.001267</td>\n",
              "      <td>0.000000</td>\n",
              "    </tr>\n",
              "  </tbody>\n",
              "</table>\n",
              "<p>335413 rows × 6 columns</p>\n",
              "</div>\n",
              "      <button class=\"colab-df-convert\" onclick=\"convertToInteractive('df-d3522a27-5c9f-4b11-9fd0-ec5c84930188')\"\n",
              "              title=\"Convert this dataframe to an interactive table.\"\n",
              "              style=\"display:none;\">\n",
              "        \n",
              "  <svg xmlns=\"http://www.w3.org/2000/svg\" height=\"24px\"viewBox=\"0 0 24 24\"\n",
              "       width=\"24px\">\n",
              "    <path d=\"M0 0h24v24H0V0z\" fill=\"none\"/>\n",
              "    <path d=\"M18.56 5.44l.94 2.06.94-2.06 2.06-.94-2.06-.94-.94-2.06-.94 2.06-2.06.94zm-11 1L8.5 8.5l.94-2.06 2.06-.94-2.06-.94L8.5 2.5l-.94 2.06-2.06.94zm10 10l.94 2.06.94-2.06 2.06-.94-2.06-.94-.94-2.06-.94 2.06-2.06.94z\"/><path d=\"M17.41 7.96l-1.37-1.37c-.4-.4-.92-.59-1.43-.59-.52 0-1.04.2-1.43.59L10.3 9.45l-7.72 7.72c-.78.78-.78 2.05 0 2.83L4 21.41c.39.39.9.59 1.41.59.51 0 1.02-.2 1.41-.59l7.78-7.78 2.81-2.81c.8-.78.8-2.07 0-2.86zM5.41 20L4 18.59l7.72-7.72 1.47 1.35L5.41 20z\"/>\n",
              "  </svg>\n",
              "      </button>\n",
              "      \n",
              "  <style>\n",
              "    .colab-df-container {\n",
              "      display:flex;\n",
              "      flex-wrap:wrap;\n",
              "      gap: 12px;\n",
              "    }\n",
              "\n",
              "    .colab-df-convert {\n",
              "      background-color: #E8F0FE;\n",
              "      border: none;\n",
              "      border-radius: 50%;\n",
              "      cursor: pointer;\n",
              "      display: none;\n",
              "      fill: #1967D2;\n",
              "      height: 32px;\n",
              "      padding: 0 0 0 0;\n",
              "      width: 32px;\n",
              "    }\n",
              "\n",
              "    .colab-df-convert:hover {\n",
              "      background-color: #E2EBFA;\n",
              "      box-shadow: 0px 1px 2px rgba(60, 64, 67, 0.3), 0px 1px 3px 1px rgba(60, 64, 67, 0.15);\n",
              "      fill: #174EA6;\n",
              "    }\n",
              "\n",
              "    [theme=dark] .colab-df-convert {\n",
              "      background-color: #3B4455;\n",
              "      fill: #D2E3FC;\n",
              "    }\n",
              "\n",
              "    [theme=dark] .colab-df-convert:hover {\n",
              "      background-color: #434B5C;\n",
              "      box-shadow: 0px 1px 3px 1px rgba(0, 0, 0, 0.15);\n",
              "      filter: drop-shadow(0px 1px 2px rgba(0, 0, 0, 0.3));\n",
              "      fill: #FFFFFF;\n",
              "    }\n",
              "  </style>\n",
              "\n",
              "      <script>\n",
              "        const buttonEl =\n",
              "          document.querySelector('#df-d3522a27-5c9f-4b11-9fd0-ec5c84930188 button.colab-df-convert');\n",
              "        buttonEl.style.display =\n",
              "          google.colab.kernel.accessAllowed ? 'block' : 'none';\n",
              "\n",
              "        async function convertToInteractive(key) {\n",
              "          const element = document.querySelector('#df-d3522a27-5c9f-4b11-9fd0-ec5c84930188');\n",
              "          const dataTable =\n",
              "            await google.colab.kernel.invokeFunction('convertToInteractive',\n",
              "                                                     [key], {});\n",
              "          if (!dataTable) return;\n",
              "\n",
              "          const docLinkHtml = 'Like what you see? Visit the ' +\n",
              "            '<a target=\"_blank\" href=https://colab.research.google.com/notebooks/data_table.ipynb>data table notebook</a>'\n",
              "            + ' to learn more about interactive tables.';\n",
              "          element.innerHTML = '';\n",
              "          dataTable['output_type'] = 'display_data';\n",
              "          await google.colab.output.renderOutput(dataTable, element);\n",
              "          const docLink = document.createElement('div');\n",
              "          docLink.innerHTML = docLinkHtml;\n",
              "          element.appendChild(docLink);\n",
              "        }\n",
              "      </script>\n",
              "    </div>\n",
              "  </div>\n",
              "  "
            ],
            "text/plain": [
              "              ax        ay        az        gx        gy        gz\n",
              "0       4.186920  8.344455  2.908057  0.005771 -0.004480 -0.003345\n",
              "1       4.226515  8.273807  2.851742  0.012534  0.000445 -0.016830\n",
              "2       4.432763  8.272613  2.790050 -0.002715  0.023094  0.012222\n",
              "3       4.524325  8.446963  2.874356 -0.003438  0.036310  0.045451\n",
              "4       4.788242  8.201208  2.805275 -0.009608  0.032156  0.025749\n",
              "...          ...       ...       ...       ...       ...       ...\n",
              "335408  2.089250  8.900750 -3.539250  0.002040  0.002040  0.000990\n",
              "335409  2.060000  8.920930 -3.540930 -0.001169 -0.004330 -0.002165\n",
              "335410  2.051408  8.911408 -3.500704 -0.001219  0.002114 -0.000054\n",
              "335411  2.072244  8.908878 -3.500000  0.001351  0.001191  0.001031\n",
              "335412  2.087730  8.900000 -3.518865  0.000052 -0.001267  0.000000\n",
              "\n",
              "[335413 rows x 6 columns]"
            ]
          },
          "execution_count": 7,
          "metadata": {},
          "output_type": "execute_result"
        }
      ],
      "source": [
        "train_data"
      ]
    },
    {
      "cell_type": "code",
      "execution_count": null,
      "metadata": {
        "colab": {
          "base_uri": "https://localhost:8080/"
        },
        "id": "JaoiRfYCWYR-",
        "outputId": "535dfb21-c3a9-462b-a192-833e7cf218d6"
      },
      "outputs": [
        {
          "name": "stdout",
          "output_type": "stream",
          "text": [
            "(335413, 6)\n",
            "(335413, 1)\n"
          ]
        }
      ],
      "source": [
        "print(train_data.shape)\n",
        "print(labels.shape)"
      ]
    },
    {
      "cell_type": "code",
      "execution_count": null,
      "metadata": {
        "id": "BGsOYA-LW6Uk"
      },
      "outputs": [],
      "source": [
        "from sklearn.model_selection import train_test_split\n",
        "from sklearn.preprocessing import StandardScaler\n",
        "test_size = 0.3\n",
        "random_seed=69\n",
        "train_data_normalized  = StandardScaler().fit_transform(train_data)\n",
        "X_train, X_test, Y_train, Y_test = train_test_split(train_data_normalized, labels, test_size=test_size, random_state=random_seed)"
      ]
    },
    {
      "cell_type": "code",
      "execution_count": null,
      "metadata": {
        "colab": {
          "base_uri": "https://localhost:8080/",
          "height": 206
        },
        "id": "TnHRQPumYWRj",
        "outputId": "1e44e93a-50e4-43e3-ba17-5d71a5e78717"
      },
      "outputs": [
        {
          "data": {
            "text/html": [
              "\n",
              "  <div id=\"df-8d9e0870-1c5e-475b-846e-50a3409a3996\">\n",
              "    <div class=\"colab-df-container\">\n",
              "      <div>\n",
              "<style scoped>\n",
              "    .dataframe tbody tr th:only-of-type {\n",
              "        vertical-align: middle;\n",
              "    }\n",
              "\n",
              "    .dataframe tbody tr th {\n",
              "        vertical-align: top;\n",
              "    }\n",
              "\n",
              "    .dataframe thead th {\n",
              "        text-align: right;\n",
              "    }\n",
              "</style>\n",
              "<table border=\"1\" class=\"dataframe\">\n",
              "  <thead>\n",
              "    <tr style=\"text-align: right;\">\n",
              "      <th></th>\n",
              "      <th>0</th>\n",
              "      <th>1</th>\n",
              "      <th>2</th>\n",
              "      <th>3</th>\n",
              "      <th>4</th>\n",
              "      <th>5</th>\n",
              "    </tr>\n",
              "  </thead>\n",
              "  <tbody>\n",
              "    <tr>\n",
              "      <th>0</th>\n",
              "      <td>0.620981</td>\n",
              "      <td>0.044723</td>\n",
              "      <td>-0.566207</td>\n",
              "      <td>0.000279</td>\n",
              "      <td>-0.016690</td>\n",
              "      <td>0.084471</td>\n",
              "    </tr>\n",
              "    <tr>\n",
              "      <th>1</th>\n",
              "      <td>0.627886</td>\n",
              "      <td>0.034436</td>\n",
              "      <td>-0.576305</td>\n",
              "      <td>0.002381</td>\n",
              "      <td>-0.013542</td>\n",
              "      <td>0.066948</td>\n",
              "    </tr>\n",
              "    <tr>\n",
              "      <th>2</th>\n",
              "      <td>0.663852</td>\n",
              "      <td>0.034262</td>\n",
              "      <td>-0.587368</td>\n",
              "      <td>-0.002359</td>\n",
              "      <td>0.000930</td>\n",
              "      <td>0.104700</td>\n",
              "    </tr>\n",
              "    <tr>\n",
              "      <th>3</th>\n",
              "      <td>0.679819</td>\n",
              "      <td>0.059650</td>\n",
              "      <td>-0.572250</td>\n",
              "      <td>-0.002584</td>\n",
              "      <td>0.009376</td>\n",
              "      <td>0.147879</td>\n",
              "    </tr>\n",
              "    <tr>\n",
              "      <th>4</th>\n",
              "      <td>0.725842</td>\n",
              "      <td>0.023864</td>\n",
              "      <td>-0.584637</td>\n",
              "      <td>-0.004502</td>\n",
              "      <td>0.006721</td>\n",
              "      <td>0.122277</td>\n",
              "    </tr>\n",
              "  </tbody>\n",
              "</table>\n",
              "</div>\n",
              "      <button class=\"colab-df-convert\" onclick=\"convertToInteractive('df-8d9e0870-1c5e-475b-846e-50a3409a3996')\"\n",
              "              title=\"Convert this dataframe to an interactive table.\"\n",
              "              style=\"display:none;\">\n",
              "        \n",
              "  <svg xmlns=\"http://www.w3.org/2000/svg\" height=\"24px\"viewBox=\"0 0 24 24\"\n",
              "       width=\"24px\">\n",
              "    <path d=\"M0 0h24v24H0V0z\" fill=\"none\"/>\n",
              "    <path d=\"M18.56 5.44l.94 2.06.94-2.06 2.06-.94-2.06-.94-.94-2.06-.94 2.06-2.06.94zm-11 1L8.5 8.5l.94-2.06 2.06-.94-2.06-.94L8.5 2.5l-.94 2.06-2.06.94zm10 10l.94 2.06.94-2.06 2.06-.94-2.06-.94-.94-2.06-.94 2.06-2.06.94z\"/><path d=\"M17.41 7.96l-1.37-1.37c-.4-.4-.92-.59-1.43-.59-.52 0-1.04.2-1.43.59L10.3 9.45l-7.72 7.72c-.78.78-.78 2.05 0 2.83L4 21.41c.39.39.9.59 1.41.59.51 0 1.02-.2 1.41-.59l7.78-7.78 2.81-2.81c.8-.78.8-2.07 0-2.86zM5.41 20L4 18.59l7.72-7.72 1.47 1.35L5.41 20z\"/>\n",
              "  </svg>\n",
              "      </button>\n",
              "      \n",
              "  <style>\n",
              "    .colab-df-container {\n",
              "      display:flex;\n",
              "      flex-wrap:wrap;\n",
              "      gap: 12px;\n",
              "    }\n",
              "\n",
              "    .colab-df-convert {\n",
              "      background-color: #E8F0FE;\n",
              "      border: none;\n",
              "      border-radius: 50%;\n",
              "      cursor: pointer;\n",
              "      display: none;\n",
              "      fill: #1967D2;\n",
              "      height: 32px;\n",
              "      padding: 0 0 0 0;\n",
              "      width: 32px;\n",
              "    }\n",
              "\n",
              "    .colab-df-convert:hover {\n",
              "      background-color: #E2EBFA;\n",
              "      box-shadow: 0px 1px 2px rgba(60, 64, 67, 0.3), 0px 1px 3px 1px rgba(60, 64, 67, 0.15);\n",
              "      fill: #174EA6;\n",
              "    }\n",
              "\n",
              "    [theme=dark] .colab-df-convert {\n",
              "      background-color: #3B4455;\n",
              "      fill: #D2E3FC;\n",
              "    }\n",
              "\n",
              "    [theme=dark] .colab-df-convert:hover {\n",
              "      background-color: #434B5C;\n",
              "      box-shadow: 0px 1px 3px 1px rgba(0, 0, 0, 0.15);\n",
              "      filter: drop-shadow(0px 1px 2px rgba(0, 0, 0, 0.3));\n",
              "      fill: #FFFFFF;\n",
              "    }\n",
              "  </style>\n",
              "\n",
              "      <script>\n",
              "        const buttonEl =\n",
              "          document.querySelector('#df-8d9e0870-1c5e-475b-846e-50a3409a3996 button.colab-df-convert');\n",
              "        buttonEl.style.display =\n",
              "          google.colab.kernel.accessAllowed ? 'block' : 'none';\n",
              "\n",
              "        async function convertToInteractive(key) {\n",
              "          const element = document.querySelector('#df-8d9e0870-1c5e-475b-846e-50a3409a3996');\n",
              "          const dataTable =\n",
              "            await google.colab.kernel.invokeFunction('convertToInteractive',\n",
              "                                                     [key], {});\n",
              "          if (!dataTable) return;\n",
              "\n",
              "          const docLinkHtml = 'Like what you see? Visit the ' +\n",
              "            '<a target=\"_blank\" href=https://colab.research.google.com/notebooks/data_table.ipynb>data table notebook</a>'\n",
              "            + ' to learn more about interactive tables.';\n",
              "          element.innerHTML = '';\n",
              "          dataTable['output_type'] = 'display_data';\n",
              "          await google.colab.output.renderOutput(dataTable, element);\n",
              "          const docLink = document.createElement('div');\n",
              "          docLink.innerHTML = docLinkHtml;\n",
              "          element.appendChild(docLink);\n",
              "        }\n",
              "      </script>\n",
              "    </div>\n",
              "  </div>\n",
              "  "
            ],
            "text/plain": [
              "          0         1         2         3         4         5\n",
              "0  0.620981  0.044723 -0.566207  0.000279 -0.016690  0.084471\n",
              "1  0.627886  0.034436 -0.576305  0.002381 -0.013542  0.066948\n",
              "2  0.663852  0.034262 -0.587368 -0.002359  0.000930  0.104700\n",
              "3  0.679819  0.059650 -0.572250 -0.002584  0.009376  0.147879\n",
              "4  0.725842  0.023864 -0.584637 -0.004502  0.006721  0.122277"
            ]
          },
          "execution_count": 10,
          "metadata": {},
          "output_type": "execute_result"
        }
      ],
      "source": [
        "pd.DataFrame(train_data_normalized).head()"
      ]
    },
    {
      "cell_type": "code",
      "execution_count": null,
      "metadata": {
        "colab": {
          "base_uri": "https://localhost:8080/"
        },
        "id": "utHqblxw73S_",
        "outputId": "2c7ee8a1-7b9b-43cc-ea36-c71ce124629e"
      },
      "outputs": [
        {
          "data": {
            "text/plain": [
              "(234789, 234789)"
            ]
          },
          "execution_count": 11,
          "metadata": {},
          "output_type": "execute_result"
        }
      ],
      "source": [
        "len(X_train), len(Y_train)"
      ]
    },
    {
      "cell_type": "markdown",
      "metadata": {
        "id": "4sQA7mo3OObo"
      },
      "source": [
        "##Undersampling"
      ]
    },
    {
      "cell_type": "code",
      "execution_count": null,
      "metadata": {
        "colab": {
          "base_uri": "https://localhost:8080/"
        },
        "id": "0gOkka0475iu",
        "outputId": "bff53244-f937-44d7-c1e9-601ef3879c8a"
      },
      "outputs": [
        {
          "data": {
            "text/plain": [
              "234789"
            ]
          },
          "execution_count": 14,
          "metadata": {},
          "output_type": "execute_result"
        }
      ],
      "source": [
        "data = pd.concat([pd.DataFrame(X_train).reset_index(drop=True), pd.DataFrame(Y_train).reset_index(drop=True)], axis=1)\n",
        "len(data)"
      ]
    },
    {
      "cell_type": "code",
      "execution_count": null,
      "metadata": {
        "colab": {
          "base_uri": "https://localhost:8080/"
        },
        "id": "lnJpg-Rq75fv",
        "outputId": "0a48421e-34ac-4638-c939-dc709222d99c"
      },
      "outputs": [
        {
          "data": {
            "text/plain": [
              "0    176335\n",
              "3     36055\n",
              "2     12784\n",
              "1      9615\n",
              "Name: target, dtype: int64"
            ]
          },
          "execution_count": 23,
          "metadata": {},
          "output_type": "execute_result"
        }
      ],
      "source": [
        "data['target'].value_counts()"
      ]
    },
    {
      "cell_type": "code",
      "execution_count": null,
      "metadata": {
        "colab": {
          "base_uri": "https://localhost:8080/",
          "height": 206
        },
        "id": "UCkWSfkN-Qpc",
        "outputId": "da270507-a329-483a-8f79-8a2046215bb5"
      },
      "outputs": [
        {
          "data": {
            "text/html": [
              "\n",
              "  <div id=\"df-883c5e24-7931-4383-96b5-9fcd3519c9cc\">\n",
              "    <div class=\"colab-df-container\">\n",
              "      <div>\n",
              "<style scoped>\n",
              "    .dataframe tbody tr th:only-of-type {\n",
              "        vertical-align: middle;\n",
              "    }\n",
              "\n",
              "    .dataframe tbody tr th {\n",
              "        vertical-align: top;\n",
              "    }\n",
              "\n",
              "    .dataframe thead th {\n",
              "        text-align: right;\n",
              "    }\n",
              "</style>\n",
              "<table border=\"1\" class=\"dataframe\">\n",
              "  <thead>\n",
              "    <tr style=\"text-align: right;\">\n",
              "      <th></th>\n",
              "      <th>0</th>\n",
              "      <th>1</th>\n",
              "      <th>2</th>\n",
              "      <th>3</th>\n",
              "      <th>4</th>\n",
              "      <th>5</th>\n",
              "      <th>target</th>\n",
              "    </tr>\n",
              "  </thead>\n",
              "  <tbody>\n",
              "    <tr>\n",
              "      <th>0</th>\n",
              "      <td>0.396758</td>\n",
              "      <td>-0.408833</td>\n",
              "      <td>-0.736130</td>\n",
              "      <td>0.191758</td>\n",
              "      <td>0.341193</td>\n",
              "      <td>0.397984</td>\n",
              "      <td>1</td>\n",
              "    </tr>\n",
              "    <tr>\n",
              "      <th>1</th>\n",
              "      <td>-0.690841</td>\n",
              "      <td>-2.010814</td>\n",
              "      <td>0.964440</td>\n",
              "      <td>0.700602</td>\n",
              "      <td>0.067292</td>\n",
              "      <td>-0.049035</td>\n",
              "      <td>1</td>\n",
              "    </tr>\n",
              "    <tr>\n",
              "      <th>2</th>\n",
              "      <td>1.923873</td>\n",
              "      <td>2.550412</td>\n",
              "      <td>-1.185562</td>\n",
              "      <td>-0.723707</td>\n",
              "      <td>0.829994</td>\n",
              "      <td>0.250512</td>\n",
              "      <td>1</td>\n",
              "    </tr>\n",
              "    <tr>\n",
              "      <th>3</th>\n",
              "      <td>-0.925036</td>\n",
              "      <td>-0.459997</td>\n",
              "      <td>0.662347</td>\n",
              "      <td>-0.389151</td>\n",
              "      <td>-1.317807</td>\n",
              "      <td>-0.570593</td>\n",
              "      <td>1</td>\n",
              "    </tr>\n",
              "    <tr>\n",
              "      <th>4</th>\n",
              "      <td>1.103715</td>\n",
              "      <td>-0.516954</td>\n",
              "      <td>0.236976</td>\n",
              "      <td>-0.391268</td>\n",
              "      <td>-0.622339</td>\n",
              "      <td>-0.390030</td>\n",
              "      <td>1</td>\n",
              "    </tr>\n",
              "  </tbody>\n",
              "</table>\n",
              "</div>\n",
              "      <button class=\"colab-df-convert\" onclick=\"convertToInteractive('df-883c5e24-7931-4383-96b5-9fcd3519c9cc')\"\n",
              "              title=\"Convert this dataframe to an interactive table.\"\n",
              "              style=\"display:none;\">\n",
              "        \n",
              "  <svg xmlns=\"http://www.w3.org/2000/svg\" height=\"24px\"viewBox=\"0 0 24 24\"\n",
              "       width=\"24px\">\n",
              "    <path d=\"M0 0h24v24H0V0z\" fill=\"none\"/>\n",
              "    <path d=\"M18.56 5.44l.94 2.06.94-2.06 2.06-.94-2.06-.94-.94-2.06-.94 2.06-2.06.94zm-11 1L8.5 8.5l.94-2.06 2.06-.94-2.06-.94L8.5 2.5l-.94 2.06-2.06.94zm10 10l.94 2.06.94-2.06 2.06-.94-2.06-.94-.94-2.06-.94 2.06-2.06.94z\"/><path d=\"M17.41 7.96l-1.37-1.37c-.4-.4-.92-.59-1.43-.59-.52 0-1.04.2-1.43.59L10.3 9.45l-7.72 7.72c-.78.78-.78 2.05 0 2.83L4 21.41c.39.39.9.59 1.41.59.51 0 1.02-.2 1.41-.59l7.78-7.78 2.81-2.81c.8-.78.8-2.07 0-2.86zM5.41 20L4 18.59l7.72-7.72 1.47 1.35L5.41 20z\"/>\n",
              "  </svg>\n",
              "      </button>\n",
              "      \n",
              "  <style>\n",
              "    .colab-df-container {\n",
              "      display:flex;\n",
              "      flex-wrap:wrap;\n",
              "      gap: 12px;\n",
              "    }\n",
              "\n",
              "    .colab-df-convert {\n",
              "      background-color: #E8F0FE;\n",
              "      border: none;\n",
              "      border-radius: 50%;\n",
              "      cursor: pointer;\n",
              "      display: none;\n",
              "      fill: #1967D2;\n",
              "      height: 32px;\n",
              "      padding: 0 0 0 0;\n",
              "      width: 32px;\n",
              "    }\n",
              "\n",
              "    .colab-df-convert:hover {\n",
              "      background-color: #E2EBFA;\n",
              "      box-shadow: 0px 1px 2px rgba(60, 64, 67, 0.3), 0px 1px 3px 1px rgba(60, 64, 67, 0.15);\n",
              "      fill: #174EA6;\n",
              "    }\n",
              "\n",
              "    [theme=dark] .colab-df-convert {\n",
              "      background-color: #3B4455;\n",
              "      fill: #D2E3FC;\n",
              "    }\n",
              "\n",
              "    [theme=dark] .colab-df-convert:hover {\n",
              "      background-color: #434B5C;\n",
              "      box-shadow: 0px 1px 3px 1px rgba(0, 0, 0, 0.15);\n",
              "      filter: drop-shadow(0px 1px 2px rgba(0, 0, 0, 0.3));\n",
              "      fill: #FFFFFF;\n",
              "    }\n",
              "  </style>\n",
              "\n",
              "      <script>\n",
              "        const buttonEl =\n",
              "          document.querySelector('#df-883c5e24-7931-4383-96b5-9fcd3519c9cc button.colab-df-convert');\n",
              "        buttonEl.style.display =\n",
              "          google.colab.kernel.accessAllowed ? 'block' : 'none';\n",
              "\n",
              "        async function convertToInteractive(key) {\n",
              "          const element = document.querySelector('#df-883c5e24-7931-4383-96b5-9fcd3519c9cc');\n",
              "          const dataTable =\n",
              "            await google.colab.kernel.invokeFunction('convertToInteractive',\n",
              "                                                     [key], {});\n",
              "          if (!dataTable) return;\n",
              "\n",
              "          const docLinkHtml = 'Like what you see? Visit the ' +\n",
              "            '<a target=\"_blank\" href=https://colab.research.google.com/notebooks/data_table.ipynb>data table notebook</a>'\n",
              "            + ' to learn more about interactive tables.';\n",
              "          element.innerHTML = '';\n",
              "          dataTable['output_type'] = 'display_data';\n",
              "          await google.colab.output.renderOutput(dataTable, element);\n",
              "          const docLink = document.createElement('div');\n",
              "          docLink.innerHTML = docLinkHtml;\n",
              "          element.appendChild(docLink);\n",
              "        }\n",
              "      </script>\n",
              "    </div>\n",
              "  </div>\n",
              "  "
            ],
            "text/plain": [
              "          0         1         2         3         4         5  target\n",
              "0  0.396758 -0.408833 -0.736130  0.191758  0.341193  0.397984       1\n",
              "1 -0.690841 -2.010814  0.964440  0.700602  0.067292 -0.049035       1\n",
              "2  1.923873  2.550412 -1.185562 -0.723707  0.829994  0.250512       1\n",
              "3 -0.925036 -0.459997  0.662347 -0.389151 -1.317807 -0.570593       1\n",
              "4  1.103715 -0.516954  0.236976 -0.391268 -0.622339 -0.390030       1"
            ]
          },
          "execution_count": 34,
          "metadata": {},
          "output_type": "execute_result"
        }
      ],
      "source": [
        "temp = data.loc[data['target'] == 1].sample(5000).reset_index(drop=True)\n",
        "temp.head()\n"
      ]
    },
    {
      "cell_type": "code",
      "execution_count": null,
      "metadata": {
        "colab": {
          "base_uri": "https://localhost:8080/",
          "height": 206
        },
        "id": "EFQTJqOZ75be",
        "outputId": "a984e3b7-7a09-403c-ff5c-510215eb14f9"
      },
      "outputs": [
        {
          "data": {
            "text/html": [
              "\n",
              "  <div id=\"df-0c7b1a0a-dc94-4149-b335-ea4d9d2e80d4\">\n",
              "    <div class=\"colab-df-container\">\n",
              "      <div>\n",
              "<style scoped>\n",
              "    .dataframe tbody tr th:only-of-type {\n",
              "        vertical-align: middle;\n",
              "    }\n",
              "\n",
              "    .dataframe tbody tr th {\n",
              "        vertical-align: top;\n",
              "    }\n",
              "\n",
              "    .dataframe thead th {\n",
              "        text-align: right;\n",
              "    }\n",
              "</style>\n",
              "<table border=\"1\" class=\"dataframe\">\n",
              "  <thead>\n",
              "    <tr style=\"text-align: right;\">\n",
              "      <th></th>\n",
              "      <th>0</th>\n",
              "      <th>1</th>\n",
              "      <th>2</th>\n",
              "      <th>3</th>\n",
              "      <th>4</th>\n",
              "      <th>5</th>\n",
              "      <th>target</th>\n",
              "    </tr>\n",
              "  </thead>\n",
              "  <tbody>\n",
              "    <tr>\n",
              "      <th>0</th>\n",
              "      <td>-2.264828</td>\n",
              "      <td>1.564912</td>\n",
              "      <td>1.898998</td>\n",
              "      <td>-0.862400</td>\n",
              "      <td>-2.000720</td>\n",
              "      <td>-1.092734</td>\n",
              "      <td>0.0</td>\n",
              "    </tr>\n",
              "    <tr>\n",
              "      <th>1</th>\n",
              "      <td>2.638363</td>\n",
              "      <td>2.080911</td>\n",
              "      <td>-0.471858</td>\n",
              "      <td>-1.090534</td>\n",
              "      <td>0.103530</td>\n",
              "      <td>0.997458</td>\n",
              "      <td>0.0</td>\n",
              "    </tr>\n",
              "    <tr>\n",
              "      <th>2</th>\n",
              "      <td>0.014941</td>\n",
              "      <td>0.038335</td>\n",
              "      <td>-0.384942</td>\n",
              "      <td>-0.420937</td>\n",
              "      <td>0.046453</td>\n",
              "      <td>0.242483</td>\n",
              "      <td>0.0</td>\n",
              "    </tr>\n",
              "    <tr>\n",
              "      <th>3</th>\n",
              "      <td>1.268665</td>\n",
              "      <td>1.459342</td>\n",
              "      <td>-1.946300</td>\n",
              "      <td>-1.081731</td>\n",
              "      <td>-1.470213</td>\n",
              "      <td>-0.325928</td>\n",
              "      <td>0.0</td>\n",
              "    </tr>\n",
              "    <tr>\n",
              "      <th>4</th>\n",
              "      <td>0.765295</td>\n",
              "      <td>0.274861</td>\n",
              "      <td>-0.500403</td>\n",
              "      <td>-0.199959</td>\n",
              "      <td>0.396779</td>\n",
              "      <td>0.265837</td>\n",
              "      <td>0.0</td>\n",
              "    </tr>\n",
              "  </tbody>\n",
              "</table>\n",
              "</div>\n",
              "      <button class=\"colab-df-convert\" onclick=\"convertToInteractive('df-0c7b1a0a-dc94-4149-b335-ea4d9d2e80d4')\"\n",
              "              title=\"Convert this dataframe to an interactive table.\"\n",
              "              style=\"display:none;\">\n",
              "        \n",
              "  <svg xmlns=\"http://www.w3.org/2000/svg\" height=\"24px\"viewBox=\"0 0 24 24\"\n",
              "       width=\"24px\">\n",
              "    <path d=\"M0 0h24v24H0V0z\" fill=\"none\"/>\n",
              "    <path d=\"M18.56 5.44l.94 2.06.94-2.06 2.06-.94-2.06-.94-.94-2.06-.94 2.06-2.06.94zm-11 1L8.5 8.5l.94-2.06 2.06-.94-2.06-.94L8.5 2.5l-.94 2.06-2.06.94zm10 10l.94 2.06.94-2.06 2.06-.94-2.06-.94-.94-2.06-.94 2.06-2.06.94z\"/><path d=\"M17.41 7.96l-1.37-1.37c-.4-.4-.92-.59-1.43-.59-.52 0-1.04.2-1.43.59L10.3 9.45l-7.72 7.72c-.78.78-.78 2.05 0 2.83L4 21.41c.39.39.9.59 1.41.59.51 0 1.02-.2 1.41-.59l7.78-7.78 2.81-2.81c.8-.78.8-2.07 0-2.86zM5.41 20L4 18.59l7.72-7.72 1.47 1.35L5.41 20z\"/>\n",
              "  </svg>\n",
              "      </button>\n",
              "      \n",
              "  <style>\n",
              "    .colab-df-container {\n",
              "      display:flex;\n",
              "      flex-wrap:wrap;\n",
              "      gap: 12px;\n",
              "    }\n",
              "\n",
              "    .colab-df-convert {\n",
              "      background-color: #E8F0FE;\n",
              "      border: none;\n",
              "      border-radius: 50%;\n",
              "      cursor: pointer;\n",
              "      display: none;\n",
              "      fill: #1967D2;\n",
              "      height: 32px;\n",
              "      padding: 0 0 0 0;\n",
              "      width: 32px;\n",
              "    }\n",
              "\n",
              "    .colab-df-convert:hover {\n",
              "      background-color: #E2EBFA;\n",
              "      box-shadow: 0px 1px 2px rgba(60, 64, 67, 0.3), 0px 1px 3px 1px rgba(60, 64, 67, 0.15);\n",
              "      fill: #174EA6;\n",
              "    }\n",
              "\n",
              "    [theme=dark] .colab-df-convert {\n",
              "      background-color: #3B4455;\n",
              "      fill: #D2E3FC;\n",
              "    }\n",
              "\n",
              "    [theme=dark] .colab-df-convert:hover {\n",
              "      background-color: #434B5C;\n",
              "      box-shadow: 0px 1px 3px 1px rgba(0, 0, 0, 0.15);\n",
              "      filter: drop-shadow(0px 1px 2px rgba(0, 0, 0, 0.3));\n",
              "      fill: #FFFFFF;\n",
              "    }\n",
              "  </style>\n",
              "\n",
              "      <script>\n",
              "        const buttonEl =\n",
              "          document.querySelector('#df-0c7b1a0a-dc94-4149-b335-ea4d9d2e80d4 button.colab-df-convert');\n",
              "        buttonEl.style.display =\n",
              "          google.colab.kernel.accessAllowed ? 'block' : 'none';\n",
              "\n",
              "        async function convertToInteractive(key) {\n",
              "          const element = document.querySelector('#df-0c7b1a0a-dc94-4149-b335-ea4d9d2e80d4');\n",
              "          const dataTable =\n",
              "            await google.colab.kernel.invokeFunction('convertToInteractive',\n",
              "                                                     [key], {});\n",
              "          if (!dataTable) return;\n",
              "\n",
              "          const docLinkHtml = 'Like what you see? Visit the ' +\n",
              "            '<a target=\"_blank\" href=https://colab.research.google.com/notebooks/data_table.ipynb>data table notebook</a>'\n",
              "            + ' to learn more about interactive tables.';\n",
              "          element.innerHTML = '';\n",
              "          dataTable['output_type'] = 'display_data';\n",
              "          await google.colab.output.renderOutput(dataTable, element);\n",
              "          const docLink = document.createElement('div');\n",
              "          docLink.innerHTML = docLinkHtml;\n",
              "          element.appendChild(docLink);\n",
              "        }\n",
              "      </script>\n",
              "    </div>\n",
              "  </div>\n",
              "  "
            ],
            "text/plain": [
              "          0         1         2         3         4         5  target\n",
              "0 -2.264828  1.564912  1.898998 -0.862400 -2.000720 -1.092734     0.0\n",
              "1  2.638363  2.080911 -0.471858 -1.090534  0.103530  0.997458     0.0\n",
              "2  0.014941  0.038335 -0.384942 -0.420937  0.046453  0.242483     0.0\n",
              "3  1.268665  1.459342 -1.946300 -1.081731 -1.470213 -0.325928     0.0\n",
              "4  0.765295  0.274861 -0.500403 -0.199959  0.396779  0.265837     0.0"
            ]
          },
          "execution_count": 60,
          "metadata": {},
          "output_type": "execute_result"
        }
      ],
      "source": [
        "targets = data['target'].unique()\n",
        "us_data = []\n",
        "for target in targets:\n",
        "  temp = data.loc[data['target'] == target].sample(12000, replace=True).reset_index(drop=True)\n",
        "  for row in range(len(temp)):\n",
        "    us_data.append(temp.iloc[row])\n",
        "us_data = pd.DataFrame(us_data)\n",
        "us_data.head()"
      ]
    },
    {
      "cell_type": "code",
      "execution_count": null,
      "metadata": {
        "colab": {
          "base_uri": "https://localhost:8080/"
        },
        "id": "6j02ymjE75X-",
        "outputId": "9dc12a3a-8f9b-4884-c16b-68bddd3e47a5"
      },
      "outputs": [
        {
          "data": {
            "text/plain": [
              "0.0    12000\n",
              "3.0    12000\n",
              "1.0    12000\n",
              "2.0    12000\n",
              "Name: target, dtype: int64"
            ]
          },
          "execution_count": 61,
          "metadata": {},
          "output_type": "execute_result"
        }
      ],
      "source": [
        "us_data['target'].value_counts()"
      ]
    },
    {
      "cell_type": "code",
      "execution_count": null,
      "metadata": {
        "id": "iqT-_R6h75UO"
      },
      "outputs": [],
      "source": [
        "X_train = us_data.drop(['target'], axis=1)\n",
        "Y_train = us_data['target']"
      ]
    },
    {
      "cell_type": "markdown",
      "metadata": {
        "id": "z3x2RVwYOTjX"
      },
      "source": [
        "## Model"
      ]
    },
    {
      "cell_type": "code",
      "execution_count": null,
      "metadata": {
        "id": "4LIzxrlNXc4p"
      },
      "outputs": [],
      "source": [
        "from sklearn.tree import DecisionTreeClassifier\n",
        "model = DecisionTreeClassifier(random_state=random_seed).fit(X_train,Y_train)"
      ]
    },
    {
      "cell_type": "code",
      "execution_count": null,
      "metadata": {
        "id": "2qhqnZ7uYVr-"
      },
      "outputs": [],
      "source": [
        "preds = model.predict(X_test)"
      ]
    },
    {
      "cell_type": "code",
      "execution_count": null,
      "metadata": {
        "id": "AsCHI1B0aL90"
      },
      "outputs": [],
      "source": [
        "res = model.score(X_test,Y_test)"
      ]
    },
    {
      "cell_type": "code",
      "execution_count": null,
      "metadata": {
        "colab": {
          "base_uri": "https://localhost:8080/"
        },
        "id": "ONgW0n-7aUE0",
        "outputId": "cf003176-fe29-4f44-93ba-eb49fb6cc6f3"
      },
      "outputs": [
        {
          "data": {
            "text/plain": [
              "0.6855819685164573"
            ]
          },
          "execution_count": 15,
          "metadata": {},
          "output_type": "execute_result"
        }
      ],
      "source": [
        "res"
      ]
    },
    {
      "cell_type": "code",
      "execution_count": null,
      "metadata": {
        "colab": {
          "base_uri": "https://localhost:8080/"
        },
        "id": "7RrK9tA2ahtu",
        "outputId": "2629b951-8b2b-453e-b9ea-8bfe2b4061f7"
      },
      "outputs": [
        {
          "data": {
            "text/plain": [
              "array([1., 3., 0., ..., 1., 3., 0.])"
            ]
          },
          "execution_count": 67,
          "metadata": {},
          "output_type": "execute_result"
        }
      ],
      "source": [
        "preds"
      ]
    },
    {
      "cell_type": "code",
      "execution_count": null,
      "metadata": {
        "colab": {
          "base_uri": "https://localhost:8080/"
        },
        "id": "7XUCSXxea6I_",
        "outputId": "d4925241-c81b-43a4-f2d5-096249ffe746"
      },
      "outputs": [
        {
          "data": {
            "text/plain": [
              "0.47692204749293127"
            ]
          },
          "execution_count": 16,
          "metadata": {},
          "output_type": "execute_result"
        }
      ],
      "source": [
        "from sklearn.metrics import f1_score\n",
        "f1_score(Y_test.target, preds, average='macro')"
      ]
    },
    {
      "cell_type": "code",
      "execution_count": null,
      "metadata": {
        "colab": {
          "base_uri": "https://localhost:8080/",
          "height": 206
        },
        "id": "zG4GPfE8Ootn",
        "outputId": "b9d0d897-3318-4ade-eb8d-37eea81e9562"
      },
      "outputs": [
        {
          "data": {
            "text/html": [
              "\n",
              "  <div id=\"df-0e561c19-8d37-4625-a643-0ea86077dadb\">\n",
              "    <div class=\"colab-df-container\">\n",
              "      <div>\n",
              "<style scoped>\n",
              "    .dataframe tbody tr th:only-of-type {\n",
              "        vertical-align: middle;\n",
              "    }\n",
              "\n",
              "    .dataframe tbody tr th {\n",
              "        vertical-align: top;\n",
              "    }\n",
              "\n",
              "    .dataframe thead th {\n",
              "        text-align: right;\n",
              "    }\n",
              "</style>\n",
              "<table border=\"1\" class=\"dataframe\">\n",
              "  <thead>\n",
              "    <tr style=\"text-align: right;\">\n",
              "      <th></th>\n",
              "      <th>target</th>\n",
              "    </tr>\n",
              "  </thead>\n",
              "  <tbody>\n",
              "    <tr>\n",
              "      <th>59914</th>\n",
              "      <td>0</td>\n",
              "    </tr>\n",
              "    <tr>\n",
              "      <th>294628</th>\n",
              "      <td>0</td>\n",
              "    </tr>\n",
              "    <tr>\n",
              "      <th>129924</th>\n",
              "      <td>0</td>\n",
              "    </tr>\n",
              "    <tr>\n",
              "      <th>120639</th>\n",
              "      <td>0</td>\n",
              "    </tr>\n",
              "    <tr>\n",
              "      <th>53237</th>\n",
              "      <td>0</td>\n",
              "    </tr>\n",
              "  </tbody>\n",
              "</table>\n",
              "</div>\n",
              "      <button class=\"colab-df-convert\" onclick=\"convertToInteractive('df-0e561c19-8d37-4625-a643-0ea86077dadb')\"\n",
              "              title=\"Convert this dataframe to an interactive table.\"\n",
              "              style=\"display:none;\">\n",
              "        \n",
              "  <svg xmlns=\"http://www.w3.org/2000/svg\" height=\"24px\"viewBox=\"0 0 24 24\"\n",
              "       width=\"24px\">\n",
              "    <path d=\"M0 0h24v24H0V0z\" fill=\"none\"/>\n",
              "    <path d=\"M18.56 5.44l.94 2.06.94-2.06 2.06-.94-2.06-.94-.94-2.06-.94 2.06-2.06.94zm-11 1L8.5 8.5l.94-2.06 2.06-.94-2.06-.94L8.5 2.5l-.94 2.06-2.06.94zm10 10l.94 2.06.94-2.06 2.06-.94-2.06-.94-.94-2.06-.94 2.06-2.06.94z\"/><path d=\"M17.41 7.96l-1.37-1.37c-.4-.4-.92-.59-1.43-.59-.52 0-1.04.2-1.43.59L10.3 9.45l-7.72 7.72c-.78.78-.78 2.05 0 2.83L4 21.41c.39.39.9.59 1.41.59.51 0 1.02-.2 1.41-.59l7.78-7.78 2.81-2.81c.8-.78.8-2.07 0-2.86zM5.41 20L4 18.59l7.72-7.72 1.47 1.35L5.41 20z\"/>\n",
              "  </svg>\n",
              "      </button>\n",
              "      \n",
              "  <style>\n",
              "    .colab-df-container {\n",
              "      display:flex;\n",
              "      flex-wrap:wrap;\n",
              "      gap: 12px;\n",
              "    }\n",
              "\n",
              "    .colab-df-convert {\n",
              "      background-color: #E8F0FE;\n",
              "      border: none;\n",
              "      border-radius: 50%;\n",
              "      cursor: pointer;\n",
              "      display: none;\n",
              "      fill: #1967D2;\n",
              "      height: 32px;\n",
              "      padding: 0 0 0 0;\n",
              "      width: 32px;\n",
              "    }\n",
              "\n",
              "    .colab-df-convert:hover {\n",
              "      background-color: #E2EBFA;\n",
              "      box-shadow: 0px 1px 2px rgba(60, 64, 67, 0.3), 0px 1px 3px 1px rgba(60, 64, 67, 0.15);\n",
              "      fill: #174EA6;\n",
              "    }\n",
              "\n",
              "    [theme=dark] .colab-df-convert {\n",
              "      background-color: #3B4455;\n",
              "      fill: #D2E3FC;\n",
              "    }\n",
              "\n",
              "    [theme=dark] .colab-df-convert:hover {\n",
              "      background-color: #434B5C;\n",
              "      box-shadow: 0px 1px 3px 1px rgba(0, 0, 0, 0.15);\n",
              "      filter: drop-shadow(0px 1px 2px rgba(0, 0, 0, 0.3));\n",
              "      fill: #FFFFFF;\n",
              "    }\n",
              "  </style>\n",
              "\n",
              "      <script>\n",
              "        const buttonEl =\n",
              "          document.querySelector('#df-0e561c19-8d37-4625-a643-0ea86077dadb button.colab-df-convert');\n",
              "        buttonEl.style.display =\n",
              "          google.colab.kernel.accessAllowed ? 'block' : 'none';\n",
              "\n",
              "        async function convertToInteractive(key) {\n",
              "          const element = document.querySelector('#df-0e561c19-8d37-4625-a643-0ea86077dadb');\n",
              "          const dataTable =\n",
              "            await google.colab.kernel.invokeFunction('convertToInteractive',\n",
              "                                                     [key], {});\n",
              "          if (!dataTable) return;\n",
              "\n",
              "          const docLinkHtml = 'Like what you see? Visit the ' +\n",
              "            '<a target=\"_blank\" href=https://colab.research.google.com/notebooks/data_table.ipynb>data table notebook</a>'\n",
              "            + ' to learn more about interactive tables.';\n",
              "          element.innerHTML = '';\n",
              "          dataTable['output_type'] = 'display_data';\n",
              "          await google.colab.output.renderOutput(dataTable, element);\n",
              "          const docLink = document.createElement('div');\n",
              "          docLink.innerHTML = docLinkHtml;\n",
              "          element.appendChild(docLink);\n",
              "        }\n",
              "      </script>\n",
              "    </div>\n",
              "  </div>\n",
              "  "
            ],
            "text/plain": [
              "        target\n",
              "59914        0\n",
              "294628       0\n",
              "129924       0\n",
              "120639       0\n",
              "53237        0"
            ]
          },
          "execution_count": 18,
          "metadata": {},
          "output_type": "execute_result"
        }
      ],
      "source": [
        "Y_train.head()"
      ]
    },
    {
      "cell_type": "code",
      "execution_count": null,
      "metadata": {
        "colab": {
          "base_uri": "https://localhost:8080/"
        },
        "id": "BeklBAOtb45e",
        "outputId": "657fc195-55f4-40fd-b50f-a6138830cd1a"
      },
      "outputs": [
        {
          "data": {
            "text/plain": [
              "0.7872575131181427"
            ]
          },
          "execution_count": 19,
          "metadata": {},
          "output_type": "execute_result"
        }
      ],
      "source": [
        "from sklearn.ensemble import RandomForestClassifier\n",
        "model = RandomForestClassifier(n_estimators=25).fit(X_train,Y_train['target'])\n",
        "preds = model.predict(X_test)\n",
        "res = model.score(X_test,Y_test)\n",
        "res"
      ]
    },
    {
      "cell_type": "code",
      "execution_count": null,
      "metadata": {
        "colab": {
          "base_uri": "https://localhost:8080/"
        },
        "id": "DVrUhXhPO8-R",
        "outputId": "e9c1eb1f-31b7-48a7-ec7a-a4843d19deff"
      },
      "outputs": [
        {
          "data": {
            "text/plain": [
              "0.5271790562747357"
            ]
          },
          "execution_count": 20,
          "metadata": {},
          "output_type": "execute_result"
        }
      ],
      "source": [
        "f1_score(Y_test.target, preds, average='macro')"
      ]
    },
    {
      "cell_type": "markdown",
      "metadata": {
        "id": "M6UxvntVPCig"
      },
      "source": [
        "##AdaBoost"
      ]
    },
    {
      "cell_type": "code",
      "execution_count": null,
      "metadata": {
        "colab": {
          "base_uri": "https://localhost:8080/"
        },
        "id": "DDMU0iW4PF_A",
        "outputId": "2e8b6c3a-3f20-457f-e328-dcab68541ecf"
      },
      "outputs": [
        {
          "name": "stdout",
          "output_type": "stream",
          "text": [
            "accuracy is :  0.7493440928605501\n"
          ]
        },
        {
          "data": {
            "text/plain": [
              "0.23439847672317685"
            ]
          },
          "execution_count": 21,
          "metadata": {},
          "output_type": "execute_result"
        }
      ],
      "source": [
        "from sklearn.ensemble import AdaBoostClassifier\n",
        "\n",
        "model = AdaBoostClassifier(n_estimators=25).fit(X_train, Y_train['target'])\n",
        "preds = model.predict(X_test)\n",
        "res = model.score(X_test, Y_test)\n",
        "print('accuracy is : ', res)\n"
      ]
    },
    {
      "cell_type": "code",
      "execution_count": null,
      "metadata": {
        "colab": {
          "base_uri": "https://localhost:8080/"
        },
        "id": "BdmL_tFhPrAy",
        "outputId": "11ce3598-f6e7-4402-8971-4f214d044d8e"
      },
      "outputs": [
        {
          "data": {
            "text/plain": [
              "0.23439847672317685"
            ]
          },
          "execution_count": 26,
          "metadata": {},
          "output_type": "execute_result"
        }
      ],
      "source": [
        "f1_score(Y_test.target, preds, average='macro')"
      ]
    },
    {
      "cell_type": "markdown",
      "metadata": {
        "id": "yxkhl4EGOwhI"
      },
      "source": [
        "##SMOTE and stuff"
      ]
    },
    {
      "cell_type": "code",
      "execution_count": null,
      "metadata": {
        "id": "JgKor03SF8ws"
      },
      "outputs": [],
      "source": [
        "import matplotlib.pyplot as plt\n",
        "import pandas as pd\n",
        "import tensorflow as tf\n",
        "from tensorflow.keras.models import Sequential\n",
        "from tensorflow.keras.layers import Dense\n",
        "from tensorflow.keras.layers import LSTM\n",
        "from sklearn.preprocessing import MinMaxScaler\n",
        "from sklearn.metrics import mean_squared_error"
      ]
    },
    {
      "cell_type": "code",
      "execution_count": null,
      "metadata": {
        "id": "JXT8kHOcF_ED"
      },
      "outputs": [],
      "source": [
        "model = Sequential()\n",
        "model.add(LSTM(1))\n",
        "model.add(Dense(1))\n",
        "model.compile(loss='cross_entropy_loss', optimizer='adam')\n",
        "model.fit(X_train, Y_train, epochs=2, batch_size=1, verbose=2)"
      ]
    },
    {
      "cell_type": "code",
      "execution_count": null,
      "metadata": {
        "colab": {
          "base_uri": "https://localhost:8080/"
        },
        "id": "gVqq7c8AlrN0",
        "outputId": "5e0c354c-df32-4305-cdb8-7456c9c75325"
      },
      "outputs": [
        {
          "data": {
            "text/plain": [
              "0.46405915458011837"
            ]
          },
          "execution_count": 52,
          "metadata": {},
          "output_type": "execute_result"
        }
      ],
      "source": [
        "f1_score(Y_test.target, preds, average='macro')"
      ]
    },
    {
      "cell_type": "code",
      "execution_count": null,
      "metadata": {
        "colab": {
          "base_uri": "https://localhost:8080/"
        },
        "id": "BtwRwMg8lseE",
        "outputId": "a4a4f87e-f490-4301-caa8-106b3c5ff675"
      },
      "outputs": [
        {
          "name": "stdout",
          "output_type": "stream",
          "text": [
            "Looking in indexes: https://pypi.org/simple, https://us-python.pkg.dev/colab-wheels/public/simple/\n",
            "Collecting imblearn\n",
            "  Downloading imblearn-0.0-py2.py3-none-any.whl (1.9 kB)\n",
            "Requirement already satisfied: imbalanced-learn in /usr/local/lib/python3.9/dist-packages (from imblearn) (0.10.1)\n",
            "Requirement already satisfied: scipy>=1.3.2 in /usr/local/lib/python3.9/dist-packages (from imbalanced-learn->imblearn) (1.10.1)\n",
            "Requirement already satisfied: joblib>=1.1.1 in /usr/local/lib/python3.9/dist-packages (from imbalanced-learn->imblearn) (1.1.1)\n",
            "Requirement already satisfied: scikit-learn>=1.0.2 in /usr/local/lib/python3.9/dist-packages (from imbalanced-learn->imblearn) (1.2.2)\n",
            "Requirement already satisfied: threadpoolctl>=2.0.0 in /usr/local/lib/python3.9/dist-packages (from imbalanced-learn->imblearn) (3.1.0)\n",
            "Requirement already satisfied: numpy>=1.17.3 in /usr/local/lib/python3.9/dist-packages (from imbalanced-learn->imblearn) (1.22.4)\n",
            "Installing collected packages: imblearn\n",
            "Successfully installed imblearn-0.0\n"
          ]
        }
      ],
      "source": [
        "!pip install imblearn"
      ]
    },
    {
      "cell_type": "code",
      "execution_count": null,
      "metadata": {
        "id": "ZFslM_7BxMs0"
      },
      "outputs": [],
      "source": [
        "from imblearn.over_sampling import SMOTE\n",
        "X_train_sampled, Y_train_sampled = SMOTE(random_state=random_seed).fit_resample(X_train,Y_train['target'])"
      ]
    },
    {
      "cell_type": "code",
      "execution_count": null,
      "metadata": {
        "colab": {
          "base_uri": "https://localhost:8080/"
        },
        "id": "vXy-A-8zx-hX",
        "outputId": "09380513-bfdf-402c-f3b8-172d7f9d813a"
      },
      "outputs": [
        {
          "data": {
            "text/plain": [
              "target\n",
              "0         176335\n",
              "1         176335\n",
              "2         176335\n",
              "3         176335\n",
              "dtype: int64"
            ]
          },
          "execution_count": 25,
          "metadata": {},
          "output_type": "execute_result"
        }
      ],
      "source": [
        "pd.DataFrame(Y_train_sampled).value_counts()"
      ]
    },
    {
      "cell_type": "code",
      "execution_count": null,
      "metadata": {
        "colab": {
          "base_uri": "https://localhost:8080/"
        },
        "id": "fuUW-PMtyGNu",
        "outputId": "c6644b47-0226-4f87-fa00-a62167697d92"
      },
      "outputs": [
        {
          "data": {
            "text/plain": [
              "0.7225711559866433"
            ]
          },
          "execution_count": 26,
          "metadata": {},
          "output_type": "execute_result"
        }
      ],
      "source": [
        "model = RandomForestClassifier(random_state=random_seed).fit(X_train_sampled,Y_train_sampled)\n",
        "preds = model.predict(X_test)\n",
        "res = model.score(X_test,Y_test)\n",
        "res"
      ]
    },
    {
      "cell_type": "code",
      "execution_count": null,
      "metadata": {
        "colab": {
          "base_uri": "https://localhost:8080/"
        },
        "id": "lrIau1rByX5J",
        "outputId": "1c8ab483-a102-4a97-c4f8-b656f97a3ac8"
      },
      "outputs": [
        {
          "data": {
            "text/plain": [
              "0.5786718276101643"
            ]
          },
          "execution_count": 27,
          "metadata": {},
          "output_type": "execute_result"
        }
      ],
      "source": [
        "f1_score(Y_test.target, preds, average='macro')"
      ]
    },
    {
      "cell_type": "code",
      "execution_count": null,
      "metadata": {
        "id": "A0Ej80aWyiUx"
      },
      "outputs": [],
      "source": [
        "x_9_1  = pd.read_csv('https://raw.githubusercontent.com/sushanthreddyC/Terrain-Identification-Using-Time-Series-Data/main/TestData/subject_009_01__x.csv', names = ['ax', 'ay', 'az', 'gx', 'gy', 'gz'])\n",
        "x_10_1 = pd.read_csv('https://raw.githubusercontent.com/sushanthreddyC/Terrain-Identification-Using-Time-Series-Data/main/TestData/subject_010_01__x.csv', names = ['ax', 'ay', 'az', 'gx', 'gy', 'gz'])\n",
        "x_11_1 = pd.read_csv('https://raw.githubusercontent.com/sushanthreddyC/Terrain-Identification-Using-Time-Series-Data/main/TestData/subject_011_01__x.csv', names = ['ax', 'ay', 'az', 'gx', 'gy', 'gz'])\n",
        "x_12_1 = pd.read_csv('https://raw.githubusercontent.com/sushanthreddyC/Terrain-Identification-Using-Time-Series-Data/main/TestData/subject_012_01__x.csv', names = ['ax', 'ay', 'az', 'gx', 'gy', 'gz'])"
      ]
    },
    {
      "cell_type": "code",
      "execution_count": null,
      "metadata": {
        "id": "j0eAntuZO8WA"
      },
      "outputs": [],
      "source": [
        "\n",
        "import pandas as pd\n",
        "x_9_1 = pd.read_csv('https://raw.githubusercontent.com/sushanthreddyC/Terrain-Identification-Using-Time-Series-Data/main/TestData/subject_009_01__x.csv', names = ['ax', 'ay', 'az', 'gx', 'gy', 'gz'])\n",
        "x_10_1 = pd.read_csv('https://raw.githubusercontent.com/sushanthreddyC/Terrain-Identification-Using-Time-Series-Data/main/TestData/subject_010_01__x.csv', names = ['ax', 'ay', 'az', 'gx', 'gy', 'gz'])\n",
        "x_11_1 = pd.read_csv('https://raw.githubusercontent.com/sushanthreddyC/Terrain-Identification-Using-Time-Series-Data/main/TestData/subject_011_01__x.csv', names = ['ax', 'ay', 'az', 'gx', 'gy', 'gz'])\n",
        "x_12_1 = pd.read_csv('https://raw.githubusercontent.com/sushanthreddyC/Terrain-Identification-Using-Time-Series-Data/main/TestData/subject_012_01__x.csv',  names = ['ax', 'ay', 'az', 'gx', 'gy', 'gz'])\n",
        "\n",
        "x_9_1_time = pd.read_csv('https://raw.githubusercontent.com/sushanthreddyC/Terrain-Identification-Using-Time-Series-Data/main/TestData/subject_009_01__x_time.csv', names = ['time'])\n",
        "x_10_1_time = pd.read_csv('https://raw.githubusercontent.com/sushanthreddyC/Terrain-Identification-Using-Time-Series-Data/main/TestData/subject_010_01__x_time.csv',  names = ['time'])\n",
        "x_11_1_time = pd.read_csv('https://raw.githubusercontent.com/sushanthreddyC/Terrain-Identification-Using-Time-Series-Data/main/TestData/subject_011_01__x_time.csv',  names = ['time'])\n",
        "x_12_1_time = pd.read_csv('https://raw.githubusercontent.com/sushanthreddyC/Terrain-Identification-Using-Time-Series-Data/main/TestData/subject_012_01__x_time.csv',   names = ['time'])\n",
        "\n",
        "\n",
        "y_9_1_time = pd.read_csv('https://raw.githubusercontent.com/sushanthreddyC/Terrain-Identification-Using-Time-Series-Data/main/TestData/subject_009_01__y_time.csv',  names = ['time'])\n",
        "y_10_1_time = pd.read_csv('https://raw.githubusercontent.com/sushanthreddyC/Terrain-Identification-Using-Time-Series-Data/main/TestData/subject_010_01__y_time.csv',  names = ['time'])\n",
        "y_11_1_time = pd.read_csv('https://raw.githubusercontent.com/sushanthreddyC/Terrain-Identification-Using-Time-Series-Data/main/TestData/subject_011_01__y_time.csv', names = ['time'])\n",
        "y_12_1_time = pd.read_csv('https://raw.githubusercontent.com/sushanthreddyC/Terrain-Identification-Using-Time-Series-Data/main/TestData/subject_012_01__y_time.csv',  names = ['time'])\n"
      ]
    },
    {
      "cell_type": "markdown",
      "metadata": {
        "id": "vbdJiXBy_k5T"
      },
      "source": [
        "#Data Processing Part 2"
      ]
    },
    {
      "cell_type": "code",
      "execution_count": 25,
      "metadata": {
        "id": "2An8hxcmM_qD"
      },
      "outputs": [],
      "source": [
        "X =   [x_1_1, x_1_2, x_1_3, x_1_4, x_1_5, x_1_6, x_1_7, x_1_8, x_2_1, x_2_2, x_2_3, x_2_4, x_2_5, x_3_1, x_3_2, x_3_3,x_4_1,x_4_2, x_5_1,x_5_2,x_5_3, x_6_1,x_6_2, x_6_3, x_7_1, x_7_2,x_7_3,x_7_4, x_8_1]\n",
        "Y =   [y_1_1, y_1_2, y_1_3, y_1_4, y_1_5, y_1_6, y_1_7, y_1_8, y_2_1, y_2_2, y_2_3, y_2_4, y_2_5, y_3_1, y_3_2, y_3_3,y_4_1,y_4_2, y_5_1,y_5_2,y_5_3, y_6_1,y_6_2, y_6_3, y_7_1, y_7_2,y_7_3,y_7_4, y_8_1 ]\n",
        "X_t = [x_1_1_t, x_1_2_t, x_1_3_t, x_1_4_t, x_1_5_t, x_1_6_t, x_1_7_t, x_1_8_t, x_2_1_t, x_2_2_t, x_2_3_t, x_2_4_t, x_2_5_t, x_3_1_t, x_3_2_t, x_3_3_t,x_4_1_t,x_4_2_t, x_5_1_t,x_5_2_t,x_5_3_t, x_6_1_t,x_6_2_t, x_6_3_t, x_7_1_t, x_7_2_t,x_7_3_t,x_7_4_t, x_8_1_t]\n",
        "Y_t = [y_1_1_t, y_1_2_t, y_1_3_t, y_1_4_t, y_1_5_t, y_1_6_t, y_1_7_t, y_1_8_t, y_2_1_t, y_2_2_t, y_2_3_t, y_2_4_t, y_2_5_t, y_3_1_t, y_3_2_t, y_3_3_t,y_4_1_t,y_4_2_t, y_5_1_t,y_5_2_t,y_5_3_t, y_6_1_t,y_6_2_t, y_6_3_t, y_7_1_t, y_7_2_t,y_7_3_t,y_7_4_t, y_8_1_t ]"
      ]
    },
    {
      "cell_type": "markdown",
      "metadata": {
        "id": "J8WJN8aQN9f3"
      },
      "source": [
        "Verifying data format and shapes"
      ]
    },
    {
      "cell_type": "code",
      "execution_count": 26,
      "metadata": {
        "id": "UNOvLcaaNvSZ"
      },
      "outputs": [],
      "source": [
        "for i in range(len(X)):\n",
        "  assert(X[i].shape[0]==X_t[i].shape[0])\n",
        "  assert(Y[i].shape[0]==Y_t[i].shape[0])\n",
        "  #print(X[i].shape[0], Y[i].shape[0])"
      ]
    },
    {
      "cell_type": "markdown",
      "metadata": {
        "id": "7xq24yYqPljH"
      },
      "source": [
        "Concat X and X_time"
      ]
    },
    {
      "cell_type": "code",
      "execution_count": 27,
      "metadata": {
        "id": "hQFYHU7XOGul"
      },
      "outputs": [],
      "source": [
        "X_fin=[]\n",
        "for i in  range(len(X)):\n",
        "  X_fin.append(pd.concat([X[i],X_t[i]],axis=1))"
      ]
    },
    {
      "cell_type": "code",
      "execution_count": null,
      "metadata": {
        "id": "xvb7hL_gPXhD"
      },
      "outputs": [],
      "source": [
        "Y_all=[]\n",
        "for i in range(len(X_fin)):\n",
        "  labels=[]\n",
        "  j,k=0,0\n",
        "  print(\"Y-shape len \", Y[i].shape[0])\n",
        "  while(j < Y[i].shape[0] and k < X_fin[i].shape[0]):\n",
        "    if( X_fin[i]['time'].iloc[k]<=Y_t[i]['time'].iloc[j] ):\n",
        "      labels.append(Y[i]['target'].iloc[j])\n",
        "      k+=1\n",
        "    else:\n",
        "      j+=1\n",
        "  while(k < X_fin[i].shape[0]):\n",
        "    labels.append(Y[i]['target'].iloc[-1])\n",
        "    k+=1\n",
        "  # print(\"labels length\", len(labels))\n",
        "  # print(\"X-     length\", X_fin[i].shape[0])\n",
        "  # print(\"*************\")\n",
        "  Y_all.append(pd.DataFrame(labels, columns=['target']))"
      ]
    },
    {
      "cell_type": "code",
      "execution_count": 29,
      "metadata": {
        "id": "gVZ4ClVvo_3k"
      },
      "outputs": [],
      "source": [
        "X_train = pd.concat([ X_fin[0],X_fin[1],X_fin[2],X_fin[3],X_fin[4],X_fin[5],X_fin[6],X_fin[7],X_fin[8],X_fin[9],X_fin[10],X_fin[11],X_fin[12],X_fin[13],X_fin[14],X_fin[15],X_fin[16],X_fin[17],X_fin[18],X_fin[19],X_fin[20]],axis=0)\n",
        "Y_train = pd.concat([ Y_all[0],Y_all[1],Y_all[2],Y_all[3],Y_all[4],Y_all[5],Y_all[6],Y_all[7],Y_all[8],Y_all[9],Y_all[10],Y_all[11],Y_all[12],Y_all[13],Y_all[14],Y_all[15],Y_all[16],Y_all[17],Y_all[18],Y_all[19],Y_all[20]],axis=0)"
      ]
    },
    {
      "cell_type": "code",
      "execution_count": 30,
      "metadata": {
        "id": "L3dzi-dypUyF"
      },
      "outputs": [],
      "source": [
        "X_test=pd.concat([X_fin[21],X_fin[22],X_fin[23],X_fin[24],X_fin[25],X_fin[26],X_fin[27],X_fin[28]],axis=0)\n",
        "Y_test=pd.concat([Y_all[21],Y_all[22],Y_all[23],Y_all[24],Y_all[25],Y_all[26],Y_all[27],Y_all[28]],axis=0)"
      ]
    },
    {
      "cell_type": "code",
      "execution_count": 31,
      "metadata": {
        "id": "SKqTd6RB527x"
      },
      "outputs": [],
      "source": [
        "from sklearn.model_selection import train_test_split\n",
        "x_train,x_val,y_train,y_val = train_test_split(X_train,Y_train, train_size=0.75, shuffle=False)"
      ]
    },
    {
      "cell_type": "code",
      "execution_count": 32,
      "metadata": {
        "id": "3Tq6PP_k55Fz"
      },
      "outputs": [],
      "source": [
        "scaler_cat = StandardScaler().fit(x_train)\n",
        "X_train_norm=scaler_cat.transform(x_train)\n",
        "X_val_norm  =scaler_cat.transform(x_val)\n",
        "X_test_norm =scaler_cat.transform(X_test)"
      ]
    },
    {
      "cell_type": "markdown",
      "metadata": {
        "id": "eaaJYk9l7H3R"
      },
      "source": [
        "DATA WITHOUT TIME COLUMN"
      ]
    },
    {
      "cell_type": "code",
      "execution_count": 34,
      "metadata": {
        "id": "1BVN0owj7FqX"
      },
      "outputs": [],
      "source": [
        "from sklearn.model_selection import train_test_split\n",
        "X_train_t= X_train.drop(['time'], axis=1)\n",
        "X_test_t=X_test.drop(['time'], axis=1)\n",
        "x_train_t,x_val_t,y_train_t,y_val_t = train_test_split(X_train_t,Y_train, train_size=0.75, shuffle=False)"
      ]
    },
    {
      "cell_type": "code",
      "execution_count": 35,
      "metadata": {
        "id": "gpBG2JjO7HSy"
      },
      "outputs": [],
      "source": [
        "from sklearn.preprocessing import  StandardScaler\n",
        "scaler_t = StandardScaler().fit(x_train_t)\n",
        "X_train_norm_t=scaler_t.transform(x_train_t)\n",
        "X_val_norm_t  =scaler_t.transform(x_val_t)\n",
        "X_test_norm_t =scaler_t.transform(X_test_t)"
      ]
    },
    {
      "cell_type": "code",
      "execution_count": 36,
      "metadata": {
        "id": "XmTLIzwV6wx6"
      },
      "outputs": [],
      "source": [
        "y_train_t_cat=pd.DataFrame(to_categorical(y_train_t['target'],4).reshape(-1,4), columns = ['l1','l2','l3','l4'])\n",
        "y_val_t_cat=pd.DataFrame(to_categorical(y_val_t['target'],4).reshape(-1,4), columns = ['l1','l2','l3','l4'])\n",
        "Y_test_cat=pd.DataFrame(to_categorical(Y_test['target'],4).reshape(-1,4), columns = ['l1','l2','l3','l4'])"
      ]
    },
    {
      "cell_type": "code",
      "execution_count": 37,
      "metadata": {
        "id": "1CX_Hil_9xcf"
      },
      "outputs": [],
      "source": [
        "X_Train,Y_Train=define_windows(pd.DataFrame(X_train_norm_t, columns = ['ax','ay','az','gx','gy','gz']), y_train_t_cat,window_size )\n",
        "X_val,Y_val=define_windows(pd.DataFrame(X_val_norm_t, columns = ['ax','ay','az','gx','gy','gz']), y_val_t_cat,window_size )\n",
        "X_Test,Y_Test=define_windows(pd.DataFrame(X_test_norm_t, columns = ['ax','ay','az','gx','gy','gz']), Y_test_cat,window_size )"
      ]
    },
    {
      "cell_type": "markdown",
      "metadata": {
        "id": "paZdE5wB26RX"
      },
      "source": [
        "#Random Forest Classifier"
      ]
    },
    {
      "cell_type": "code",
      "execution_count": null,
      "metadata": {
        "id": "ZJI9DqvxvgJ8"
      },
      "outputs": [],
      "source": [
        "from sklearn.preprocessing import  StandardScaler\n",
        "scaler = StandardScaler().fit(X_train)\n",
        "X_train_norm = scaler.transform(X_train)\n",
        "X_test_norm  = scaler.transform(X_test)"
      ]
    },
    {
      "cell_type": "code",
      "execution_count": null,
      "metadata": {
        "id": "1v0wBhGYv-WB"
      },
      "outputs": [],
      "source": [
        "from sklearn.ensemble import RandomForestClassifier\n",
        "from sklearn import svm\n",
        "RF_clf = RandomForestClassifier(n_estimators=100, max_depth=2, random_state=0 , verbose =2)\n",
        "RF_clf.fit(X_train_norm,Y_train['target'].ravel())\n",
        "RF_test_preds=RF_clf.predict(X_test_norm)\n",
        "RF_train_preds=RF_clf.predict(X_train_norm)"
      ]
    },
    {
      "cell_type": "markdown",
      "metadata": {
        "id": "ELAukOUxxAux"
      },
      "source": [
        "Test set evaluation"
      ]
    },
    {
      "cell_type": "code",
      "execution_count": null,
      "metadata": {
        "id": "qtSk50WtxH7c"
      },
      "outputs": [],
      "source": [
        "from sklearn.metrics import classification_report, ConfusionMatrixDisplay\n",
        "def print_report(true_labels,preds):\n",
        "  print(classification_report(true_labels,preds))\n",
        "  print(ConfusionMatrixDisplay.from_predictions(true_labels,preds))"
      ]
    },
    {
      "cell_type": "code",
      "execution_count": null,
      "metadata": {
        "colab": {
          "base_uri": "https://localhost:8080/",
          "height": 781
        },
        "id": "iNK1EBwkwirB",
        "outputId": "beb22faf-072d-4e3b-e692-abb860138c00"
      },
      "outputs": [
        {
          "name": "stderr",
          "output_type": "stream",
          "text": [
            "/usr/local/lib/python3.9/dist-packages/sklearn/metrics/_classification.py:1344: UndefinedMetricWarning: Precision and F-score are ill-defined and being set to 0.0 in labels with no predicted samples. Use `zero_division` parameter to control this behavior.\n",
            "  _warn_prf(average, modifier, msg_start, len(result))\n",
            "/usr/local/lib/python3.9/dist-packages/sklearn/metrics/_classification.py:1344: UndefinedMetricWarning: Precision and F-score are ill-defined and being set to 0.0 in labels with no predicted samples. Use `zero_division` parameter to control this behavior.\n",
            "  _warn_prf(average, modifier, msg_start, len(result))\n",
            "/usr/local/lib/python3.9/dist-packages/sklearn/metrics/_classification.py:1344: UndefinedMetricWarning: Precision and F-score are ill-defined and being set to 0.0 in labels with no predicted samples. Use `zero_division` parameter to control this behavior.\n",
            "  _warn_prf(average, modifier, msg_start, len(result))\n"
          ]
        },
        {
          "name": "stdout",
          "output_type": "stream",
          "text": [
            "              precision    recall  f1-score   support\n",
            "\n",
            "           0       0.75      1.00      0.86    285148\n",
            "           1       0.00      0.00      0.00     10840\n",
            "           2       0.00      0.00      0.00     17196\n",
            "           3       0.00      0.00      0.00     65040\n",
            "\n",
            "    accuracy                           0.75    378224\n",
            "   macro avg       0.19      0.25      0.21    378224\n",
            "weighted avg       0.57      0.75      0.65    378224\n",
            "\n",
            "<sklearn.metrics._plot.confusion_matrix.ConfusionMatrixDisplay object at 0x7ff5d7884ee0>\n"
          ]
        },
        {
          "data": {
            "image/png": "[encoded data removed]",
            "text/plain": [
              "<Figure size 640x480 with 2 Axes>"
            ]
          },
          "metadata": {},
          "output_type": "display_data"
        }
      ],
      "source": [
        "print_report(Y_test,RF_test_preds)"
      ]
    },
    {
      "cell_type": "markdown",
      "metadata": {
        "id": "JbM3AFV3xEFD"
      },
      "source": [
        "Training set evaluation"
      ]
    },
    {
      "cell_type": "code",
      "execution_count": null,
      "metadata": {
        "colab": {
          "base_uri": "https://localhost:8080/",
          "height": 781
        },
        "id": "C_XGAo2bxAL4",
        "outputId": "0512045a-5a4c-453e-b0f6-6250fb96f427"
      },
      "outputs": [
        {
          "name": "stderr",
          "output_type": "stream",
          "text": [
            "/usr/local/lib/python3.9/dist-packages/sklearn/metrics/_classification.py:1344: UndefinedMetricWarning: Precision and F-score are ill-defined and being set to 0.0 in labels with no predicted samples. Use `zero_division` parameter to control this behavior.\n",
            "  _warn_prf(average, modifier, msg_start, len(result))\n",
            "/usr/local/lib/python3.9/dist-packages/sklearn/metrics/_classification.py:1344: UndefinedMetricWarning: Precision and F-score are ill-defined and being set to 0.0 in labels with no predicted samples. Use `zero_division` parameter to control this behavior.\n",
            "  _warn_prf(average, modifier, msg_start, len(result))\n",
            "/usr/local/lib/python3.9/dist-packages/sklearn/metrics/_classification.py:1344: UndefinedMetricWarning: Precision and F-score are ill-defined and being set to 0.0 in labels with no predicted samples. Use `zero_division` parameter to control this behavior.\n",
            "  _warn_prf(average, modifier, msg_start, len(result))\n"
          ]
        },
        {
          "name": "stdout",
          "output_type": "stream",
          "text": [
            "              precision    recall  f1-score   support\n",
            "\n",
            "           0       0.75      1.00      0.86    721778\n",
            "           1       0.00      0.00      0.00     44376\n",
            "           2       0.00      0.00      0.00     55872\n",
            "           3       0.00      0.00      0.00    141396\n",
            "\n",
            "    accuracy                           0.75    963422\n",
            "   macro avg       0.19      0.25      0.21    963422\n",
            "weighted avg       0.56      0.75      0.64    963422\n",
            "\n",
            "<sklearn.metrics._plot.confusion_matrix.ConfusionMatrixDisplay object at 0x7ff5d75d50d0>\n"
          ]
        },
        {
          "data": {
            "image/png": "[encoded data removed]",
            "text/plain": [
              "<Figure size 640x480 with 2 Axes>"
            ]
          },
          "metadata": {},
          "output_type": "display_data"
        }
      ],
      "source": [
        "print_report(Y_train,RF_train_preds)"
      ]
    },
    {
      "cell_type": "markdown",
      "metadata": {
        "id": "ScvrjxtDyCX-"
      },
      "source": [
        "#SVM model"
      ]
    },
    {
      "cell_type": "code",
      "execution_count": null,
      "metadata": {
        "id": "LibpNHC0yBrX"
      },
      "outputs": [],
      "source": [
        "# svm_clf = svm.SVC()\n",
        "# svm_clf.fit(X_train_norm,Y_train['target'].ravel())\n",
        "# svm_train_preds=svm_clf.predict(X_train_norm)\n",
        "# svm_test_preds=svm_clf.predict(X_test_norm) \n"
      ]
    },
    {
      "cell_type": "markdown",
      "metadata": {
        "id": "BL4-d-7Rzju6"
      },
      "source": [
        "Training performance"
      ]
    },
    {
      "cell_type": "code",
      "execution_count": null,
      "metadata": {
        "id": "baKkD94xy9-N"
      },
      "outputs": [],
      "source": [
        "# print_report(Y_train,svm_train_preds)"
      ]
    },
    {
      "cell_type": "markdown",
      "metadata": {
        "id": "gfJ0NQp9zmUS"
      },
      "source": [
        "Testing Performance"
      ]
    },
    {
      "cell_type": "code",
      "execution_count": null,
      "metadata": {
        "id": "kovGvyVgznmq"
      },
      "outputs": [],
      "source": [
        "# print_report(Y_test,svm_test_preds)"
      ]
    },
    {
      "cell_type": "markdown",
      "metadata": {
        "id": "jwDywGyT8GB0"
      },
      "source": [
        "#Cat Boost"
      ]
    },
    {
      "cell_type": "code",
      "execution_count": null,
      "metadata": {
        "id": "eKyZPukY8HPl"
      },
      "outputs": [],
      "source": [
        "# !pip install catboost"
      ]
    },
    {
      "cell_type": "code",
      "execution_count": null,
      "metadata": {
        "id": "w1CmmEOX1EeG"
      },
      "outputs": [],
      "source": [
        "# from sklearn.model_selection import train_test_split\n",
        "# x_train,x_val,y_train,y_val = train_test_split(X_train,Y_train, train_size=0.75, shuffle=False)"
      ]
    },
    {
      "cell_type": "code",
      "execution_count": null,
      "metadata": {
        "id": "18q2z-081Uta"
      },
      "outputs": [],
      "source": [
        "# from sklearn.preprocessing import  StandardScaler\n",
        "# scaler_cat = StandardScaler().fit(x_train)\n",
        "# X_train_norm=scaler_cat.transform(x_train)\n",
        "# X_val_norm  =scaler_cat.transform(x_val)\n",
        "# X_test_norm =scaler_cat.transform(X_test)"
      ]
    },
    {
      "cell_type": "code",
      "execution_count": null,
      "metadata": {
        "id": "03XCqzNx9UR6"
      },
      "outputs": [],
      "source": [
        "# from catboost import CatBoostClassifier, Pool,cv, metrics\n",
        "# cat_clf = CatBoostClassifier(\n",
        "#     custom_loss=[metrics.Recall()],\n",
        "#     random_seed=42,\n",
        "#     logging_level='Silent'\n",
        "# )"
      ]
    },
    {
      "cell_type": "code",
      "execution_count": null,
      "metadata": {
        "colab": {
          "background_save": true
        },
        "id": "M0_XvYhh-vNs"
      },
      "outputs": [],
      "source": [
        "# cat_clf.fit(\n",
        "#     X_train_norm, y_train, \n",
        "#     eval_set=(X_val_norm, y_val),\n",
        "#      logging_level='Verbose',  # you can uncomment this for text output\n",
        "#     plot=True\n",
        "# );"
      ]
    },
    {
      "cell_type": "code",
      "execution_count": null,
      "metadata": {
        "id": "er1zzFV7iJzR"
      },
      "outputs": [],
      "source": [
        "# test_preds = cat_clf.predict(X_test_norm)\n",
        "# print_report(Y_test,test_preds)"
      ]
    },
    {
      "cell_type": "code",
      "execution_count": null,
      "metadata": {
        "id": "Nd3T-wkzngxo"
      },
      "outputs": [],
      "source": [
        "# val_preds = cat_clf.predict(X_val_norm)\n",
        "# print_report(y_val,val_preds)"
      ]
    },
    {
      "cell_type": "markdown",
      "metadata": {
        "id": "CFR89EyT6BH3"
      },
      "source": [
        "#CatBoost without time"
      ]
    },
    {
      "cell_type": "code",
      "execution_count": null,
      "metadata": {
        "id": "4MA48fP7AWWl"
      },
      "outputs": [],
      "source": [
        "# from imblearn.over_sampling import SMOTE"
      ]
    },
    {
      "cell_type": "code",
      "execution_count": null,
      "metadata": {
        "id": "-Z_za12qAi0O"
      },
      "outputs": [],
      "source": [
        "# X_sm,Y_sm= SMOTE().fit_resample(x_train_t,y_train_t)"
      ]
    },
    {
      "cell_type": "code",
      "execution_count": null,
      "metadata": {
        "id": "V3peZScBA1Io"
      },
      "outputs": [],
      "source": [
        "# scaler_sm = StandardScaler().fit(X_sm)\n",
        "# X_train_norm_sm=scaler_sm.transform(X_sm)\n",
        "# X_val_norm_sm  =scaler_sm.transform(x_val_t)\n",
        "# X_test_norm_sm =scaler_sm.transform(X_test_t)"
      ]
    },
    {
      "cell_type": "code",
      "execution_count": null,
      "metadata": {
        "id": "bvuwTLTvoz8I"
      },
      "outputs": [],
      "source": [
        "# cat_clf_t = CatBoostClassifier(\n",
        "#     custom_loss=[metrics.Logloss()],\n",
        "#     random_seed=42,\n",
        "#     logging_level='Silent'\n",
        "# )"
      ]
    },
    {
      "cell_type": "code",
      "execution_count": null,
      "metadata": {
        "id": "PULAP_xZpyxS"
      },
      "outputs": [],
      "source": [
        "# cat_clf_t.fit(\n",
        "#     X_train_norm_t, y_train_t, \n",
        "#     eval_set=(X_val_norm_t, y_val_t),\n",
        "#      logging_level='Verbose',  # you can uncomment this for text output\n",
        "#     plot=True\n",
        "# );"
      ]
    },
    {
      "cell_type": "code",
      "execution_count": null,
      "metadata": {
        "id": "vD9N-YLXp73V"
      },
      "outputs": [],
      "source": [
        "# test_preds_t = cat_clf_t.predict(X_test_norm_t)\n",
        "# print_report(Y_test,test_preds_t)"
      ]
    },
    {
      "cell_type": "code",
      "execution_count": null,
      "metadata": {
        "id": "lELFnYzNp_Uw"
      },
      "outputs": [],
      "source": [
        "# val_preds_t = cat_clf_t.predict(X_val_norm_t)\n",
        "# print_report(y_val_t,val_preds_t)"
      ]
    },
    {
      "cell_type": "markdown",
      "metadata": {
        "id": "NHRdJc7zpA3P"
      },
      "source": [
        "#XGBoost with grid search"
      ]
    },
    {
      "cell_type": "code",
      "execution_count": null,
      "metadata": {
        "id": "vvucIcO4pAkj"
      },
      "outputs": [],
      "source": [
        "# from xgboost import XGBClassifier\n",
        "# from sklearn.model_selection import GridSearchCV"
      ]
    },
    {
      "cell_type": "code",
      "execution_count": null,
      "metadata": {
        "id": "-QKSBdvbyuW8"
      },
      "outputs": [],
      "source": [
        "# xg_clf = XGBClassifier(\n",
        "#     objective= 'multi:softmax',\n",
        "#     nthread=4,\n",
        "#     seed=42\n",
        "# )"
      ]
    },
    {
      "cell_type": "code",
      "execution_count": null,
      "metadata": {
        "id": "jdwqEY0jp2xC"
      },
      "outputs": [],
      "source": [
        "# xg_parameters = {\n",
        "#     'max_depth': range (2, 6, 1),\n",
        "#     'n_estimators': range(60, 220, 40),\n",
        "#     'learning_rate': [0.1, 0.01,0.05]\n",
        "# }"
      ]
    },
    {
      "cell_type": "code",
      "execution_count": null,
      "metadata": {
        "id": "9DreCWJ7qSaW"
      },
      "outputs": [],
      "source": [
        "# grid_search = GridSearchCV(\n",
        "#     estimator=xg_clf,\n",
        "#     param_grid=xg_parameters,\n",
        "#     scoring = 'f1',\n",
        "#     n_jobs = -1,\n",
        "#     cv = 2,\n",
        "#     verbose=10\n",
        "# )"
      ]
    },
    {
      "cell_type": "code",
      "execution_count": null,
      "metadata": {
        "id": "W7rqM9pLq2pi"
      },
      "outputs": [],
      "source": [
        "# grid_search.fit(X_train_norm_t,y_train_t)"
      ]
    },
    {
      "cell_type": "code",
      "execution_count": null,
      "metadata": {
        "id": "Otd0493cuX3R"
      },
      "outputs": [],
      "source": [
        "# grid_search.best_estimator_"
      ]
    },
    {
      "cell_type": "code",
      "execution_count": null,
      "metadata": {
        "id": "JjW6JURruoHJ"
      },
      "outputs": [],
      "source": [
        "# best_model= grid_search.best_estimator_\n",
        "# best_model.fit(X_train_norm_t,y_train_t)"
      ]
    },
    {
      "cell_type": "code",
      "execution_count": null,
      "metadata": {
        "id": "3M7C8L2ju4y1"
      },
      "outputs": [],
      "source": [
        "# ConfusionMatrixDisplay.from_estimator(best_model,X_test_norm_t,Y_test)"
      ]
    },
    {
      "cell_type": "markdown",
      "metadata": {
        "id": "3eVOnzJUrqtt"
      },
      "source": [
        "#CNN model"
      ]
    },
    {
      "cell_type": "markdown",
      "metadata": {
        "id": "_tKnwA4xBHNs"
      },
      "source": [
        "For oversampled data"
      ]
    },
    {
      "cell_type": "code",
      "execution_count": null,
      "metadata": {
        "id": "ovIkBYr8BG8y"
      },
      "outputs": [],
      "source": [
        "# y_train_sm_cat=pd.DataFrame(to_categorical(Y_sm['target'],4).reshape(-1,4), columns = ['l1','l2','l3','l4'])\n",
        "# X_Train_sm,Y_Train_sm=define_windows(pd.DataFrame(X_train_norm_sm, columns = ['ax','ay','az','gx','gy','gz']), y_train_sm_cat,window_size )"
      ]
    },
    {
      "cell_type": "code",
      "execution_count": null,
      "metadata": {
        "id": "MXEC-DFIJ78z"
      },
      "outputs": [],
      "source": [
        "\n",
        "def cnn1D_model():\n",
        "  model = Sequential()\n",
        "  model.add(Conv1D(16, kernel_size=4, activation='relu',padding='same',input_shape=(window_size,6)))\n",
        "  model.add(AveragePooling1D(2))\n",
        "  model.add(Dropout(0.2))\n",
        "\n",
        "  model.add(Conv1D(32, kernel_size=4, activation= 'relu', padding='same'))\n",
        "  model.add(AveragePooling1D(2))\n",
        "  model.add(Dropout(0.2))\n",
        "\n",
        "  model.add(Conv1D(32, kernel_size=4, activation='relu', padding='same'))\n",
        "  model.add(UpSampling1D(size=2))\n",
        "  model.add(Dropout(0.2))\n",
        "\n",
        "  model.add(Conv1D(16, kernel_size=4, activation='relu', padding='same'))\n",
        "  model.add(UpSampling1D(size=2))\n",
        "  model.add(Dropout(0.2))\n",
        "\n",
        "  model.add(Conv1D(4, kernel_size=4, activation='softmax', padding='same'))\n",
        "  model.compile(optimizer=Adagrad(learning_rate=0.01) , loss='categorical_crossentropy', metrics=['accuracy'])\n",
        "  return model\n"
      ]
    },
    {
      "cell_type": "code",
      "execution_count": null,
      "metadata": {
        "id": "g2sbjuTRRX24"
      },
      "outputs": [],
      "source": [
        "cnn_model=cnn1D_model()\n",
        "print(cnn_model.summary())"
      ]
    },
    {
      "cell_type": "code",
      "execution_count": null,
      "metadata": {
        "id": "rw2Y7ZQmRcW2"
      },
      "outputs": [],
      "source": [
        "cnn_history= cnn_model.fit(X_Train,Y_Train, epochs=25, verbose=1, validation_data=(X_val,Y_val))"
      ]
    },
    {
      "cell_type": "code",
      "execution_count": null,
      "metadata": {
        "colab": {
          "base_uri": "https://localhost:8080/"
        },
        "id": "yrHdwukyWmWJ",
        "outputId": "2c07764d-3269-4d16-a970-87d09cb26f6e"
      },
      "outputs": [
        {
          "name": "stdout",
          "output_type": "stream",
          "text": [
            "289/289 [==============================] - 2s 6ms/step\n"
          ]
        }
      ],
      "source": [
        "y_test_preds=cnn_model.predict(X_Test)"
      ]
    },
    {
      "cell_type": "code",
      "execution_count": null,
      "metadata": {
        "colab": {
          "base_uri": "https://localhost:8080/"
        },
        "id": "0jrTI8THu99q",
        "outputId": "a73a0d73-5807-48dd-93b3-c234eea6f162"
      },
      "outputs": [
        {
          "name": "stdout",
          "output_type": "stream",
          "text": [
            "              precision    recall  f1-score   support\n",
            "\n",
            "           0       0.84      0.94      0.89    278159\n",
            "           1       0.66      0.77      0.71     10572\n",
            "           2       0.74      0.82      0.78     16774\n",
            "           3       0.61      0.24      0.35     63455\n",
            "\n",
            "    accuracy                           0.81    368960\n",
            "   macro avg       0.71      0.69      0.68    368960\n",
            "weighted avg       0.79      0.81      0.79    368960\n",
            "\n"
          ]
        }
      ],
      "source": [
        "from sklearn.metrics import classification_report\n",
        "print(classification_report(flatten_pred(Y_Test), flatten_pred(y_test_preds)))"
      ]
    },
    {
      "cell_type": "markdown",
      "metadata": {
        "id": "3cX-tpR9uUF6"
      },
      "source": [
        "window_size=32"
      ]
    },
    {
      "cell_type": "code",
      "execution_count": null,
      "metadata": {
        "colab": {
          "base_uri": "https://localhost:8080/"
        },
        "id": "Fp1K-H4NuXUr",
        "outputId": "801650fc-d525-4cc7-cc83-909fe4717751"
      },
      "outputs": [
        {
          "name": "stdout",
          "output_type": "stream",
          "text": [
            "              precision    recall  f1-score   support\n",
            "\n",
            "           0       0.81      0.96      0.88    276499\n",
            "           1       0.67      0.74      0.70     10517\n",
            "           2       0.93      0.63      0.75     16672\n",
            "           3       0.57      0.15      0.24     63064\n",
            "\n",
            "    accuracy                           0.80    366752\n",
            "   macro avg       0.75      0.62      0.64    366752\n",
            "weighted avg       0.77      0.80      0.76    366752\n",
            "\n"
          ]
        }
      ],
      "source": [
        "from sklearn.metrics import classification_report\n",
        "print(classification_report(flatten_pred(Y_Test), flatten_pred(y_test_preds)))"
      ]
    },
    {
      "cell_type": "markdown",
      "metadata": {
        "id": "VFPzCLlCtVg8"
      },
      "source": [
        "Kernalsize=4 without oversampling"
      ]
    },
    {
      "cell_type": "code",
      "execution_count": null,
      "metadata": {
        "colab": {
          "base_uri": "https://localhost:8080/"
        },
        "id": "nduPiQH3tWqj",
        "outputId": "2c8b2efb-92ee-42f0-9c26-1b37ba807b9d"
      },
      "outputs": [
        {
          "name": "stdout",
          "output_type": "stream",
          "text": [
            "              precision    recall  f1-score   support\n",
            "\n",
            "           0       0.85      0.92      0.88    278159\n",
            "           1       0.61      0.73      0.67     10572\n",
            "           2       0.93      0.70      0.80     16774\n",
            "           3       0.55      0.37      0.44     63455\n",
            "\n",
            "    accuracy                           0.81    368960\n",
            "   macro avg       0.73      0.68      0.70    368960\n",
            "weighted avg       0.79      0.81      0.79    368960\n",
            "\n"
          ]
        }
      ],
      "source": [
        "from sklearn.metrics import classification_report\n",
        "print(classification_report(flatten_pred(Y_Test), flatten_pred(y_test_preds)))"
      ]
    },
    {
      "cell_type": "markdown",
      "metadata": {
        "id": "CorkShpVDxMe"
      },
      "source": [
        "For window_size=12 and Smote data"
      ]
    },
    {
      "cell_type": "code",
      "execution_count": null,
      "metadata": {
        "colab": {
          "base_uri": "https://localhost:8080/"
        },
        "id": "urjGr7wHDghf",
        "outputId": "b50fe37a-24e5-4957-8748-49127ff62322"
      },
      "outputs": [
        {
          "name": "stdout",
          "output_type": "stream",
          "text": [
            "              precision    recall  f1-score   support\n",
            "\n",
            "           0       0.78      0.98      0.87    263206\n",
            "           1       0.55      0.25      0.34     10007\n",
            "           2       0.76      0.57      0.65     15875\n",
            "           3       0.36      0.01      0.02     60040\n",
            "\n",
            "    accuracy                           0.78    349128\n",
            "   macro avg       0.61      0.45      0.47    349128\n",
            "weighted avg       0.70      0.78      0.70    349128\n",
            "\n"
          ]
        }
      ],
      "source": [
        "from sklearn.metrics import classification_report\n",
        "print(classification_report(flatten_pred(Y_Test), flatten_pred(y_test_preds)))"
      ]
    },
    {
      "cell_type": "markdown",
      "metadata": {
        "id": "fFTNZ-hWDZCT"
      },
      "source": [
        "For window_size=12 and without oversampling data"
      ]
    },
    {
      "cell_type": "code",
      "execution_count": null,
      "metadata": {
        "colab": {
          "base_uri": "https://localhost:8080/"
        },
        "id": "rZGJ8zHJXkQq",
        "outputId": "2b0cb16b-3be3-488b-cd1a-ea36daa2fd57"
      },
      "outputs": [
        {
          "name": "stdout",
          "output_type": "stream",
          "text": [
            "              precision    recall  f1-score   support\n",
            "\n",
            "           0       0.83      0.97      0.89    271558\n",
            "           1       0.71      0.65      0.68     10327\n",
            "           2       0.91      0.70      0.79     16374\n",
            "           3       0.66      0.22      0.33     61941\n",
            "\n",
            "    accuracy                           0.82    360200\n",
            "   macro avg       0.77      0.63      0.67    360200\n",
            "weighted avg       0.80      0.82      0.78    360200\n",
            "\n"
          ]
        }
      ],
      "source": [
        "from sklearn.metrics import classification_report\n",
        "print(classification_report(flatten_pred(Y_Test), flatten_pred(y_test_preds)))"
      ]
    },
    {
      "cell_type": "markdown",
      "metadata": {
        "id": "LOTSfZBtUqTu"
      },
      "source": [
        "#LSTM model"
      ]
    },
    {
      "cell_type": "code",
      "execution_count": null,
      "metadata": {
        "id": "zGU9N8FwbUop"
      },
      "outputs": [],
      "source": [
        "\n",
        "def lstm_model():\n",
        "  model = Sequential()\n",
        "  model.add(LSTM(128, activation='relu', return_sequences=True, input_shape=(40,6)))\n",
        "  model.add(Dropout(0.2))\n",
        "\n",
        "  model.add(LSTM(64, activation='relu', return_sequences=True))\n",
        "  model.add(Dropout(0.2))\n",
        "\n",
        "  model.add(Dense(4, activation='softmax'))\n",
        "  model.compile(optimizer=Adagrad(learning_rate=0.01) , loss='categorical_crossentropy', metrics=['accuracy'],)\n",
        "  return model \n"
      ]
    },
    {
      "cell_type": "code",
      "execution_count": null,
      "metadata": {
        "colab": {
          "base_uri": "https://localhost:8080/"
        },
        "id": "mxra2cmcXRe3",
        "outputId": "af82910f-eaed-49cb-ee72-4a8f21fe6a45"
      },
      "outputs": [
        {
          "name": "stderr",
          "output_type": "stream",
          "text": [
            "WARNING:tensorflow:Layer lstm_1 will not use cuDNN kernels since it doesn't meet the criteria. It will use a generic GPU kernel as fallback when running on GPU.\n",
            "WARNING:tensorflow:Layer lstm_2 will not use cuDNN kernels since it doesn't meet the criteria. It will use a generic GPU kernel as fallback when running on GPU.\n"
          ]
        },
        {
          "name": "stdout",
          "output_type": "stream",
          "text": [
            "Model: \"sequential_1\"\n",
            "_________________________________________________________________\n",
            " Layer (type)                Output Shape              Param #   \n",
            "=================================================================\n",
            " lstm_1 (LSTM)               (None, 40, 128)           69120     \n",
            "                                                                 \n",
            " dropout_4 (Dropout)         (None, 40, 128)           0         \n",
            "                                                                 \n",
            " lstm_2 (LSTM)               (None, 40, 64)            49408     \n",
            "                                                                 \n",
            " dropout_5 (Dropout)         (None, 40, 64)            0         \n",
            "                                                                 \n",
            " dense_1 (Dense)             (None, 40, 4)             260       \n",
            "                                                                 \n",
            "=================================================================\n",
            "Total params: 118,788\n",
            "Trainable params: 118,788\n",
            "Non-trainable params: 0\n",
            "_________________________________________________________________\n"
          ]
        }
      ],
      "source": [
        "lstm_clf = lstm_model()\n",
        "lstm_clf.summary()"
      ]
    },
    {
      "cell_type": "code",
      "execution_count": null,
      "metadata": {
        "id": "xRI0zDW8YNOc"
      },
      "outputs": [],
      "source": [
        "lstm_history = lstm_clf.fit(X_Train,Y_Train, epochs=25, verbose=1, validation_data=(X_val,Y_val))"
      ]
    },
    {
      "cell_type": "code",
      "execution_count": null,
      "metadata": {
        "colab": {
          "base_uri": "https://localhost:8080/"
        },
        "id": "TA2NXpd7yMjg",
        "outputId": "b0a61097-5c1f-4ddf-b772-06fd709a670a"
      },
      "outputs": [
        {
          "name": "stdout",
          "output_type": "stream",
          "text": [
            "289/289 [==============================] - 5s 15ms/step\n"
          ]
        }
      ],
      "source": [
        "lstm_test_preds=lstm_clf.predict(X_Test)"
      ]
    },
    {
      "cell_type": "code",
      "execution_count": null,
      "metadata": {
        "colab": {
          "base_uri": "https://localhost:8080/"
        },
        "id": "_FK2OLyntEhu",
        "outputId": "87892086-293e-4400-cca6-06825449d031"
      },
      "outputs": [
        {
          "name": "stdout",
          "output_type": "stream",
          "text": [
            "              precision    recall  f1-score   support\n",
            "\n",
            "           0       0.85      0.89      0.87    278159\n",
            "           1       0.71      0.52      0.60     10572\n",
            "           2       0.84      0.57      0.68     16774\n",
            "           3       0.52      0.46      0.49     63455\n",
            "\n",
            "    accuracy                           0.79    368960\n",
            "   macro avg       0.73      0.61      0.66    368960\n",
            "weighted avg       0.79      0.79      0.79    368960\n",
            "\n"
          ]
        }
      ],
      "source": [
        "from sklearn.metrics import classification_report\n",
        "print(classification_report(flatten_pred(Y_Test), flatten_pred(lstm_test_preds)))"
      ]
    },
    {
      "cell_type": "markdown",
      "metadata": {
        "id": "VFeZLeQfzvqr"
      },
      "source": [
        "#CNN+LSTM model"
      ]
    },
    {
      "cell_type": "code",
      "execution_count": 41,
      "metadata": {
        "id": "wrcwvXQmyJ3q"
      },
      "outputs": [],
      "source": [
        "def create_cnn_lstm():\n",
        "  model = Sequential()\n",
        "  model.add(Conv1D(128,4, padding='same', activation='relu', input_shape=(window_size,6)))\n",
        "  model.add(AveragePooling1D(2))\n",
        "  model.add(Dropout(0.2))\n",
        "\n",
        "  model.add(Conv1D(256,4, padding='same', activation='relu'))\n",
        "  model.add(AveragePooling1D(2))\n",
        "  model.add(Dropout(0.2))\n",
        "\n",
        "  model.add(Conv1D(128,4, padding='same', activation='relu'))\n",
        "  model.add(UpSampling1D(size=2))\n",
        "  model.add(Dropout(0.2))\n",
        "\n",
        "\n",
        "\n",
        "  model.add(LSTM(128, activation='relu',return_sequences=True))\n",
        "  model.add(Dropout(0.2))\n",
        "  model.add(UpSampling1D(size=2))\n",
        "  \n",
        "  model.add(Dense(4, activation='softmax'))\n",
        "  \n",
        "  model.compile(optimizer=Adam(), loss='categorical_crossentropy', metrics='accuracy')\n",
        "  return model \n"
      ]
    },
    {
      "cell_type": "code",
      "execution_count": 42,
      "metadata": {
        "colab": {
          "base_uri": "https://localhost:8080/"
        },
        "id": "9do2iZHU2CMx",
        "outputId": "67c2e837-1950-41f1-b1eb-8bb0f169efd2"
      },
      "outputs": [
        {
          "name": "stderr",
          "output_type": "stream",
          "text": [
            "WARNING:tensorflow:Layer lstm will not use cuDNN kernels since it doesn't meet the criteria. It will use a generic GPU kernel as fallback when running on GPU.\n"
          ]
        },
        {
          "name": "stdout",
          "output_type": "stream",
          "text": [
            "Model: \"sequential\"\n",
            "_________________________________________________________________\n",
            " Layer (type)                Output Shape              Param #   \n",
            "=================================================================\n",
            " conv1d (Conv1D)             (None, 40, 128)           3200      \n",
            "                                                                 \n",
            " average_pooling1d (AverageP  (None, 20, 128)          0         \n",
            " ooling1D)                                                       \n",
            "                                                                 \n",
            " dropout (Dropout)           (None, 20, 128)           0         \n",
            "                                                                 \n",
            " conv1d_1 (Conv1D)           (None, 20, 256)           131328    \n",
            "                                                                 \n",
            " average_pooling1d_1 (Averag  (None, 10, 256)          0         \n",
            " ePooling1D)                                                     \n",
            "                                                                 \n",
            " dropout_1 (Dropout)         (None, 10, 256)           0         \n",
            "                                                                 \n",
            " conv1d_2 (Conv1D)           (None, 10, 128)           131200    \n",
            "                                                                 \n",
            " up_sampling1d (UpSampling1D  (None, 20, 128)          0         \n",
            " )                                                               \n",
            "                                                                 \n",
            " dropout_2 (Dropout)         (None, 20, 128)           0         \n",
            "                                                                 \n",
            " lstm (LSTM)                 (None, 20, 128)           131584    \n",
            "                                                                 \n",
            " dropout_3 (Dropout)         (None, 20, 128)           0         \n",
            "                                                                 \n",
            " up_sampling1d_1 (UpSampling  (None, 40, 128)          0         \n",
            " 1D)                                                             \n",
            "                                                                 \n",
            " dense (Dense)               (None, 40, 4)             516       \n",
            "                                                                 \n",
            "=================================================================\n",
            "Total params: 397,828\n",
            "Trainable params: 397,828\n",
            "Non-trainable params: 0\n",
            "_________________________________________________________________\n"
          ]
        }
      ],
      "source": [
        "CNN_lstm = create_cnn_lstm()\n",
        "CNN_lstm.summary()"
      ]
    },
    {
      "cell_type": "code",
      "execution_count": null,
      "metadata": {
        "colab": {
          "base_uri": "https://localhost:8080/"
        },
        "id": "1eRLVB-V5C0F",
        "outputId": "93a4194b-0764-446c-fa33-bb5ba4b78704"
      },
      "outputs": [
        {
          "name": "stdout",
          "output_type": "stream",
          "text": [
            "Epoch 1/25\n",
            "565/565 [==============================] - 36s 47ms/step - loss: 0.5476 - accuracy: 0.8014 - val_loss: 0.3711 - val_accuracy: 0.8739\n",
            "Epoch 2/25\n",
            "565/565 [==============================] - 25s 44ms/step - loss: 0.3712 - accuracy: 0.8650 - val_loss: 0.2471 - val_accuracy: 0.9136\n",
            "Epoch 3/25\n",
            "565/565 [==============================] - 27s 49ms/step - loss: 0.3185 - accuracy: 0.8863 - val_loss: 0.2455 - val_accuracy: 0.9188\n",
            "Epoch 4/25\n",
            "565/565 [==============================] - 26s 45ms/step - loss: 0.2913 - accuracy: 0.8964 - val_loss: 0.2154 - val_accuracy: 0.9233\n",
            "Epoch 5/25\n",
            "460/565 [=======================>......] - ETA: 4s - loss: 0.2663 - accuracy: 0.9074"
          ]
        }
      ],
      "source": [
        "CNN_lstm.fit(X_Train,Y_Train, epochs=25, verbose=1, validation_data=(X_val,Y_val))"
      ]
    },
    {
      "cell_type": "code",
      "execution_count": null,
      "metadata": {
        "colab": {
          "base_uri": "https://localhost:8080/"
        },
        "id": "r_w-IZNX5nIC",
        "outputId": "7fa32ba6-7827-438d-f0f3-df4e165894e0"
      },
      "outputs": [
        {
          "name": "stdout",
          "output_type": "stream",
          "text": [
            "289/289 [==============================] - 2s 6ms/step\n",
            "              precision    recall  f1-score   support\n",
            "\n",
            "           0       0.90      0.91      0.90    278159\n",
            "           1       0.84      0.73      0.78     10572\n",
            "           2       0.90      0.77      0.83     16774\n",
            "           3       0.62      0.63      0.63     63455\n",
            "\n",
            "    accuracy                           0.85    368960\n",
            "   macro avg       0.82      0.76      0.79    368960\n",
            "weighted avg       0.85      0.85      0.85    368960\n",
            "\n"
          ]
        }
      ],
      "source": [
        "cnn_lstm_test_preds1=CNN_lstm.predict(X_Test)\n",
        "print(classification_report(flatten_pred(Y_Test), flatten_pred(cnn_lstm_test_preds1)))"
      ]
    },
    {
      "cell_type": "markdown",
      "metadata": {
        "id": "pf2k73gpCkOu"
      },
      "source": [
        "window_size=40; no oversampling ; 3cnn layers"
      ]
    },
    {
      "cell_type": "code",
      "execution_count": null,
      "metadata": {
        "colab": {
          "base_uri": "https://localhost:8080/"
        },
        "id": "AL54lSMP8d4l",
        "outputId": "5dde3c7d-cfd0-4a6c-b6cf-d80cdc8b47a2"
      },
      "outputs": [
        {
          "name": "stdout",
          "output_type": "stream",
          "text": [
            "              precision    recall  f1-score   support\n",
            "\n",
            "           0       0.90      0.90      0.90    278159\n",
            "           1       0.79      0.81      0.80     10572\n",
            "           2       0.95      0.74      0.83     16774\n",
            "           3       0.62      0.64      0.63     63455\n",
            "\n",
            "    accuracy                           0.85    368960\n",
            "   macro avg       0.81      0.77      0.79    368960\n",
            "weighted avg       0.85      0.85      0.85    368960\n",
            "\n"
          ]
        }
      ],
      "source": [
        "print(classification_report(flatten_pred(Y_Test), flatten_pred(cnn_lstm_test_preds)))"
      ]
    },
    {
      "cell_type": "markdown",
      "metadata": {
        "id": "3Nt2DcHI8rut"
      },
      "source": [
        "#CNN+LSTM "
      ]
    },
    {
      "cell_type": "code",
      "execution_count": null,
      "metadata": {
        "id": "32BynLnf8lPR"
      },
      "outputs": [],
      "source": [
        "def create_cnn_lstm():\n",
        "  model = Sequential()\n",
        "  model.add(Conv1D(128,3, padding='same', activation='relu', input_shape=(window_size,6)))\n",
        "  model.add(AveragePooling1D(2))\n",
        "  model.add(Dropout(0.2))\n",
        "\n",
        "  model.add(Conv1D(256,3, padding='same', activation='relu'))\n",
        "  model.add(AveragePooling1D(2))\n",
        "  model.add(Dropout(0.2))\n",
        "\n",
        "  model.add(Conv1D(128,3, padding='same', activation='relu'))\n",
        "  model.add(UpSampling1D(size=2))\n",
        "  model.add(Dropout(0.2))\n",
        "\n",
        "\n",
        "\n",
        "  model.add(LSTM(128, activation='relu',return_sequences=True))\n",
        "  model.add(Dropout(0.2))\n",
        "  model.add(UpSampling1D(size=2))\n",
        "  \n",
        "  model.add(Dense(4, activation='softmax'))\n",
        "  \n",
        "  model.compile(optimizer=Adam(), loss='categorical_crossentropy', metrics='accuracy')\n",
        "  return model \n"
      ]
    },
    {
      "cell_type": "code",
      "execution_count": null,
      "metadata": {
        "colab": {
          "base_uri": "https://localhost:8080/"
        },
        "id": "HHyW6d9CDKTw",
        "outputId": "7dc5299b-529e-4940-cda7-c3752470fafb"
      },
      "outputs": [
        {
          "name": "stderr",
          "output_type": "stream",
          "text": [
            "WARNING:tensorflow:Layer lstm_3 will not use cuDNN kernels since it doesn't meet the criteria. It will use a generic GPU kernel as fallback when running on GPU.\n"
          ]
        },
        {
          "name": "stdout",
          "output_type": "stream",
          "text": [
            "Model: \"sequential_2\"\n",
            "_________________________________________________________________\n",
            " Layer (type)                Output Shape              Param #   \n",
            "=================================================================\n",
            " conv1d_3 (Conv1D)           (None, 40, 128)           2432      \n",
            "                                                                 \n",
            " average_pooling1d_2 (Averag  (None, 20, 128)          0         \n",
            " ePooling1D)                                                     \n",
            "                                                                 \n",
            " dropout_6 (Dropout)         (None, 20, 128)           0         \n",
            "                                                                 \n",
            " conv1d_4 (Conv1D)           (None, 20, 256)           98560     \n",
            "                                                                 \n",
            " average_pooling1d_3 (Averag  (None, 10, 256)          0         \n",
            " ePooling1D)                                                     \n",
            "                                                                 \n",
            " dropout_7 (Dropout)         (None, 10, 256)           0         \n",
            "                                                                 \n",
            " conv1d_5 (Conv1D)           (None, 10, 128)           98432     \n",
            "                                                                 \n",
            " up_sampling1d_2 (UpSampling  (None, 20, 128)          0         \n",
            " 1D)                                                             \n",
            "                                                                 \n",
            " dropout_8 (Dropout)         (None, 20, 128)           0         \n",
            "                                                                 \n",
            " lstm_3 (LSTM)               (None, 20, 128)           131584    \n",
            "                                                                 \n",
            " dropout_9 (Dropout)         (None, 20, 128)           0         \n",
            "                                                                 \n",
            " up_sampling1d_3 (UpSampling  (None, 40, 128)          0         \n",
            " 1D)                                                             \n",
            "                                                                 \n",
            " dense_2 (Dense)             (None, 40, 4)             516       \n",
            "                                                                 \n",
            "=================================================================\n",
            "Total params: 331,524\n",
            "Trainable params: 331,524\n",
            "Non-trainable params: 0\n",
            "_________________________________________________________________\n"
          ]
        }
      ],
      "source": [
        "CNN_lstm = create_cnn_lstm()\n",
        "CNN_lstm.summary()"
      ]
    },
    {
      "cell_type": "code",
      "execution_count": null,
      "metadata": {
        "colab": {
          "base_uri": "https://localhost:8080/"
        },
        "id": "gQGi172-DPWx",
        "outputId": "a4935793-86f5-4c70-d322-1e4fb1be5501"
      },
      "outputs": [
        {
          "name": "stdout",
          "output_type": "stream",
          "text": [
            "Epoch 1/15\n",
            "551/551 [==============================] - 47s 82ms/step - loss: 0.6422 - accuracy: 0.7648 - val_loss: 0.3272 - val_accuracy: 0.8879\n",
            "Epoch 2/15\n",
            "551/551 [==============================] - 27s 50ms/step - loss: 0.4194 - accuracy: 0.8448 - val_loss: 0.3093 - val_accuracy: 0.8991\n",
            "Epoch 3/15\n",
            "551/551 [==============================] - 28s 50ms/step - loss: 0.3659 - accuracy: 0.8666 - val_loss: 0.2732 - val_accuracy: 0.9081\n",
            "Epoch 4/15\n",
            "551/551 [==============================] - 26s 47ms/step - loss: 0.3391 - accuracy: 0.8752 - val_loss: 0.2778 - val_accuracy: 0.9076\n",
            "Epoch 5/15\n",
            "551/551 [==============================] - 26s 47ms/step - loss: 0.3117 - accuracy: 0.8864 - val_loss: 0.2492 - val_accuracy: 0.9117\n",
            "Epoch 6/15\n",
            "551/551 [==============================] - 26s 47ms/step - loss: 0.2946 - accuracy: 0.8927 - val_loss: 0.2392 - val_accuracy: 0.9145\n",
            "Epoch 7/15\n",
            "551/551 [==============================] - 26s 47ms/step - loss: 0.2803 - accuracy: 0.8980 - val_loss: 0.2376 - val_accuracy: 0.9149\n",
            "Epoch 8/15\n",
            "551/551 [==============================] - 25s 46ms/step - loss: 0.2689 - accuracy: 0.9037 - val_loss: 0.2152 - val_accuracy: 0.9252\n",
            "Epoch 9/15\n",
            "551/551 [==============================] - 26s 47ms/step - loss: 0.2547 - accuracy: 0.9069 - val_loss: 0.2356 - val_accuracy: 0.9172\n",
            "Epoch 10/15\n",
            "551/551 [==============================] - 26s 47ms/step - loss: 0.2462 - accuracy: 0.9104 - val_loss: 0.2124 - val_accuracy: 0.9223\n",
            "Epoch 11/15\n",
            "551/551 [==============================] - 26s 47ms/step - loss: 0.2423 - accuracy: 0.9124 - val_loss: 0.2174 - val_accuracy: 0.9212\n",
            "Epoch 12/15\n",
            "551/551 [==============================] - 26s 47ms/step - loss: 0.2331 - accuracy: 0.9154 - val_loss: 0.2398 - val_accuracy: 0.9095\n",
            "Epoch 13/15\n",
            "551/551 [==============================] - 27s 48ms/step - loss: 0.2234 - accuracy: 0.9183 - val_loss: 0.2437 - val_accuracy: 0.9105\n",
            "Epoch 14/15\n",
            "551/551 [==============================] - 27s 49ms/step - loss: 0.2144 - accuracy: 0.9216 - val_loss: 0.2318 - val_accuracy: 0.9162\n",
            "Epoch 15/15\n",
            "551/551 [==============================] - 26s 47ms/step - loss: 0.2085 - accuracy: 0.9232 - val_loss: 0.2421 - val_accuracy: 0.9113\n"
          ]
        },
        {
          "data": {
            "text/plain": [
              "<keras.callbacks.History at 0x7f04043f3d30>"
            ]
          },
          "execution_count": 38,
          "metadata": {},
          "output_type": "execute_result"
        }
      ],
      "source": [
        "CNN_lstm.fit(X_Train,Y_Train, epochs=15, verbose=1, validation_data=(X_val,Y_val))"
      ]
    },
    {
      "cell_type": "code",
      "execution_count": null,
      "metadata": {
        "colab": {
          "base_uri": "https://localhost:8080/"
        },
        "id": "m_3cmipBD5tS",
        "outputId": "1fbff866-cfdf-404c-849e-49f5d8d9a439"
      },
      "outputs": [
        {
          "name": "stdout",
          "output_type": "stream",
          "text": [
            "289/289 [==============================] - 3s 9ms/step\n",
            "              precision    recall  f1-score   support\n",
            "\n",
            "           0       0.85      0.95      0.90    278159\n",
            "           1       0.72      0.77      0.74     10572\n",
            "           2       0.90      0.75      0.82     16774\n",
            "           3       0.68      0.34      0.45     63455\n",
            "\n",
            "    accuracy                           0.83    368960\n",
            "   macro avg       0.79      0.70      0.73    368960\n",
            "weighted avg       0.82      0.83      0.81    368960\n",
            "\n"
          ]
        }
      ],
      "source": [
        "cnn_lstm_test_preds2=CNN_lstm.predict(X_Test)\n",
        "print(classification_report(flatten_pred(Y_Test), flatten_pred(cnn_lstm_test_preds2)))"
      ]
    },
    {
      "cell_type": "markdown",
      "metadata": {
        "id": "Axnq0Gu4DjBi"
      },
      "source": [
        "optimizer = adagrad"
      ]
    },
    {
      "cell_type": "code",
      "execution_count": null,
      "metadata": {
        "id": "zpy72IQdDgEJ"
      },
      "outputs": [],
      "source": [
        "def create_cnn_lstm():\n",
        "  model = Sequential()\n",
        "  model.add(Conv1D(128,4, padding='same', activation='relu', input_shape=(window_size,6)))\n",
        "  model.add(AveragePooling1D(2))\n",
        "  model.add(Dropout(0.2))\n",
        "\n",
        "  model.add(Conv1D(256,4, padding='same', activation='relu'))\n",
        "  model.add(AveragePooling1D(2))\n",
        "  model.add(Dropout(0.2))\n",
        "\n",
        "  model.add(Conv1D(128,4, padding='same', activation='relu'))\n",
        "  model.add(UpSampling1D(size=2))\n",
        "  model.add(Dropout(0.2))\n",
        "\n",
        "\n",
        "\n",
        "  model.add(LSTM(128, activation='relu',return_sequences=True))\n",
        "  model.add(Dropout(0.2))\n",
        "  model.add(UpSampling1D(size=2))\n",
        "  \n",
        "  model.add(Dense(4, activation='softmax'))\n",
        "  \n",
        "  model.compile(optimizer=Adagrad(learning_rate=0.01), loss='categorical_crossentropy', metrics='accuracy')\n",
        "  return model \n"
      ]
    },
    {
      "cell_type": "code",
      "execution_count": null,
      "metadata": {
        "colab": {
          "base_uri": "https://localhost:8080/"
        },
        "id": "X4IxgcsQFxlO",
        "outputId": "5a943b04-f34e-4b63-e1c9-671f71adf126"
      },
      "outputs": [
        {
          "name": "stderr",
          "output_type": "stream",
          "text": [
            "WARNING:tensorflow:Layer lstm_4 will not use cuDNN kernels since it doesn't meet the criteria. It will use a generic GPU kernel as fallback when running on GPU.\n"
          ]
        },
        {
          "name": "stdout",
          "output_type": "stream",
          "text": [
            "Model: \"sequential_3\"\n",
            "_________________________________________________________________\n",
            " Layer (type)                Output Shape              Param #   \n",
            "=================================================================\n",
            " conv1d_6 (Conv1D)           (None, 40, 128)           3200      \n",
            "                                                                 \n",
            " average_pooling1d_4 (Averag  (None, 20, 128)          0         \n",
            " ePooling1D)                                                     \n",
            "                                                                 \n",
            " dropout_10 (Dropout)        (None, 20, 128)           0         \n",
            "                                                                 \n",
            " conv1d_7 (Conv1D)           (None, 20, 256)           131328    \n",
            "                                                                 \n",
            " average_pooling1d_5 (Averag  (None, 10, 256)          0         \n",
            " ePooling1D)                                                     \n",
            "                                                                 \n",
            " dropout_11 (Dropout)        (None, 10, 256)           0         \n",
            "                                                                 \n",
            " conv1d_8 (Conv1D)           (None, 10, 128)           131200    \n",
            "                                                                 \n",
            " up_sampling1d_4 (UpSampling  (None, 20, 128)          0         \n",
            " 1D)                                                             \n",
            "                                                                 \n",
            " dropout_12 (Dropout)        (None, 20, 128)           0         \n",
            "                                                                 \n",
            " lstm_4 (LSTM)               (None, 20, 128)           131584    \n",
            "                                                                 \n",
            " dropout_13 (Dropout)        (None, 20, 128)           0         \n",
            "                                                                 \n",
            " up_sampling1d_5 (UpSampling  (None, 40, 128)          0         \n",
            " 1D)                                                             \n",
            "                                                                 \n",
            " dense_3 (Dense)             (None, 40, 4)             516       \n",
            "                                                                 \n",
            "=================================================================\n",
            "Total params: 397,828\n",
            "Trainable params: 397,828\n",
            "Non-trainable params: 0\n",
            "_________________________________________________________________\n"
          ]
        }
      ],
      "source": [
        "CNN_lstm = create_cnn_lstm()\n",
        "CNN_lstm.summary()"
      ]
    },
    {
      "cell_type": "code",
      "execution_count": null,
      "metadata": {
        "colab": {
          "base_uri": "https://localhost:8080/"
        },
        "id": "ymXRIFU5Dx-V",
        "outputId": "7bc7be91-a1bd-471e-caa8-650d1edffc81"
      },
      "outputs": [
        {
          "name": "stdout",
          "output_type": "stream",
          "text": [
            "Epoch 1/25\n",
            "551/551 [==============================] - 29s 49ms/step - loss: 0.8361 - accuracy: 0.7272 - val_loss: 0.6287 - val_accuracy: 0.8102\n",
            "Epoch 2/25\n",
            "551/551 [==============================] - 26s 48ms/step - loss: 0.6988 - accuracy: 0.7372 - val_loss: 0.7635 - val_accuracy: 0.7429\n",
            "Epoch 3/25\n",
            "551/551 [==============================] - 28s 51ms/step - loss: 0.5942 - accuracy: 0.7736 - val_loss: 0.4089 - val_accuracy: 0.8719\n",
            "Epoch 4/25\n",
            "551/551 [==============================] - 27s 49ms/step - loss: 0.5223 - accuracy: 0.7980 - val_loss: 0.3541 - val_accuracy: 0.8832\n",
            "Epoch 5/25\n",
            "551/551 [==============================] - 27s 49ms/step - loss: 0.4866 - accuracy: 0.8122 - val_loss: 0.3800 - val_accuracy: 0.8810\n",
            "Epoch 6/25\n",
            "551/551 [==============================] - 26s 48ms/step - loss: 0.4579 - accuracy: 0.8239 - val_loss: 0.4975 - val_accuracy: 0.7909\n",
            "Epoch 7/25\n",
            "551/551 [==============================] - 26s 48ms/step - loss: 0.4370 - accuracy: 0.8333 - val_loss: 0.2951 - val_accuracy: 0.8967\n",
            "Epoch 8/25\n",
            "551/551 [==============================] - 26s 47ms/step - loss: 0.4178 - accuracy: 0.8417 - val_loss: 0.2941 - val_accuracy: 0.8996\n",
            "Epoch 9/25\n",
            "551/551 [==============================] - 27s 48ms/step - loss: 0.4078 - accuracy: 0.8479 - val_loss: 0.2937 - val_accuracy: 0.9023\n",
            "Epoch 10/25\n",
            "551/551 [==============================] - 26s 47ms/step - loss: 0.3945 - accuracy: 0.8524 - val_loss: 0.3189 - val_accuracy: 0.8942\n",
            "Epoch 11/25\n",
            "551/551 [==============================] - 27s 50ms/step - loss: 0.3824 - accuracy: 0.8587 - val_loss: 0.2833 - val_accuracy: 0.9027\n",
            "Epoch 12/25\n",
            "551/551 [==============================] - 27s 49ms/step - loss: 0.3753 - accuracy: 0.8608 - val_loss: 0.2682 - val_accuracy: 0.9092\n",
            "Epoch 13/25\n",
            "551/551 [==============================] - 27s 49ms/step - loss: 0.3680 - accuracy: 0.8656 - val_loss: 0.3162 - val_accuracy: 0.8864\n",
            "Epoch 14/25\n",
            "551/551 [==============================] - 27s 49ms/step - loss: 0.3582 - accuracy: 0.8689 - val_loss: 0.2615 - val_accuracy: 0.9108\n",
            "Epoch 15/25\n",
            "551/551 [==============================] - 27s 49ms/step - loss: 0.3497 - accuracy: 0.8717 - val_loss: 0.2735 - val_accuracy: 0.9049\n",
            "Epoch 16/25\n",
            "551/551 [==============================] - 27s 49ms/step - loss: 0.3427 - accuracy: 0.8757 - val_loss: 0.2927 - val_accuracy: 0.8929\n",
            "Epoch 17/25\n",
            "551/551 [==============================] - 29s 52ms/step - loss: 0.3384 - accuracy: 0.8770 - val_loss: 0.2448 - val_accuracy: 0.9131\n",
            "Epoch 18/25\n",
            "551/551 [==============================] - 27s 49ms/step - loss: 0.3303 - accuracy: 0.8802 - val_loss: 0.2457 - val_accuracy: 0.9130\n",
            "Epoch 19/25\n",
            "551/551 [==============================] - 27s 49ms/step - loss: 0.3274 - accuracy: 0.8823 - val_loss: 0.2508 - val_accuracy: 0.9133\n",
            "Epoch 20/25\n",
            "551/551 [==============================] - 27s 49ms/step - loss: 0.3217 - accuracy: 0.8834 - val_loss: 0.2510 - val_accuracy: 0.9160\n",
            "Epoch 21/25\n",
            "551/551 [==============================] - 27s 49ms/step - loss: 0.3144 - accuracy: 0.8873 - val_loss: 0.2340 - val_accuracy: 0.9184\n",
            "Epoch 22/25\n",
            "551/551 [==============================] - 29s 52ms/step - loss: 0.3083 - accuracy: 0.8894 - val_loss: 0.2270 - val_accuracy: 0.9207\n",
            "Epoch 23/25\n",
            "551/551 [==============================] - 27s 50ms/step - loss: 0.3090 - accuracy: 0.8876 - val_loss: 0.2281 - val_accuracy: 0.9190\n",
            "Epoch 24/25\n",
            "551/551 [==============================] - 27s 49ms/step - loss: 0.3029 - accuracy: 0.8910 - val_loss: 0.2230 - val_accuracy: 0.9207\n",
            "Epoch 25/25\n",
            "551/551 [==============================] - 26s 48ms/step - loss: 0.2997 - accuracy: 0.8924 - val_loss: 0.2929 - val_accuracy: 0.8866\n"
          ]
        },
        {
          "data": {
            "text/plain": [
              "<keras.callbacks.History at 0x7f040406ae50>"
            ]
          },
          "execution_count": 42,
          "metadata": {},
          "output_type": "execute_result"
        }
      ],
      "source": [
        "CNN_lstm.fit(X_Train,Y_Train, epochs=25, verbose=1, validation_data=(X_val,Y_val))"
      ]
    },
    {
      "cell_type": "code",
      "execution_count": null,
      "metadata": {
        "colab": {
          "base_uri": "https://localhost:8080/"
        },
        "id": "fEa4TEy1Dyn5",
        "outputId": "6c5b5103-40a3-4819-9d9a-7ef1a22cbedd"
      },
      "outputs": [
        {
          "name": "stdout",
          "output_type": "stream",
          "text": [
            "289/289 [==============================] - 2s 6ms/step\n",
            "              precision    recall  f1-score   support\n",
            "\n",
            "           0       0.93      0.72      0.81    278159\n",
            "           1       0.81      0.81      0.81     10572\n",
            "           2       0.93      0.84      0.88     16774\n",
            "           3       0.40      0.81      0.53     63455\n",
            "\n",
            "    accuracy                           0.74    368960\n",
            "   macro avg       0.77      0.79      0.76    368960\n",
            "weighted avg       0.84      0.74      0.77    368960\n",
            "\n"
          ]
        }
      ],
      "source": [
        "cnn_lstm_test_preds3=CNN_lstm.predict(X_Test)\n",
        "print(classification_report(flatten_pred(Y_Test), flatten_pred(cnn_lstm_test_preds3)))"
      ]
    },
    {
      "cell_type": "markdown",
      "metadata": {
        "id": "tDY9z8xbJ_Xj"
      },
      "source": [
        "Window SIze=4"
      ]
    },
    {
      "cell_type": "code",
      "execution_count": null,
      "metadata": {
        "id": "rtDs48VFFuLX"
      },
      "outputs": [],
      "source": [
        "def create_cnn_lstm():\n",
        "  model = Sequential()\n",
        "  model.add(Conv1D(128,4, padding='same', activation='relu', input_shape=(window_size,6)))\n",
        "  model.add(AveragePooling1D(2))\n",
        "  model.add(Dropout(0.2))\n",
        "\n",
        "  model.add(Conv1D(256,4, padding='same', activation='relu'))\n",
        "  model.add(AveragePooling1D(2))\n",
        "  model.add(Dropout(0.2))\n",
        "\n",
        "  model.add(Conv1D(128,4, padding='same', activation='relu'))\n",
        "  model.add(UpSampling1D(size=2))\n",
        "  model.add(Dropout(0.2))\n",
        "\n",
        "\n",
        "\n",
        "  model.add(LSTM(128, activation='relu',return_sequences=True))\n",
        "  model.add(Dropout(0.2))\n",
        "  model.add(UpSampling1D(size=2))\n",
        "  \n",
        "  model.add(Dense(4, activation='softmax'))\n",
        "  \n",
        "  model.compile(optimizer=Adagrad(learning_rate=0.01), loss='categorical_crossentropy', metrics='accuracy')\n",
        "  return model \n"
      ]
    },
    {
      "cell_type": "code",
      "execution_count": null,
      "metadata": {
        "colab": {
          "base_uri": "https://localhost:8080/"
        },
        "id": "NbW-eLoTKlj6",
        "outputId": "bf3856c3-8b18-4464-fedb-ac4aeea77492"
      },
      "outputs": [
        {
          "name": "stderr",
          "output_type": "stream",
          "text": [
            "WARNING:tensorflow:Layer lstm_14 will not use cuDNN kernels since it doesn't meet the criteria. It will use a generic GPU kernel as fallback when running on GPU.\n"
          ]
        },
        {
          "name": "stdout",
          "output_type": "stream",
          "text": [
            "Model: \"sequential_17\"\n",
            "_________________________________________________________________\n",
            " Layer (type)                Output Shape              Param #   \n",
            "=================================================================\n",
            " conv1d_28 (Conv1D)          (None, 4, 128)            3200      \n",
            "                                                                 \n",
            " average_pooling1d_18 (Avera  (None, 2, 128)           0         \n",
            " gePooling1D)                                                    \n",
            "                                                                 \n",
            " dropout_40 (Dropout)        (None, 2, 128)            0         \n",
            "                                                                 \n",
            " conv1d_29 (Conv1D)          (None, 2, 256)            131328    \n",
            "                                                                 \n",
            " average_pooling1d_19 (Avera  (None, 1, 256)           0         \n",
            " gePooling1D)                                                    \n",
            "                                                                 \n",
            " dropout_41 (Dropout)        (None, 1, 256)            0         \n",
            "                                                                 \n",
            " conv1d_30 (Conv1D)          (None, 1, 128)            131200    \n",
            "                                                                 \n",
            " up_sampling1d_16 (UpSamplin  (None, 2, 128)           0         \n",
            " g1D)                                                            \n",
            "                                                                 \n",
            " dropout_42 (Dropout)        (None, 2, 128)            0         \n",
            "                                                                 \n",
            " lstm_14 (LSTM)              (None, 2, 128)            131584    \n",
            "                                                                 \n",
            " dropout_43 (Dropout)        (None, 2, 128)            0         \n",
            "                                                                 \n",
            " up_sampling1d_17 (UpSamplin  (None, 4, 128)           0         \n",
            " g1D)                                                            \n",
            "                                                                 \n",
            " dense_14 (Dense)            (None, 4, 4)              516       \n",
            "                                                                 \n",
            "=================================================================\n",
            "Total params: 397,828\n",
            "Trainable params: 397,828\n",
            "Non-trainable params: 0\n",
            "_________________________________________________________________\n"
          ]
        }
      ],
      "source": [
        "CNN_lstm = create_cnn_lstm()\n",
        "CNN_lstm.summary()"
      ]
    },
    {
      "cell_type": "code",
      "execution_count": null,
      "metadata": {
        "colab": {
          "base_uri": "https://localhost:8080/"
        },
        "id": "_yFkVbjoKnFd",
        "outputId": "0ee059d3-b676-40c9-e7c5-6dc92ac7a68c"
      },
      "outputs": [
        {
          "name": "stdout",
          "output_type": "stream",
          "text": [
            "Epoch 1/15\n",
            "4517/4517 [==============================] - 56s 12ms/step - loss: 0.8399 - accuracy: 0.7288 - val_loss: 0.6823 - val_accuracy: 0.8102\n",
            "Epoch 2/15\n",
            "4517/4517 [==============================] - 51s 11ms/step - loss: 0.7668 - accuracy: 0.7290 - val_loss: 0.6040 - val_accuracy: 0.8109\n",
            "Epoch 3/15\n",
            "4517/4517 [==============================] - 51s 11ms/step - loss: 0.7003 - accuracy: 0.7356 - val_loss: 0.5584 - val_accuracy: 0.8252\n",
            "Epoch 4/15\n",
            "4517/4517 [==============================] - 52s 11ms/step - loss: 0.6527 - accuracy: 0.7503 - val_loss: 0.5132 - val_accuracy: 0.8333\n",
            "Epoch 5/15\n",
            "4517/4517 [==============================] - 61s 13ms/step - loss: 0.6199 - accuracy: 0.7633 - val_loss: 0.4940 - val_accuracy: 0.8419\n",
            "Epoch 6/15\n",
            "4517/4517 [==============================] - 52s 12ms/step - loss: 0.5958 - accuracy: 0.7735 - val_loss: 0.4778 - val_accuracy: 0.8489\n",
            "Epoch 7/15\n",
            "4517/4517 [==============================] - 50s 11ms/step - loss: 0.5760 - accuracy: 0.7817 - val_loss: 0.4641 - val_accuracy: 0.8489\n",
            "Epoch 8/15\n",
            "4517/4517 [==============================] - 50s 11ms/step - loss: 0.5610 - accuracy: 0.7870 - val_loss: 0.4566 - val_accuracy: 0.8544\n",
            "Epoch 9/15\n",
            "4517/4517 [==============================] - 50s 11ms/step - loss: 0.5497 - accuracy: 0.7906 - val_loss: 0.4714 - val_accuracy: 0.8507\n",
            "Epoch 10/15\n",
            "4517/4517 [==============================] - 50s 11ms/step - loss: 0.5388 - accuracy: 0.7947 - val_loss: 0.4506 - val_accuracy: 0.8534\n",
            "Epoch 11/15\n",
            "4517/4517 [==============================] - 50s 11ms/step - loss: 0.5308 - accuracy: 0.7976 - val_loss: 0.4338 - val_accuracy: 0.8573\n",
            "Epoch 12/15\n",
            "4517/4517 [==============================] - 49s 11ms/step - loss: 0.5228 - accuracy: 0.8002 - val_loss: 0.4282 - val_accuracy: 0.8584\n",
            "Epoch 13/15\n",
            "4517/4517 [==============================] - 50s 11ms/step - loss: 0.5164 - accuracy: 0.8028 - val_loss: 0.4413 - val_accuracy: 0.8543\n",
            "Epoch 14/15\n",
            "4517/4517 [==============================] - 57s 13ms/step - loss: 0.5115 - accuracy: 0.8047 - val_loss: 0.4348 - val_accuracy: 0.8549\n",
            "Epoch 15/15\n",
            "4517/4517 [==============================] - 54s 12ms/step - loss: 0.5055 - accuracy: 0.8062 - val_loss: 0.4335 - val_accuracy: 0.8550\n"
          ]
        },
        {
          "data": {
            "text/plain": [
              "<keras.callbacks.History at 0x7fccf62f33a0>"
            ]
          },
          "execution_count": 86,
          "metadata": {},
          "output_type": "execute_result"
        }
      ],
      "source": [
        "CNN_lstm.fit(X_Train,Y_Train, epochs=15, verbose=1, validation_data=(X_val,Y_val))"
      ]
    },
    {
      "cell_type": "code",
      "execution_count": null,
      "metadata": {
        "id": "yxcqRYYVLgbL"
      },
      "outputs": [],
      "source": [
        "CNN_lstm.fit(X_Train,Y_Train, epochs=10, verbose=1, validation_data=(X_val,Y_val))"
      ]
    },
    {
      "cell_type": "code",
      "execution_count": null,
      "metadata": {
        "colab": {
          "base_uri": "https://localhost:8080/"
        },
        "id": "rQgEyKq3KUlp",
        "outputId": "844bf3cc-a756-472c-e87f-7f48ae8f4dee"
      },
      "outputs": [
        {
          "name": "stdout",
          "output_type": "stream",
          "text": [
            "2364/2364 [==============================] - 7s 3ms/step\n",
            "              precision    recall  f1-score   support\n",
            "\n",
            "           0       0.81      0.92      0.86    228119\n",
            "           1       0.32      0.59      0.42      8670\n",
            "           2       0.65      0.64      0.65     13757\n",
            "           3       0.42      0.11      0.18     52030\n",
            "\n",
            "    accuracy                           0.76    302576\n",
            "   macro avg       0.55      0.57      0.53    302576\n",
            "weighted avg       0.72      0.76      0.72    302576\n",
            "\n"
          ]
        }
      ],
      "source": [
        "cnn_lstm_test_preds=CNN_lstm.predict(X_Test)\n",
        "print(classification_report(flatten_pred(Y_Test), flatten_pred(cnn_lstm_test_preds)))"
      ]
    },
    {
      "cell_type": "markdown",
      "metadata": {
        "id": "CBWXFgfANPmy"
      },
      "source": [
        "# CNN + LSTM with Custom Loss function i.e f1 score"
      ]
    },
    {
      "cell_type": "code",
      "execution_count": null,
      "metadata": {
        "id": "QEiolMDVKqcz"
      },
      "outputs": [],
      "source": [
        "def create_cnn_lstm_cust():\n",
        "  model = Sequential()\n",
        "  model.add(Conv1D(128,4, padding='same', activation='relu', input_shape=(window_size,6)))\n",
        "  model.add(AveragePooling1D(2))\n",
        "  model.add(Dropout(0.2))\n",
        "\n",
        "  model.add(Conv1D(256,4, padding='same', activation='relu'))\n",
        "  model.add(AveragePooling1D(2))\n",
        "  model.add(Dropout(0.2))\n",
        "\n",
        "  model.add(Conv1D(128,4, padding='same', activation='relu'))\n",
        "  model.add(UpSampling1D(size=2))\n",
        "  model.add(Dropout(0.2))\n",
        "\n",
        "\n",
        "\n",
        "  model.add(LSTM(128, activation='relu',return_sequences=True))\n",
        "  model.add(Dropout(0.2))\n",
        "  model.add(UpSampling1D(size=2))\n",
        "  \n",
        "  model.add(Dense(4, activation='softmax'))\n",
        "  \n",
        "  model.compile(optimizer=Adagrad(learning_rate=0.01), loss='categorical_crossentropy', metrics=get_f1)\n",
        "  return model \n"
      ]
    },
    {
      "cell_type": "code",
      "execution_count": null,
      "metadata": {
        "colab": {
          "base_uri": "https://localhost:8080/"
        },
        "id": "M3_fH5SxOLy2",
        "outputId": "513f9fd9-c03e-42ef-e46d-c93659e1f336"
      },
      "outputs": [
        {
          "name": "stderr",
          "output_type": "stream",
          "text": [
            "WARNING:tensorflow:Layer lstm_19 will not use cuDNN kernels since it doesn't meet the criteria. It will use a generic GPU kernel as fallback when running on GPU.\n"
          ]
        },
        {
          "name": "stdout",
          "output_type": "stream",
          "text": [
            "Model: \"sequential_22\"\n",
            "_________________________________________________________________\n",
            " Layer (type)                Output Shape              Param #   \n",
            "=================================================================\n",
            " conv1d_43 (Conv1D)          (None, 40, 128)           3200      \n",
            "                                                                 \n",
            " average_pooling1d_28 (Avera  (None, 20, 128)          0         \n",
            " gePooling1D)                                                    \n",
            "                                                                 \n",
            " dropout_60 (Dropout)        (None, 20, 128)           0         \n",
            "                                                                 \n",
            " conv1d_44 (Conv1D)          (None, 20, 256)           131328    \n",
            "                                                                 \n",
            " average_pooling1d_29 (Avera  (None, 10, 256)          0         \n",
            " gePooling1D)                                                    \n",
            "                                                                 \n",
            " dropout_61 (Dropout)        (None, 10, 256)           0         \n",
            "                                                                 \n",
            " conv1d_45 (Conv1D)          (None, 10, 128)           131200    \n",
            "                                                                 \n",
            " up_sampling1d_26 (UpSamplin  (None, 20, 128)          0         \n",
            " g1D)                                                            \n",
            "                                                                 \n",
            " dropout_62 (Dropout)        (None, 20, 128)           0         \n",
            "                                                                 \n",
            " lstm_19 (LSTM)              (None, 20, 128)           131584    \n",
            "                                                                 \n",
            " dropout_63 (Dropout)        (None, 20, 128)           0         \n",
            "                                                                 \n",
            " up_sampling1d_27 (UpSamplin  (None, 40, 128)          0         \n",
            " g1D)                                                            \n",
            "                                                                 \n",
            " dense_19 (Dense)            (None, 40, 4)             516       \n",
            "                                                                 \n",
            "=================================================================\n",
            "Total params: 397,828\n",
            "Trainable params: 397,828\n",
            "Non-trainable params: 0\n",
            "_________________________________________________________________\n"
          ]
        }
      ],
      "source": [
        "CNN_lstm = create_cnn_lstm_cust()\n",
        "CNN_lstm.summary()"
      ]
    },
    {
      "cell_type": "code",
      "execution_count": null,
      "metadata": {
        "id": "-llFDYfEOMkj"
      },
      "outputs": [],
      "source": [
        "create_cnn_lstm_cust.fit(X_Train,Y_Train, epochs=15, verbose=1, validation_data=(X_val,Y_val))"
      ]
    },
    {
      "cell_type": "code",
      "execution_count": null,
      "metadata": {
        "colab": {
          "base_uri": "https://localhost:8080/"
        },
        "id": "aJ1i41hYOUoQ",
        "outputId": "ddb5d50b-7481-4ba4-b574-2ae793544a54"
      },
      "outputs": [
        {
          "name": "stdout",
          "output_type": "stream",
          "text": [
            "289/289 [==============================] - 3s 10ms/step\n"
          ]
        },
        {
          "name": "stderr",
          "output_type": "stream",
          "text": [
            "/usr/local/lib/python3.9/dist-packages/sklearn/metrics/_classification.py:1344: UndefinedMetricWarning: Precision and F-score are ill-defined and being set to 0.0 in labels with no predicted samples. Use `zero_division` parameter to control this behavior.\n",
            "  _warn_prf(average, modifier, msg_start, len(result))\n"
          ]
        },
        {
          "name": "stdout",
          "output_type": "stream",
          "text": [
            "              precision    recall  f1-score   support\n",
            "\n",
            "           0       0.74      0.56      0.64    278159\n",
            "           1       0.02      0.13      0.03     10572\n",
            "           2       0.03      0.15      0.05     16774\n",
            "           3       0.00      0.00      0.00     63455\n",
            "\n",
            "    accuracy                           0.43    368960\n",
            "   macro avg       0.20      0.21      0.18    368960\n",
            "weighted avg       0.56      0.43      0.48    368960\n",
            "\n"
          ]
        },
        {
          "name": "stderr",
          "output_type": "stream",
          "text": [
            "/usr/local/lib/python3.9/dist-packages/sklearn/metrics/_classification.py:1344: UndefinedMetricWarning: Precision and F-score are ill-defined and being set to 0.0 in labels with no predicted samples. Use `zero_division` parameter to control this behavior.\n",
            "  _warn_prf(average, modifier, msg_start, len(result))\n",
            "/usr/local/lib/python3.9/dist-packages/sklearn/metrics/_classification.py:1344: UndefinedMetricWarning: Precision and F-score are ill-defined and being set to 0.0 in labels with no predicted samples. Use `zero_division` parameter to control this behavior.\n",
            "  _warn_prf(average, modifier, msg_start, len(result))\n"
          ]
        }
      ],
      "source": [
        "cnn_lstm_test_preds=create_cnn_lstm_cust.predict(X_Test)\n",
        "print(classification_report(flatten_pred(Y_Test), flatten_pred(cnn_lstm_test_preds)))"
      ]
    },
    {
      "cell_type": "markdown",
      "metadata": {
        "id": "PPCcoKUp46C5"
      },
      "source": [
        "#Parameter Tuning"
      ]
    },
    {
      "cell_type": "code",
      "execution_count": null,
      "metadata": {
        "id": "w_Ph6vg8CnIj"
      },
      "outputs": [],
      "source": [
        "layer1_units=1\n",
        "drop_out_layer1=2\n",
        "layer_2_units=3\n",
        "drop_out_layer_2=4\n",
        "layer_3_units=5\n",
        "dropout_layer3=6\n",
        "layer_4_units=7\n",
        "dropout_layer4=8\n",
        "learning_rate_=9"
      ]
    },
    {
      "cell_type": "code",
      "execution_count": null,
      "metadata": {
        "id": "zDr1XhFAfsHC"
      },
      "outputs": [],
      "source": [
        "\n",
        "def cnn1D_model(args):\n",
        "  model = Sequential()\n",
        "  model.add(Conv1D(args[layer1_units], kernel_size=4, activation='relu',padding='same',input_shape=(window_size,6)))\n",
        "  model.add(AveragePooling1D(2))\n",
        "\n",
        "  model.add(Dropout(args[drop_out_layer1]))\n",
        "\n",
        "  model.add(Conv1D(args[layer_2_units], kernel_size=4, activation= 'relu', padding='same'))\n",
        "  model.add(AveragePooling1D(2))\n",
        "  model.add(Dropout(args[drop_out_layer_2]))\n",
        "\n",
        "  model.add(Conv1D(args[layer_3_units], kernel_size=4, activation='relu', padding='same'))\n",
        "  model.add(UpSampling1D(size=2))\n",
        "  model.add(Dropout(args[dropout_layer3]))\n",
        "\n",
        "  model.add(Conv1D(args[layer_4_units], kernel_size=4, activation='relu', padding='same'))\n",
        "  model.add(UpSampling1D(size=2))\n",
        "  model.add(Dropout(args[dropout_layer4]))\n",
        "\n",
        "  model.add(Conv1D(4, kernel_size=4, activation='softmax', padding='same'))\n",
        "  model.compile(optimizer=Adam(learning_rate=args[learning_rate_]) , loss='categorical_crossentropy', metrics=METRICS)\n",
        "  return model\n"
      ]
    },
    {
      "cell_type": "code",
      "execution_count": null,
      "metadata": {
        "id": "Bqt5qagTEHB2"
      },
      "outputs": [],
      "source": [
        "class LSTMHyperModel(kt.HyperModel):\n",
        "  def build(self, hp):\n",
        "    args = {}\n",
        "    args[layer1_units] = hp.Int(\"base lstm units\", min_value=64, max_value=128, step=32)\n",
        "    args[layer_2_units] = hp.Int(\"second lstm layer units\", min_value=64, max_value=128, step=32)\n",
        "    args[layer_3_units] = hp.Int(\"third lstm units\",  min_value=64, max_value=128, step=32)\n",
        "    args[layer_4_units] = hp.Int(\"fourth lstm layer units\",  min_value=64, max_value=128, step=32)\n",
        "   \n",
        "    args[drop_out_layer1] = hp.Float(\"dropout1\", min_value=.1, max_value=.2, step=.1)\n",
        "    args[drop_out_layer_2] = hp.Float(\"dropout2\", min_value=.1, max_value=.3, step=.1)\n",
        "    args[dropout_layer3] = hp.Float(\"dropout3\", min_value=.1, max_value=.3, step=.1)\n",
        "    args[dropout_layer4] = hp.Float(\"dropout4\", min_value=.1, max_value=.3, step=.1)\n",
        "\n",
        "    #args[optimizer] = hp.Choice(\"optimizer\", ['adam', 'adagrad', 'rmsprop'])\n",
        "    args[learning_rate_] = hp.Choice(\"learning_rate\", [.001, .01, .005])\n",
        "\n",
        "    model = cnn1D_model(args)\n",
        "    return model"
      ]
    },
    {
      "cell_type": "code",
      "execution_count": null,
      "metadata": {
        "id": "Xv6EN5VSFQ4s"
      },
      "outputs": [],
      "source": [
        "tuner = kt.BayesianOptimization(\n",
        "    hypermodel=LSTMHyperModel(),\n",
        "    objective=kt.Objective(\"f1_m\", direction=\"max\"),\n",
        "    directory='keras_tuner_outputs',\n",
        "    project_name='models',\n",
        "    overwrite=True,\n",
        "    max_trials=5\n",
        ")"
      ]
    },
    {
      "cell_type": "code",
      "execution_count": null,
      "metadata": {
        "id": "vM3xfwfMG1Po"
      },
      "outputs": [],
      "source": [
        "tuner.search_space_summary()"
      ]
    },
    {
      "cell_type": "code",
      "execution_count": null,
      "metadata": {
        "id": "JO2BITRpHD0h"
      },
      "outputs": [],
      "source": [
        "tuner.search(X_Train,Y_Train ,epochs=15, validation_data=(X_val,Y_val) )"
      ]
    },
    {
      "cell_type": "code",
      "execution_count": null,
      "metadata": {
        "id": "w-VufL7sLfvi"
      },
      "outputs": [],
      "source": [
        "tuner.results_summary()"
      ]
    },
    {
      "cell_type": "code",
      "execution_count": null,
      "metadata": {
        "colab": {
          "base_uri": "https://localhost:8080/"
        },
        "id": "FscrKm6DH3mL",
        "outputId": "8bab07cc-6fc5-47f1-b01a-934722e4c0da"
      },
      "outputs": [
        {
          "name": "stdout",
          "output_type": "stream",
          "text": [
            "296/296 [==============================] - 1s 3ms/step\n"
          ]
        }
      ],
      "source": [
        "best_preds= tuner.get_best_models()[0].predict(X_Test)"
      ]
    },
    {
      "cell_type": "code",
      "execution_count": null,
      "metadata": {
        "id": "5Zvi8RHGMmF_"
      },
      "outputs": [],
      "source": [
        "preds_flat=flatten_pred(best_preds)"
      ]
    },
    {
      "cell_type": "code",
      "execution_count": null,
      "metadata": {
        "colab": {
          "base_uri": "https://localhost:8080/"
        },
        "id": "YvmYjBVu_UGo",
        "outputId": "78090dc7-f3e9-49d0-dfb2-519cb3bddb8a"
      },
      "outputs": [
        {
          "data": {
            "text/plain": [
              "378224"
            ]
          },
          "execution_count": 109,
          "metadata": {},
          "output_type": "execute_result"
        }
      ],
      "source": [
        "reshape_preds = preds_flat[:Y_test.shape[0]]\n",
        "len(reshape_preds)"
      ]
    },
    {
      "cell_type": "code",
      "execution_count": null,
      "metadata": {
        "colab": {
          "base_uri": "https://localhost:8080/"
        },
        "id": "5ZwsOqrsL7cM",
        "outputId": "520ee537-d1e1-429d-e04c-2c083c48f8ce"
      },
      "outputs": [
        {
          "name": "stdout",
          "output_type": "stream",
          "text": [
            "              precision    recall  f1-score   support\n",
            "\n",
            "           0       0.88      0.91      0.90    285148\n",
            "           1       0.66      0.81      0.73     10840\n",
            "           2       0.95      0.77      0.85     17196\n",
            "           3       0.61      0.51      0.56     65040\n",
            "\n",
            "    accuracy                           0.84    378224\n",
            "   macro avg       0.78      0.75      0.76    378224\n",
            "weighted avg       0.83      0.84      0.83    378224\n",
            "\n"
          ]
        }
      ],
      "source": [
        "from sklearn.metrics import classification_report\n",
        "print(classification_report(Y_test['target'], reshape_preds))"
      ]
    },
    {
      "cell_type": "code",
      "execution_count": null,
      "metadata": {
        "id": "Ddjjuv9JMWwg"
      },
      "outputs": [],
      "source": [
        "def create_cnn_lstm(args):\n",
        "  model = Sequential()\n",
        "  model.add(Conv1D(args[layer1_units], kernel_size=4, activation='relu',padding='same',input_shape=(window_size,6)))\n",
        "  model.add(AveragePooling1D(2))\n",
        "\n",
        "  model.add(Dropout(args[drop_out_layer1]))\n",
        "\n",
        "  model.add(Conv1D(args[layer_2_units], kernel_size=4, activation= 'relu', padding='same'))\n",
        "  model.add(AveragePooling1D(2))\n",
        "  model.add(Dropout(args[drop_out_layer_2]))\n",
        "\n",
        "  model.add(Conv1D(args[layer_3_units], kernel_size=4, activation='relu', padding='same'))\n",
        "  model.add(UpSampling1D(size=2))\n",
        "  model.add(Dropout(args[dropout_layer3]))\n",
        "\n",
        "\n",
        "\n",
        "  model.add(LSTM(args[layer_4_units], activation='relu',return_sequences=True))\n",
        "  model.add(Dropout(args[dropout_layer4]))\n",
        "  model.add(UpSampling1D(size=2))\n",
        "  \n",
        "  \n",
        "  model.add(Dense(4, activation='softmax'))\n",
        "  \n",
        "  model.compile(optimizer=Adam(), loss='categorical_crossentropy', metrics=METRICS)\n",
        "  return model \n"
      ]
    },
    {
      "cell_type": "code",
      "execution_count": null,
      "metadata": {
        "id": "6kuZ_1VPWsfN"
      },
      "outputs": [],
      "source": [
        "class CNN_LSTMHyperModel(kt.HyperModel):\n",
        "  def build(self, hp):\n",
        "    args = {}\n",
        "    args[layer1_units] = hp.Int(\"base lstm units\", min_value=64, max_value=256, step=64)\n",
        "    args[layer_2_units] = hp.Int(\"second lstm layer units\", min_value=128, max_value=512, step=64)\n",
        "    args[layer_3_units] = hp.Int(\"third lstm units\",  min_value=64, max_value=256, step=64)\n",
        "    args[layer_4_units] = hp.Int(\"fourth lstm layer units\",  min_value=64, max_value=128, step=64)\n",
        "   \n",
        "    args[drop_out_layer1] = hp.Float(\"dropout1\", min_value=.1, max_value=.2, step=.1)\n",
        "    args[drop_out_layer_2] = hp.Float(\"dropout2\", min_value=.1, max_value=.3, step=.1)\n",
        "    args[dropout_layer3] = hp.Float(\"dropout3\", min_value=.1, max_value=.3, step=.1)\n",
        "    args[dropout_layer4] = hp.Float(\"dropout4\", min_value=.1, max_value=.3, step=.1)\n",
        "\n",
        "    #args[optimizer] = hp.Choice(\"optimizer\", ['adam', 'adagrad', 'rmsprop'])\n",
        "    args[learning_rate_] = hp.Choice(\"learning_rate\", [.001, .01, .005])\n",
        "\n",
        "    model = create_cnn_lstm(args)\n",
        "    return model"
      ]
    },
    {
      "cell_type": "code",
      "execution_count": null,
      "metadata": {
        "colab": {
          "base_uri": "https://localhost:8080/"
        },
        "id": "zVHxyKZ0aPbT",
        "outputId": "d526034b-f0d1-4801-acb2-894db80ee26b"
      },
      "outputs": [
        {
          "name": "stderr",
          "output_type": "stream",
          "text": [
            "WARNING:tensorflow:Layer lstm will not use cuDNN kernels since it doesn't meet the criteria. It will use a generic GPU kernel as fallback when running on GPU.\n"
          ]
        }
      ],
      "source": [
        "tuner = kt.BayesianOptimization(\n",
        "    hypermodel=CNN_LSTMHyperModel(),\n",
        "    objective=kt.Objective(\"f1_m\", direction=\"max\"),\n",
        "    directory='keras_tuner_outputs',\n",
        "    project_name='models',\n",
        "    overwrite=True,\n",
        "    max_trials=10\n",
        ")"
      ]
    },
    {
      "cell_type": "code",
      "execution_count": null,
      "metadata": {
        "id": "ZQdpw1klaUpI"
      },
      "outputs": [],
      "source": [
        "tuner.search_space_summary()"
      ]
    },
    {
      "cell_type": "code",
      "execution_count": null,
      "metadata": {
        "id": "NX-WX5XsaVIp"
      },
      "outputs": [],
      "source": [
        "tuner.search(X_Train,Y_Train ,epochs=15, validation_data=(X_val,Y_val) )"
      ]
    },
    {
      "cell_type": "code",
      "execution_count": null,
      "metadata": {
        "id": "fnVQaw73dYZ6"
      },
      "outputs": [],
      "source": [
        "best_preds_cnn_lstm= tuner.get_best_models()[0]"
      ]
    },
    {
      "cell_type": "code",
      "execution_count": null,
      "metadata": {
        "colab": {
          "base_uri": "https://localhost:8080/"
        },
        "id": "XJTF5TdxdfD7",
        "outputId": "a51f4732-2757-4dab-8400-f8c0bf10f015"
      },
      "outputs": [
        {
          "name": "stdout",
          "output_type": "stream",
          "text": [
            "              precision    recall  f1-score   support\n",
            "\n",
            "           0       0.87      0.95      0.91    278159\n",
            "           1       0.89      0.64      0.74     10572\n",
            "           2       0.80      0.83      0.81     16774\n",
            "           3       0.72      0.49      0.58     63455\n",
            "\n",
            "    accuracy                           0.85    368960\n",
            "   macro avg       0.82      0.73      0.76    368960\n",
            "weighted avg       0.84      0.85      0.84    368960\n",
            "\n"
          ]
        }
      ],
      "source": [
        "from sklearn.metrics import classification_report\n",
        "print(classification_report(Y_test, flatten_pred(best_preds_cnn_lstm)))\n"
      ]
    },
    {
      "cell_type": "code",
      "execution_count": null,
      "metadata": {
        "id": "hnvbWw30AVMx"
      },
      "outputs": [],
      "source": [
        "def cnn1D_model():\n",
        "  model = Sequential()\n",
        "  model.add(Conv1D(128, kernel_size=4, activation='relu',padding='same',input_shape=(window_size,6)))\n",
        "  model.add(AveragePooling1D(2))\n",
        "\n",
        "  model.add(Dropout(0.2))\n",
        "\n",
        "  model.add(Conv1D(96, kernel_size=4, activation= 'relu', padding='same'))\n",
        "  model.add(AveragePooling1D(2))\n",
        "  model.add(Dropout(0.1))\n",
        "\n",
        "  model.add(Conv1D(128, kernel_size=4, activation='relu', padding='same'))\n",
        "  model.add(UpSampling1D(size=2))\n",
        "  model.add(Dropout(0.1))\n",
        "\n",
        "  model.add(Conv1D(64, kernel_size=4, activation='relu', padding='same'))\n",
        "  model.add(UpSampling1D(size=2))\n",
        "  model.add(Dropout(0.2))\n",
        "\n",
        "  model.add(Conv1D(4, kernel_size=4, activation='softmax', padding='same'))\n",
        "  model.compile(optimizer=Adam(learning_rate=0.001) , loss='categorical_crossentropy', metrics=METRICS)\n",
        "  return model\n"
      ]
    },
    {
      "cell_type": "code",
      "execution_count": null,
      "metadata": {
        "id": "XcfFOz7hAwLB"
      },
      "outputs": [],
      "source": [
        "lstm_cnn =cnn1D_model()"
      ]
    },
    {
      "cell_type": "code",
      "execution_count": null,
      "metadata": {
        "colab": {
          "base_uri": "https://localhost:8080/"
        },
        "id": "4tOwdh4EA-w1",
        "outputId": "3b1bb6fd-bdc7-44d9-8e67-94b1569c673c"
      },
      "outputs": [
        {
          "name": "stdout",
          "output_type": "stream",
          "text": [
            "Epoch 1/20\n",
            "565/565 [==============================] - 17s 12ms/step - loss: 0.5623 - accuracy: 0.8981 - precision: 0.8201 - recall: 0.7586 - f1_m: 0.7840 - val_loss: 0.3102 - val_accuracy: 0.9507 - val_precision: 0.9118 - val_recall: 0.8888 - val_f1_m: 0.8990\n",
            "Epoch 2/20\n",
            "565/565 [==============================] - 4s 7ms/step - loss: 0.3788 - accuracy: 0.9297 - precision: 0.8652 - recall: 0.8516 - f1_m: 0.8582 - val_loss: 0.2823 - val_accuracy: 0.9489 - val_precision: 0.9042 - val_recall: 0.8901 - val_f1_m: 0.8972\n",
            "Epoch 3/20\n",
            "565/565 [==============================] - 4s 8ms/step - loss: 0.3328 - accuracy: 0.9385 - precision: 0.8809 - recall: 0.8720 - f1_m: 0.8764 - val_loss: 0.2977 - val_accuracy: 0.9457 - val_precision: 0.8968 - val_recall: 0.8844 - val_f1_m: 0.8907\n",
            "Epoch 4/20\n",
            "565/565 [==============================] - 5s 9ms/step - loss: 0.3045 - accuracy: 0.9445 - precision: 0.8922 - recall: 0.8849 - f1_m: 0.8885 - val_loss: 0.2474 - val_accuracy: 0.9527 - val_precision: 0.9096 - val_recall: 0.9004 - val_f1_m: 0.9051\n",
            "Epoch 5/20\n",
            "565/565 [==============================] - 5s 9ms/step - loss: 0.2894 - accuracy: 0.9471 - precision: 0.8968 - recall: 0.8909 - f1_m: 0.8938 - val_loss: 0.2369 - val_accuracy: 0.9574 - val_precision: 0.9188 - val_recall: 0.9099 - val_f1_m: 0.9142\n",
            "Epoch 6/20\n",
            "565/565 [==============================] - 5s 9ms/step - loss: 0.2720 - accuracy: 0.9502 - precision: 0.9029 - recall: 0.8975 - f1_m: 0.9002 - val_loss: 0.2399 - val_accuracy: 0.9568 - val_precision: 0.9169 - val_recall: 0.9098 - val_f1_m: 0.9132\n",
            "Epoch 7/20\n",
            "565/565 [==============================] - 4s 7ms/step - loss: 0.2570 - accuracy: 0.9527 - precision: 0.9076 - recall: 0.9029 - f1_m: 0.9052 - val_loss: 0.2314 - val_accuracy: 0.9595 - val_precision: 0.9224 - val_recall: 0.9152 - val_f1_m: 0.9188\n",
            "Epoch 8/20\n",
            "565/565 [==============================] - 7s 12ms/step - loss: 0.2483 - accuracy: 0.9547 - precision: 0.9113 - recall: 0.9071 - f1_m: 0.9091 - val_loss: 0.2629 - val_accuracy: 0.9470 - val_precision: 0.8969 - val_recall: 0.8903 - val_f1_m: 0.8937\n",
            "Epoch 9/20\n",
            "565/565 [==============================] - 6s 11ms/step - loss: 0.2377 - accuracy: 0.9566 - precision: 0.9149 - recall: 0.9112 - f1_m: 0.9130 - val_loss: 0.2362 - val_accuracy: 0.9565 - val_precision: 0.9151 - val_recall: 0.9105 - val_f1_m: 0.9129\n",
            "Epoch 10/20\n",
            "565/565 [==============================] - 5s 8ms/step - loss: 0.2290 - accuracy: 0.9580 - precision: 0.9178 - recall: 0.9141 - f1_m: 0.9160 - val_loss: 0.2475 - val_accuracy: 0.9515 - val_precision: 0.9056 - val_recall: 0.8998 - val_f1_m: 0.9029\n",
            "Epoch 11/20\n",
            "565/565 [==============================] - 5s 8ms/step - loss: 0.2217 - accuracy: 0.9591 - precision: 0.9197 - recall: 0.9162 - f1_m: 0.9179 - val_loss: 0.2491 - val_accuracy: 0.9564 - val_precision: 0.9146 - val_recall: 0.9106 - val_f1_m: 0.9128\n",
            "Epoch 12/20\n",
            "565/565 [==============================] - 4s 7ms/step - loss: 0.2134 - accuracy: 0.9609 - precision: 0.9231 - recall: 0.9202 - f1_m: 0.9215 - val_loss: 0.2824 - val_accuracy: 0.9432 - val_precision: 0.8893 - val_recall: 0.8825 - val_f1_m: 0.8861\n",
            "Epoch 13/20\n",
            "565/565 [==============================] - 6s 11ms/step - loss: 0.2085 - accuracy: 0.9616 - precision: 0.9246 - recall: 0.9217 - f1_m: 0.9232 - val_loss: 0.2363 - val_accuracy: 0.9543 - val_precision: 0.9101 - val_recall: 0.9069 - val_f1_m: 0.9087\n",
            "Epoch 14/20\n",
            "565/565 [==============================] - 8s 14ms/step - loss: 0.2018 - accuracy: 0.9631 - precision: 0.9275 - recall: 0.9247 - f1_m: 0.9262 - val_loss: 0.2314 - val_accuracy: 0.9607 - val_precision: 0.9232 - val_recall: 0.9192 - val_f1_m: 0.9212\n",
            "Epoch 15/20\n",
            "565/565 [==============================] - 10s 18ms/step - loss: 0.1956 - accuracy: 0.9637 - precision: 0.9289 - recall: 0.9259 - f1_m: 0.9274 - val_loss: 0.2527 - val_accuracy: 0.9501 - val_precision: 0.9022 - val_recall: 0.8979 - val_f1_m: 0.9003\n",
            "Epoch 16/20\n",
            "565/565 [==============================] - 7s 13ms/step - loss: 0.1911 - accuracy: 0.9645 - precision: 0.9303 - recall: 0.9276 - f1_m: 0.9290 - val_loss: 0.2440 - val_accuracy: 0.9586 - val_precision: 0.9194 - val_recall: 0.9144 - val_f1_m: 0.9169\n",
            "Epoch 17/20\n",
            "565/565 [==============================] - 7s 12ms/step - loss: 0.1888 - accuracy: 0.9649 - precision: 0.9310 - recall: 0.9286 - f1_m: 0.9298 - val_loss: 0.2811 - val_accuracy: 0.9412 - val_precision: 0.8849 - val_recall: 0.8792 - val_f1_m: 0.8823\n",
            "Epoch 18/20\n",
            "565/565 [==============================] - 7s 13ms/step - loss: 0.1846 - accuracy: 0.9655 - precision: 0.9322 - recall: 0.9297 - f1_m: 0.9310 - val_loss: 0.2213 - val_accuracy: 0.9593 - val_precision: 0.9205 - val_recall: 0.9163 - val_f1_m: 0.9186\n",
            "Epoch 19/20\n",
            "565/565 [==============================] - 5s 9ms/step - loss: 0.1801 - accuracy: 0.9660 - precision: 0.9331 - recall: 0.9306 - f1_m: 0.9319 - val_loss: 0.2445 - val_accuracy: 0.9561 - val_precision: 0.9142 - val_recall: 0.9100 - val_f1_m: 0.9123\n",
            "Epoch 20/20\n",
            "565/565 [==============================] - 5s 8ms/step - loss: 0.1742 - accuracy: 0.9674 - precision: 0.9359 - recall: 0.9335 - f1_m: 0.9347 - val_loss: 0.2590 - val_accuracy: 0.9501 - val_precision: 0.9035 - val_recall: 0.8962 - val_f1_m: 0.8991\n"
          ]
        },
        {
          "data": {
            "text/plain": [
              "<keras.callbacks.History at 0x7f89068e2fa0>"
            ]
          },
          "execution_count": 38,
          "metadata": {},
          "output_type": "execute_result"
        }
      ],
      "source": [
        "lstm_cnn.fit(X_Train,Y_Train, epochs=20, verbose=1, validation_data=(X_val,Y_val))"
      ]
    },
    {
      "cell_type": "code",
      "execution_count": null,
      "metadata": {
        "colab": {
          "base_uri": "https://localhost:8080/"
        },
        "id": "Fyy98CHnI34Z",
        "outputId": "37845657-cab4-46aa-8c26-c48e1471abb2"
      },
      "outputs": [
        {
          "name": "stdout",
          "output_type": "stream",
          "text": [
            "296/296 [==============================] - 1s 4ms/step\n"
          ]
        }
      ],
      "source": [
        "preds_cnn_lstm = lstm_cnn.predict(X_Test)\n",
        "flatten_preds=flatten_pred(preds_cnn_lstm)"
      ]
    },
    {
      "cell_type": "code",
      "execution_count": null,
      "metadata": {
        "colab": {
          "base_uri": "https://localhost:8080/"
        },
        "id": "kZR5E1b7I9Q7",
        "outputId": "727f57c6-6b48-4a6c-98c1-61be184f424a"
      },
      "outputs": [
        {
          "data": {
            "text/plain": [
              "378240"
            ]
          },
          "execution_count": 57,
          "metadata": {},
          "output_type": "execute_result"
        }
      ],
      "source": [
        "len(flatten_preds)"
      ]
    },
    {
      "cell_type": "code",
      "execution_count": null,
      "metadata": {
        "id": "1Fxruq_KJDUL"
      },
      "outputs": [],
      "source": [
        "reshape_preds = flatten_preds[:Y_test.shape[0]]"
      ]
    },
    {
      "cell_type": "code",
      "execution_count": null,
      "metadata": {
        "colab": {
          "base_uri": "https://localhost:8080/"
        },
        "id": "T4r8VZzFDZsI",
        "outputId": "b5ea8920-902e-4733-99e2-87cbbcf2d8a3"
      },
      "outputs": [
        {
          "name": "stdout",
          "output_type": "stream",
          "text": [
            "              precision    recall  f1-score   support\n",
            "\n",
            "           0       0.91      0.87      0.89    285148\n",
            "           1       0.65      0.81      0.72     10840\n",
            "           2       0.90      0.85      0.87     17196\n",
            "           3       0.56      0.63      0.59     65040\n",
            "\n",
            "    accuracy                           0.83    378224\n",
            "   macro avg       0.75      0.79      0.77    378224\n",
            "weighted avg       0.84      0.83      0.83    378224\n",
            "\n"
          ]
        }
      ],
      "source": [
        "from sklearn.metrics import classification_report\n",
        "print(classification_report(Y_test, reshape_preds))"
      ]
    },
    {
      "cell_type": "markdown",
      "metadata": {
        "id": "cxbrPshEDyN1"
      },
      "source": [
        "#Test"
      ]
    },
    {
      "cell_type": "code",
      "execution_count": null,
      "metadata": {
        "id": "hvRecTTRDnxn"
      },
      "outputs": [],
      "source": [
        "#load data\n",
        "\n",
        "x_9_1 = pd.read_csv('https://raw.githubusercontent.com/sushanthreddyC/Terrain-Identification-Using-Time-Series-Data/main/TestData/subject_009_01__x.csv', names = ['ax', 'ay', 'az', 'gx', 'gy', 'gz'])\n",
        "x_10_1 = pd.read_csv('https://raw.githubusercontent.com/sushanthreddyC/Terrain-Identification-Using-Time-Series-Data/main/TestData/subject_010_01__x.csv', names = ['ax', 'ay', 'az', 'gx', 'gy', 'gz'])\n",
        "x_11_1 = pd.read_csv('https://raw.githubusercontent.com/sushanthreddyC/Terrain-Identification-Using-Time-Series-Data/main/TestData/subject_011_01__x.csv', names = ['ax', 'ay', 'az', 'gx', 'gy', 'gz'])\n",
        "x_12_1 = pd.read_csv('https://raw.githubusercontent.com/sushanthreddyC/Terrain-Identification-Using-Time-Series-Data/main/TestData/subject_012_01__x.csv',  names = ['ax', 'ay', 'az', 'gx', 'gy', 'gz'])\n",
        "\n",
        "x_9_1_time = pd.read_csv('https://raw.githubusercontent.com/sushanthreddyC/Terrain-Identification-Using-Time-Series-Data/main/TestData/subject_009_01__x_time.csv', names = ['time'])\n",
        "x_10_1_time = pd.read_csv('https://raw.githubusercontent.com/sushanthreddyC/Terrain-Identification-Using-Time-Series-Data/main/TestData/subject_010_01__x_time.csv',  names = ['time'])\n",
        "x_11_1_time = pd.read_csv('https://raw.githubusercontent.com/sushanthreddyC/Terrain-Identification-Using-Time-Series-Data/main/TestData/subject_011_01__x_time.csv',  names = ['time'])\n",
        "x_12_1_time = pd.read_csv('https://raw.githubusercontent.com/sushanthreddyC/Terrain-Identification-Using-Time-Series-Data/main/TestData/subject_012_01__x_time.csv',   names = ['time'])\n",
        "\n",
        "\n",
        "y_9_1_time = pd.read_csv('https://raw.githubusercontent.com/sushanthreddyC/Terrain-Identification-Using-Time-Series-Data/main/TestData/subject_009_01__y_time.csv',  names = ['time'])\n",
        "y_10_1_time = pd.read_csv('https://raw.githubusercontent.com/sushanthreddyC/Terrain-Identification-Using-Time-Series-Data/main/TestData/subject_010_01__y_time.csv',  names = ['time'])\n",
        "y_11_1_time = pd.read_csv('https://raw.githubusercontent.com/sushanthreddyC/Terrain-Identification-Using-Time-Series-Data/main/TestData/subject_011_01__y_time.csv', names = ['time'])\n",
        "y_12_1_time = pd.read_csv('https://raw.githubusercontent.com/sushanthreddyC/Terrain-Identification-Using-Time-Series-Data/main/TestData/subject_012_01__y_time.csv',  names = ['time'])"
      ]
    },
    {
      "cell_type": "code",
      "execution_count": null,
      "metadata": {
        "id": "lCvuLUoND0eh"
      },
      "outputs": [],
      "source": [
        "def sampling_test(X,X_time,Y_time):\n",
        "  X_final =[]\n",
        "  i=0\n",
        "  while(i<len(X)):\n",
        "    y_ind= int(i//4)\n",
        "    if(y_ind >= len(Y_time)):\n",
        "      y_ind =len(Y_time)-1\n",
        "    if(X_time.iloc[i]['time']<=Y_time.iloc[y_ind]['time']):\n",
        "      X_final.append(X.iloc[i])\n",
        "      i +=4\n",
        "    else :\n",
        "      i+=1\n",
        "  return X_final\n",
        "x_9_1 = pd.concat([x_9_1,x_9_1_time],axis=1)\n",
        "x_10_1 = pd.concat([x_10_1,x_10_1_time],axis=1)\n",
        "x_11_1 = pd.concat([x_11_1,x_11_1_time],axis=1)\n",
        "x_12_1 = pd.concat([x_12_1,x_12_1_time],axis=1)\n",
        "X_final_9= sampling_test(x_9_1,x_9_1_time,y_9_1_time)\n",
        "X_final_10= sampling_test(x_10_1,x_10_1_time,y_10_1_time)\n",
        "X_final_11= sampling_test(x_11_1,x_11_1_time,y_11_1_time)\n",
        "X_final_12= sampling_test(x_12_1,x_12_1_time,y_12_1_time)"
      ]
    },
    {
      "cell_type": "code",
      "execution_count": null,
      "metadata": {
        "colab": {
          "base_uri": "https://localhost:8080/"
        },
        "id": "3E6sN4nID5wG",
        "outputId": "10b48786-6b2c-4d7e-810b-12a43a3606e6"
      },
      "outputs": [
        {
          "name": "stdout",
          "output_type": "stream",
          "text": [
            "9498\n",
            "12270\n",
            "12940\n",
            "11330\n"
          ]
        },
        {
          "data": {
            "text/plain": [
              "[9498, 12270, 12940, 11330]"
            ]
          },
          "execution_count": 44,
          "metadata": {},
          "output_type": "execute_result"
        }
      ],
      "source": [
        "print(len(X_final_9))\n",
        "print(len(X_final_10))\n",
        "print(len(X_final_11))\n",
        "print(len(X_final_12))\n",
        "[9498, 12270, 12940, 11330]"
      ]
    },
    {
      "cell_type": "code",
      "execution_count": null,
      "metadata": {
        "id": "KtMoHJxpD9MI"
      },
      "outputs": [],
      "source": [
        "X_final_9 = pd.DataFrame(X_final_9).reset_index().drop(['index'], axis=1)\n",
        "X_final_10 = pd.DataFrame(X_final_10).reset_index().drop(['index'], axis=1)\n",
        "X_final_11 = pd.DataFrame(X_final_11).reset_index().drop(['index'], axis=1)\n",
        "X_final_12 = pd.DataFrame(X_final_12).reset_index().drop(['index'], axis=1)\n"
      ]
    },
    {
      "cell_type": "code",
      "execution_count": null,
      "metadata": {
        "colab": {
          "base_uri": "https://localhost:8080/",
          "height": 423
        },
        "id": "U-dIvhtWEmAM",
        "outputId": "2318a428-a0f1-4267-dfdb-849f570b4d31"
      },
      "outputs": [
        {
          "data": {
            "text/html": [
              "\n",
              "  <div id=\"df-df71c4ed-4810-4d9c-a7bd-8b52a5c522c6\">\n",
              "    <div class=\"colab-df-container\">\n",
              "      <div>\n",
              "<style scoped>\n",
              "    .dataframe tbody tr th:only-of-type {\n",
              "        vertical-align: middle;\n",
              "    }\n",
              "\n",
              "    .dataframe tbody tr th {\n",
              "        vertical-align: top;\n",
              "    }\n",
              "\n",
              "    .dataframe thead th {\n",
              "        text-align: right;\n",
              "    }\n",
              "</style>\n",
              "<table border=\"1\" class=\"dataframe\">\n",
              "  <thead>\n",
              "    <tr style=\"text-align: right;\">\n",
              "      <th></th>\n",
              "      <th>ax</th>\n",
              "      <th>ay</th>\n",
              "      <th>az</th>\n",
              "      <th>gx</th>\n",
              "      <th>gy</th>\n",
              "      <th>gz</th>\n",
              "      <th>time</th>\n",
              "    </tr>\n",
              "  </thead>\n",
              "  <tbody>\n",
              "    <tr>\n",
              "      <th>0</th>\n",
              "      <td>0.396845</td>\n",
              "      <td>8.710000</td>\n",
              "      <td>-4.476044</td>\n",
              "      <td>0.001111</td>\n",
              "      <td>-0.008889</td>\n",
              "      <td>0.004137</td>\n",
              "      <td>0.0</td>\n",
              "    </tr>\n",
              "    <tr>\n",
              "      <th>1</th>\n",
              "      <td>0.485234</td>\n",
              "      <td>8.725234</td>\n",
              "      <td>-4.520000</td>\n",
              "      <td>-0.000020</td>\n",
              "      <td>0.006667</td>\n",
              "      <td>0.007778</td>\n",
              "      <td>0.1</td>\n",
              "    </tr>\n",
              "    <tr>\n",
              "      <th>2</th>\n",
              "      <td>0.460536</td>\n",
              "      <td>8.709464</td>\n",
              "      <td>-4.480000</td>\n",
              "      <td>0.001815</td>\n",
              "      <td>0.004525</td>\n",
              "      <td>0.002981</td>\n",
              "      <td>0.2</td>\n",
              "    </tr>\n",
              "    <tr>\n",
              "      <th>3</th>\n",
              "      <td>0.463828</td>\n",
              "      <td>8.708437</td>\n",
              "      <td>-4.470000</td>\n",
              "      <td>-0.000466</td>\n",
              "      <td>0.005089</td>\n",
              "      <td>0.002867</td>\n",
              "      <td>0.3</td>\n",
              "    </tr>\n",
              "    <tr>\n",
              "      <th>4</th>\n",
              "      <td>0.454513</td>\n",
              "      <td>8.715487</td>\n",
              "      <td>-4.489026</td>\n",
              "      <td>0.002387</td>\n",
              "      <td>0.004444</td>\n",
              "      <td>0.002696</td>\n",
              "      <td>0.4</td>\n",
              "    </tr>\n",
              "    <tr>\n",
              "      <th>...</th>\n",
              "      <td>...</td>\n",
              "      <td>...</td>\n",
              "      <td>...</td>\n",
              "      <td>...</td>\n",
              "      <td>...</td>\n",
              "      <td>...</td>\n",
              "      <td>...</td>\n",
              "    </tr>\n",
              "    <tr>\n",
              "      <th>9493</th>\n",
              "      <td>0.956652</td>\n",
              "      <td>9.001674</td>\n",
              "      <td>-3.774979</td>\n",
              "      <td>0.000367</td>\n",
              "      <td>-0.001607</td>\n",
              "      <td>-0.000367</td>\n",
              "      <td>949.3</td>\n",
              "    </tr>\n",
              "    <tr>\n",
              "      <th>9494</th>\n",
              "      <td>0.916856</td>\n",
              "      <td>8.996288</td>\n",
              "      <td>-3.746288</td>\n",
              "      <td>-0.002668</td>\n",
              "      <td>-0.001333</td>\n",
              "      <td>0.000222</td>\n",
              "      <td>949.4</td>\n",
              "    </tr>\n",
              "    <tr>\n",
              "      <th>9495</th>\n",
              "      <td>0.920000</td>\n",
              "      <td>9.002583</td>\n",
              "      <td>-3.740000</td>\n",
              "      <td>0.000847</td>\n",
              "      <td>0.000000</td>\n",
              "      <td>0.001375</td>\n",
              "      <td>949.5</td>\n",
              "    </tr>\n",
              "    <tr>\n",
              "      <th>9496</th>\n",
              "      <td>0.910118</td>\n",
              "      <td>9.000000</td>\n",
              "      <td>-3.770059</td>\n",
              "      <td>0.001790</td>\n",
              "      <td>0.001564</td>\n",
              "      <td>0.003560</td>\n",
              "      <td>949.6</td>\n",
              "    </tr>\n",
              "    <tr>\n",
              "      <th>9497</th>\n",
              "      <td>0.930297</td>\n",
              "      <td>9.000000</td>\n",
              "      <td>-3.750178</td>\n",
              "      <td>0.001963</td>\n",
              "      <td>0.002815</td>\n",
              "      <td>0.001629</td>\n",
              "      <td>949.7</td>\n",
              "    </tr>\n",
              "  </tbody>\n",
              "</table>\n",
              "<p>9498 rows × 7 columns</p>\n",
              "</div>\n",
              "      <button class=\"colab-df-convert\" onclick=\"convertToInteractive('df-df71c4ed-4810-4d9c-a7bd-8b52a5c522c6')\"\n",
              "              title=\"Convert this dataframe to an interactive table.\"\n",
              "              style=\"display:none;\">\n",
              "        \n",
              "  <svg xmlns=\"http://www.w3.org/2000/svg\" height=\"24px\"viewBox=\"0 0 24 24\"\n",
              "       width=\"24px\">\n",
              "    <path d=\"M0 0h24v24H0V0z\" fill=\"none\"/>\n",
              "    <path d=\"M18.56 5.44l.94 2.06.94-2.06 2.06-.94-2.06-.94-.94-2.06-.94 2.06-2.06.94zm-11 1L8.5 8.5l.94-2.06 2.06-.94-2.06-.94L8.5 2.5l-.94 2.06-2.06.94zm10 10l.94 2.06.94-2.06 2.06-.94-2.06-.94-.94-2.06-.94 2.06-2.06.94z\"/><path d=\"M17.41 7.96l-1.37-1.37c-.4-.4-.92-.59-1.43-.59-.52 0-1.04.2-1.43.59L10.3 9.45l-7.72 7.72c-.78.78-.78 2.05 0 2.83L4 21.41c.39.39.9.59 1.41.59.51 0 1.02-.2 1.41-.59l7.78-7.78 2.81-2.81c.8-.78.8-2.07 0-2.86zM5.41 20L4 18.59l7.72-7.72 1.47 1.35L5.41 20z\"/>\n",
              "  </svg>\n",
              "      </button>\n",
              "      \n",
              "  <style>\n",
              "    .colab-df-container {\n",
              "      display:flex;\n",
              "      flex-wrap:wrap;\n",
              "      gap: 12px;\n",
              "    }\n",
              "\n",
              "    .colab-df-convert {\n",
              "      background-color: #E8F0FE;\n",
              "      border: none;\n",
              "      border-radius: 50%;\n",
              "      cursor: pointer;\n",
              "      display: none;\n",
              "      fill: #1967D2;\n",
              "      height: 32px;\n",
              "      padding: 0 0 0 0;\n",
              "      width: 32px;\n",
              "    }\n",
              "\n",
              "    .colab-df-convert:hover {\n",
              "      background-color: #E2EBFA;\n",
              "      box-shadow: 0px 1px 2px rgba(60, 64, 67, 0.3), 0px 1px 3px 1px rgba(60, 64, 67, 0.15);\n",
              "      fill: #174EA6;\n",
              "    }\n",
              "\n",
              "    [theme=dark] .colab-df-convert {\n",
              "      background-color: #3B4455;\n",
              "      fill: #D2E3FC;\n",
              "    }\n",
              "\n",
              "    [theme=dark] .colab-df-convert:hover {\n",
              "      background-color: #434B5C;\n",
              "      box-shadow: 0px 1px 3px 1px rgba(0, 0, 0, 0.15);\n",
              "      filter: drop-shadow(0px 1px 2px rgba(0, 0, 0, 0.3));\n",
              "      fill: #FFFFFF;\n",
              "    }\n",
              "  </style>\n",
              "\n",
              "      <script>\n",
              "        const buttonEl =\n",
              "          document.querySelector('#df-df71c4ed-4810-4d9c-a7bd-8b52a5c522c6 button.colab-df-convert');\n",
              "        buttonEl.style.display =\n",
              "          google.colab.kernel.accessAllowed ? 'block' : 'none';\n",
              "\n",
              "        async function convertToInteractive(key) {\n",
              "          const element = document.querySelector('#df-df71c4ed-4810-4d9c-a7bd-8b52a5c522c6');\n",
              "          const dataTable =\n",
              "            await google.colab.kernel.invokeFunction('convertToInteractive',\n",
              "                                                     [key], {});\n",
              "          if (!dataTable) return;\n",
              "\n",
              "          const docLinkHtml = 'Like what you see? Visit the ' +\n",
              "            '<a target=\"_blank\" href=https://colab.research.google.com/notebooks/data_table.ipynb>data table notebook</a>'\n",
              "            + ' to learn more about interactive tables.';\n",
              "          element.innerHTML = '';\n",
              "          dataTable['output_type'] = 'display_data';\n",
              "          await google.colab.output.renderOutput(dataTable, element);\n",
              "          const docLink = document.createElement('div');\n",
              "          docLink.innerHTML = docLinkHtml;\n",
              "          element.appendChild(docLink);\n",
              "        }\n",
              "      </script>\n",
              "    </div>\n",
              "  </div>\n",
              "  "
            ],
            "text/plain": [
              "            ax        ay        az        gx        gy        gz   time\n",
              "0     0.396845  8.710000 -4.476044  0.001111 -0.008889  0.004137    0.0\n",
              "1     0.485234  8.725234 -4.520000 -0.000020  0.006667  0.007778    0.1\n",
              "2     0.460536  8.709464 -4.480000  0.001815  0.004525  0.002981    0.2\n",
              "3     0.463828  8.708437 -4.470000 -0.000466  0.005089  0.002867    0.3\n",
              "4     0.454513  8.715487 -4.489026  0.002387  0.004444  0.002696    0.4\n",
              "...        ...       ...       ...       ...       ...       ...    ...\n",
              "9493  0.956652  9.001674 -3.774979  0.000367 -0.001607 -0.000367  949.3\n",
              "9494  0.916856  8.996288 -3.746288 -0.002668 -0.001333  0.000222  949.4\n",
              "9495  0.920000  9.002583 -3.740000  0.000847  0.000000  0.001375  949.5\n",
              "9496  0.910118  9.000000 -3.770059  0.001790  0.001564  0.003560  949.6\n",
              "9497  0.930297  9.000000 -3.750178  0.001963  0.002815  0.001629  949.7\n",
              "\n",
              "[9498 rows x 7 columns]"
            ]
          },
          "execution_count": 46,
          "metadata": {},
          "output_type": "execute_result"
        }
      ],
      "source": [
        "X_final_9"
      ]
    },
    {
      "cell_type": "code",
      "execution_count": null,
      "metadata": {
        "id": "r2IRDUpWEBcb"
      },
      "outputs": [],
      "source": [
        "X_9_norm = scaler_t.transform(X_final_9.drop(columns='time'))\n",
        "X_10_norm = scaler_t.transform(X_final_10.drop(columns='time'))\n",
        "X_11_norm = scaler_t.transform(X_final_11.drop(columns='time'))\n",
        "X_12_norm = scaler_t.transform(X_final_12.drop(columns='time'))"
      ]
    },
    {
      "cell_type": "code",
      "execution_count": null,
      "metadata": {
        "id": "OqZo0_xwEih3"
      },
      "outputs": [],
      "source": [
        "#Y_test_cat=pd.DataFrame(to_categorical(Y_test['target'],4).reshape(-1,4), columns = ['l1','l2','l3','l4'])\n",
        "X_Test_9=define_windows_test(pd.DataFrame(X_9_norm, columns = ['ax','ay','az','gx','gy','gz']) ,windowsize=40)\n",
        "X_Test_10=define_windows_test(pd.DataFrame(X_10_norm, columns = ['ax','ay','az','gx','gy','gz']) ,windowsize=40)\n",
        "X_Test_11=define_windows_test(pd.DataFrame(X_11_norm, columns = ['ax','ay','az','gx','gy','gz']) ,windowsize=40)\n",
        "X_Test_12=define_windows_test(pd.DataFrame(X_12_norm, columns = ['ax','ay','az','gx','gy','gz']) ,windowsize=40)"
      ]
    },
    {
      "cell_type": "code",
      "execution_count": null,
      "metadata": {
        "colab": {
          "base_uri": "https://localhost:8080/"
        },
        "id": "06ohX5szFluF",
        "outputId": "57ce8cde-5241-4c39-9964-f9b143abc83b"
      },
      "outputs": [
        {
          "data": {
            "text/plain": [
              "(238, 40, 6)"
            ]
          },
          "execution_count": 52,
          "metadata": {},
          "output_type": "execute_result"
        }
      ],
      "source": [
        "X_Test_9.shape"
      ]
    },
    {
      "cell_type": "code",
      "execution_count": null,
      "metadata": {
        "colab": {
          "base_uri": "https://localhost:8080/"
        },
        "id": "OZcQqq0CFn2s",
        "outputId": "0081a60d-b521-4f5b-bafb-75dfd38db058"
      },
      "outputs": [
        {
          "name": "stdout",
          "output_type": "stream",
          "text": [
            "8/8 [==============================] - 0s 13ms/step\n",
            "10/10 [==============================] - 0s 10ms/step\n",
            "10/10 [==============================] - 0s 6ms/step\n",
            "9/9 [==============================] - 0s 11ms/step\n"
          ]
        }
      ],
      "source": [
        "predictions_9=flatten_pred( lstm_cnn.predict(X_Test_9))\n",
        "predictions_10=flatten_pred(lstm_cnn.predict(X_Test_10))\n",
        "predictions_11=flatten_pred(lstm_cnn.predict(X_Test_11))\n",
        "predictions_12=flatten_pred(lstm_cnn.predict(X_Test_12))"
      ]
    },
    {
      "cell_type": "code",
      "execution_count": null,
      "metadata": {
        "id": "X-XnQk59Jff1"
      },
      "outputs": [],
      "source": [
        "def predictions(test_data,X_test_org):\n",
        "  preds_cnn_lstm = lstm_cnn.predict(test_data)\n",
        "  flatten_preds=flatten_pred(preds_cnn_lstm)\n",
        "  print(len(flatten_preds))\n",
        "  reshape_preds = flatten_preds[:X_test_org.shape[0]]\n",
        "  return reshape_preds"
      ]
    },
    {
      "cell_type": "code",
      "execution_count": null,
      "metadata": {
        "colab": {
          "base_uri": "https://localhost:8080/"
        },
        "id": "_4_KTGToJw8w",
        "outputId": "16242efd-9985-41b3-ef0f-3998a9a43300"
      },
      "outputs": [
        {
          "name": "stdout",
          "output_type": "stream",
          "text": [
            "8/8 [==============================] - 0s 2ms/step\n",
            "9520\n",
            "10/10 [==============================] - 0s 2ms/step\n",
            "12280\n",
            "11/11 [==============================] - 0s 2ms/step\n",
            "12960\n",
            "9/9 [==============================] - 0s 3ms/step\n",
            "11360\n"
          ]
        }
      ],
      "source": [
        "predictions_9=predictions(X_Test_9,X_final_9)\n",
        "predictions_10=predictions(X_Test_10,X_final_10)\n",
        "predictions_11=predictions(X_Test_11,X_final_11)\n",
        "predictions_12=predictions(X_Test_12,X_final_12)"
      ]
    },
    {
      "cell_type": "code",
      "execution_count": null,
      "metadata": {
        "colab": {
          "base_uri": "https://localhost:8080/"
        },
        "id": "jAAzkZNqKFm6",
        "outputId": "892be3fd-1a91-422d-dca7-516b29c59883"
      },
      "outputs": [
        {
          "data": {
            "text/plain": [
              "9498"
            ]
          },
          "execution_count": 74,
          "metadata": {},
          "output_type": "execute_result"
        }
      ],
      "source": [
        "len(predictions_9)"
      ]
    },
    {
      "cell_type": "code",
      "execution_count": null,
      "metadata": {
        "id": "0xNPAoioGYFN"
      },
      "outputs": [],
      "source": [
        "\n",
        "def create_preds(pred, range, req_length):\n",
        "  padding = np.random.choice(range, size=req_length)\n",
        "  return pred + padding.tolist()\n",
        "\n",
        "def fin(range):\n",
        "  pred_9 = create_preds(predictions_9, range, 9498 - len(predictions_9))\n",
        "  pred_10 = create_preds(predictions_10, range, 12270 - len(predictions_10))\n",
        "  pred_11 = create_preds(predictions_11, range, 12940 - len(predictions_11))\n",
        "  pred_12 = create_preds(predictions_12, range, 11330 - len(predictions_12))\n",
        "  return [pred_9, pred_10, pred_11, pred_12]\n",
        "\n",
        "sush_pred = fin([0, 1])\n"
      ]
    },
    {
      "cell_type": "code",
      "execution_count": null,
      "metadata": {
        "id": "2axlahX4GqCN"
      },
      "outputs": [],
      "source": [
        "[9498, 12270, 12940, 11330]"
      ]
    },
    {
      "cell_type": "markdown",
      "metadata": {
        "id": "O8ofJvrPKyzU"
      },
      "source": []
    },
    {
      "cell_type": "code",
      "execution_count": null,
      "metadata": {
        "id": "h9qTgnY7LWE7"
      },
      "outputs": [],
      "source": [
        "def write(name, preds):\n",
        "\n",
        "  pd.DataFrame(preds[0]).to_csv(name + 'subject_009_01__y.csv', index=False, header=False)\n",
        "  pd.DataFrame(preds[1]).to_csv(name + 'subject_010_01__y.csv', index=False, header=False)\n",
        "  pd.DataFrame(preds[2]).to_csv(name + 'subject_011_01__y.csv', index=False, header=False)\n",
        "  pd.DataFrame(preds[3]).to_csv(name + 'subject_012_01__y.csv', index=False, header=False)\n",
        "\n",
        "\n",
        "write('sush', [predictions_9,predictions_10,predictions_11,predictions_12])"
      ]
    },
    {
      "cell_type": "code",
      "execution_count": null,
      "metadata": {
        "id": "rGVcYQhQLNCa"
      },
      "outputs": [],
      "source": []
    }
  ],
  "metadata": {
    "accelerator": "GPU",
    "colab": {
      "collapsed_sections": [
        "0Qi_AbWuEBj3",
        "7IaW6BxN91r-",
        "G6MS4vHX3NB_",
        "vbdJiXBy_k5T",
        "paZdE5wB26RX",
        "ScvrjxtDyCX-",
        "jwDywGyT8GB0",
        "CFR89EyT6BH3",
        "NHRdJc7zpA3P",
        "3eVOnzJUrqtt",
        "LOTSfZBtUqTu",
        "VFeZLeQfzvqr",
        "3Nt2DcHI8rut",
        "CBWXFgfANPmy",
        "cxbrPshEDyN1"
      ],
      "provenance": []
    },
    "gpuClass": "standard",
    "kernelspec": {
      "display_name": "Python 3",
      "name": "python3"
    },
    "language_info": {
      "name": "python"
    }
  },
  "nbformat": 4,
  "nbformat_minor": 0
}
