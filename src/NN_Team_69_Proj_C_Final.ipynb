{
  "cells": [
    {
      "cell_type": "code",
      "execution_count": null,
      "metadata": {
        "execution": {
          "iopub.execute_input": "2023-04-19T20:52:10.295393Z",
          "iopub.status.busy": "2023-04-19T20:52:10.294689Z",
          "iopub.status.idle": "2023-04-19T20:52:21.898230Z",
          "shell.execute_reply": "2023-04-19T20:52:21.896733Z",
          "shell.execute_reply.started": "2023-04-19T20:52:10.295351Z"
        },
        "id": "NGm6Zp0FLXGh",
        "trusted": true
      },
      "outputs": [],
      "source": [
        "#imports\n",
        "\n",
        "import numpy as np\n",
        "import pandas as pd\n",
        "import matplotlib.pyplot as plt\n",
        "from sklearn.preprocessing import  StandardScaler\n",
        "from sklearn.model_selection import train_test_split\n",
        "\n",
        "\n",
        "from keras.utils import to_categorical\n",
        "from keras.callbacks import Callback,ModelCheckpoint\n",
        "from keras.models import Sequential,load_model\n",
        "from keras.layers import Dense, Dropout\n",
        "from keras.wrappers.scikit_learn import KerasClassifier\n",
        "import keras.backend as K\n",
        "from tensorflow.keras.callbacks import ReduceLROnPlateau\n",
        "from sklearn.metrics import classification_report\n"
      ]
    },
    {
      "cell_type": "code",
      "execution_count": null,
      "metadata": {
        "execution": {
          "iopub.execute_input": "2023-04-19T20:52:50.899178Z",
          "iopub.status.busy": "2023-04-19T20:52:50.898356Z",
          "iopub.status.idle": "2023-04-19T20:52:50.910600Z",
          "shell.execute_reply": "2023-04-19T20:52:50.907610Z",
          "shell.execute_reply.started": "2023-04-19T20:52:50.899135Z"
        },
        "id": "rw7MQHA_6Kjz",
        "trusted": true
      },
      "outputs": [],
      "source": [
        "\n",
        "import pandas as pd\n",
        "import glob\n",
        "from sklearn.model_selection import train_test_split\n",
        "from sklearn import metrics\n",
        "import numpy as np\n",
        "from keras.models import Sequential\n",
        "from keras.layers import Dense\n",
        "from keras.layers import Flatten, Reshape\n",
        "from keras.utils import to_categorical\n",
        "from keras.layers.convolutional import Conv1D\n",
        "from keras.layers.convolutional import MaxPooling1D\n",
        "from keras.optimizers import SGD, Adam, RMSprop, Adagrad\n",
        "from keras.layers import Dropout, InputLayer, LSTM\n",
        "from keras.layers import Bidirectional, BatchNormalization\n",
        "from keras.layers import TimeDistributed\n",
        "from keras.layers import Conv2D, MaxPooling2D, Flatten, Dense, Activation, BatchNormalization, Dropout, UpSampling1D, AveragePooling1D"
      ]
    },
    {
      "cell_type": "code",
      "execution_count": null,
      "metadata": {
        "colab": {
          "base_uri": "https://localhost:8080/"
        },
        "execution": {
          "iopub.execute_input": "2023-04-19T20:52:51.573595Z",
          "iopub.status.busy": "2023-04-19T20:52:51.573181Z",
          "iopub.status.idle": "2023-04-19T20:55:32.279342Z",
          "shell.execute_reply": "2023-04-19T20:55:32.277667Z",
          "shell.execute_reply.started": "2023-04-19T20:52:51.573558Z"
        },
        "id": "AhxjY0sg9aBA",
        "outputId": "33580938-203e-4435-a03d-a777bd16c4ed",
        "trusted": true
      },
      "outputs": [
        {
          "name": "stdout",
          "output_type": "stream",
          "text": [
            "\u001b[?25l     \u001b[90m━━━━━━━━━━━━━━━━━━━━━━━━━━━━━━━━━━━━━━━━\u001b[0m \u001b[32m0.0/176.1 kB\u001b[0m \u001b[31m?\u001b[0m eta \u001b[36m-:--:--\u001b[0m\r\u001b[2K     \u001b[91m━━━━━━━━━━━━━━━━━━━━━━━━━━━━━━━━━━━━━━\u001b[0m\u001b[91m╸\u001b[0m \u001b[32m174.1/176.1 kB\u001b[0m \u001b[31m6.2 MB/s\u001b[0m eta \u001b[36m0:00:01\u001b[0m\r\u001b[2K     \u001b[90m━━━━━━━━━━━━━━━━━━━━━━━━━━━━━━━━━━━━━━━\u001b[0m \u001b[32m176.1/176.1 kB\u001b[0m \u001b[31m4.4 MB/s\u001b[0m eta \u001b[36m0:00:00\u001b[0m\n",
            "\u001b[?25h"
          ]
        }
      ],
      "source": [
        "!pip install -q -U keras-tuner\n",
        "import keras_tuner as kt\n",
        "import tensorflow as tf\n",
        "from tensorflow import keras"
      ]
    },
    {
      "cell_type": "code",
      "execution_count": null,
      "metadata": {
        "id": "KTb9AE4X4uvh"
      },
      "outputs": [],
      "source": [
        "learning_rate_reduction = ReduceLROnPlateau(monitor='val_f1_m',  patience = 2,verbose=1,factor=0.5,min_lr=0.000001)"
      ]
    },
    {
      "cell_type": "markdown",
      "metadata": {
        "id": "0Qi_AbWuEBj3"
      },
      "source": [
        "#DATA LOADING"
      ]
    },
    {
      "cell_type": "code",
      "execution_count": null,
      "metadata": {
        "execution": {
          "iopub.execute_input": "2023-04-19T21:12:16.383043Z",
          "iopub.status.busy": "2023-04-19T21:12:16.382577Z",
          "iopub.status.idle": "2023-04-19T21:12:36.479914Z",
          "shell.execute_reply": "2023-04-19T21:12:36.478076Z",
          "shell.execute_reply.started": "2023-04-19T21:12:16.383008Z"
        },
        "id": "HqX6PH0UM2IR",
        "trusted": true
      },
      "outputs": [],
      "source": [
        "#load data\n",
        "\n",
        "x_1_1 = pd.read_csv('https://raw.githubusercontent.com/sushanthreddyC/Terrain-Identification-Using-Time-Series-Data/main/TrainingData/subject_001_01__x.csv', names = ['ax', 'ay', 'az', 'gx', 'gy', 'gz'])\n",
        "x_1_2 = pd.read_csv('https://raw.githubusercontent.com/sushanthreddyC/Terrain-Identification-Using-Time-Series-Data/main/TrainingData/subject_001_02__x.csv', names = ['ax', 'ay', 'az', 'gx', 'gy', 'gz'])\n",
        "x_1_3 = pd.read_csv('https://raw.githubusercontent.com/sushanthreddyC/Terrain-Identification-Using-Time-Series-Data/main/TrainingData/subject_001_03__x.csv', names = ['ax', 'ay', 'az', 'gx', 'gy', 'gz'])\n",
        "x_1_4 = pd.read_csv('https://raw.githubusercontent.com/sushanthreddyC/Terrain-Identification-Using-Time-Series-Data/main/TrainingData/subject_001_04__x.csv', names = ['ax', 'ay', 'az', 'gx', 'gy', 'gz'])\n",
        "x_1_5 = pd.read_csv('https://raw.githubusercontent.com/sushanthreddyC/Terrain-Identification-Using-Time-Series-Data/main/TrainingData/subject_001_05__x.csv', names = ['ax', 'ay', 'az', 'gx', 'gy', 'gz'])\n",
        "x_1_6 = pd.read_csv('https://raw.githubusercontent.com/sushanthreddyC/Terrain-Identification-Using-Time-Series-Data/main/TrainingData/subject_001_06__x.csv', names = ['ax', 'ay', 'az', 'gx', 'gy', 'gz'])\n",
        "x_1_7 = pd.read_csv('https://raw.githubusercontent.com/sushanthreddyC/Terrain-Identification-Using-Time-Series-Data/main/TrainingData/subject_001_07__x.csv', names = ['ax', 'ay', 'az', 'gx', 'gy', 'gz'])\n",
        "x_1_8 = pd.read_csv('https://raw.githubusercontent.com/sushanthreddyC/Terrain-Identification-Using-Time-Series-Data/main/TrainingData/subject_001_08__x.csv', names = ['ax', 'ay', 'az', 'gx', 'gy', 'gz'])\n",
        "\n",
        "\n",
        "\n",
        "x_2_1 = pd.read_csv('https://raw.githubusercontent.com/sushanthreddyC/Terrain-Identification-Using-Time-Series-Data/main/TrainingData/subject_002_01__x.csv', names = ['ax', 'ay', 'az', 'gx', 'gy', 'gz'])\n",
        "x_2_2 = pd.read_csv('https://raw.githubusercontent.com/sushanthreddyC/Terrain-Identification-Using-Time-Series-Data/main/TrainingData/subject_002_02__x.csv', names = ['ax', 'ay', 'az', 'gx', 'gy', 'gz'])\n",
        "x_2_3 = pd.read_csv('https://raw.githubusercontent.com/sushanthreddyC/Terrain-Identification-Using-Time-Series-Data/main/TrainingData/subject_002_03__x.csv', names = ['ax', 'ay', 'az', 'gx', 'gy', 'gz'])\n",
        "x_2_4 = pd.read_csv('https://raw.githubusercontent.com/sushanthreddyC/Terrain-Identification-Using-Time-Series-Data/main/TrainingData/subject_002_04__x.csv', names = ['ax', 'ay', 'az', 'gx', 'gy', 'gz'])\n",
        "x_2_5 = pd.read_csv('https://raw.githubusercontent.com/sushanthreddyC/Terrain-Identification-Using-Time-Series-Data/main/TrainingData/subject_002_05__x.csv', names = ['ax', 'ay', 'az', 'gx', 'gy', 'gz'])\n",
        "\n",
        "\n",
        "\n",
        "x_3_1 = pd.read_csv('https://raw.githubusercontent.com/sushanthreddyC/Terrain-Identification-Using-Time-Series-Data/main/TrainingData/subject_003_01__x.csv', names = ['ax', 'ay', 'az', 'gx', 'gy', 'gz'])\n",
        "x_3_2 = pd.read_csv('https://raw.githubusercontent.com/sushanthreddyC/Terrain-Identification-Using-Time-Series-Data/main/TrainingData/subject_003_02__x.csv', names = ['ax', 'ay', 'az', 'gx', 'gy', 'gz'])\n",
        "x_3_3 = pd.read_csv('https://raw.githubusercontent.com/sushanthreddyC/Terrain-Identification-Using-Time-Series-Data/main/TrainingData/subject_003_03__x.csv', names = ['ax', 'ay', 'az', 'gx', 'gy', 'gz'])\n",
        "\n",
        "\n",
        "\n",
        "x_4_1 = pd.read_csv('https://raw.githubusercontent.com/sushanthreddyC/Terrain-Identification-Using-Time-Series-Data/main/TrainingData/subject_004_01__x.csv',  names = ['ax', 'ay', 'az', 'gx', 'gy', 'gz'])\n",
        "x_4_2 = pd.read_csv('https://raw.githubusercontent.com/sushanthreddyC/Terrain-Identification-Using-Time-Series-Data/main/TrainingData/subject_004_02__x.csv',  names = ['ax', 'ay', 'az', 'gx', 'gy', 'gz'])\n",
        "\n",
        "\n",
        "\n",
        "x_5_1 = pd.read_csv('https://raw.githubusercontent.com/sushanthreddyC/Terrain-Identification-Using-Time-Series-Data/main/TrainingData/subject_005_01__x.csv', names = ['ax', 'ay', 'az', 'gx', 'gy', 'gz'])\n",
        "x_5_2 = pd.read_csv('https://raw.githubusercontent.com/sushanthreddyC/Terrain-Identification-Using-Time-Series-Data/main/TrainingData/subject_005_02__x.csv', names = ['ax', 'ay', 'az', 'gx', 'gy', 'gz'])\n",
        "x_5_3 = pd.read_csv('https://raw.githubusercontent.com/sushanthreddyC/Terrain-Identification-Using-Time-Series-Data/main/TrainingData/subject_005_03__x.csv', names = ['ax', 'ay', 'az', 'gx', 'gy', 'gz'])\n",
        "\n",
        "\n",
        "x_6_1 = pd.read_csv('https://raw.githubusercontent.com/sushanthreddyC/Terrain-Identification-Using-Time-Series-Data/main/TrainingData/subject_006_01__x.csv', names = ['ax', 'ay', 'az', 'gx', 'gy', 'gz'])\n",
        "x_6_2 = pd.read_csv('https://raw.githubusercontent.com/sushanthreddyC/Terrain-Identification-Using-Time-Series-Data/main/TrainingData/subject_006_02__x.csv', names = ['ax', 'ay', 'az', 'gx', 'gy', 'gz'])\n",
        "x_6_3 = pd.read_csv('https://raw.githubusercontent.com/sushanthreddyC/Terrain-Identification-Using-Time-Series-Data/main/TrainingData/subject_006_03__x.csv', names = ['ax', 'ay', 'az', 'gx', 'gy', 'gz'])\n",
        "\n",
        "x_7_1 = pd.read_csv('https://raw.githubusercontent.com/sushanthreddyC/Terrain-Identification-Using-Time-Series-Data/main/TrainingData/subject_007_01__x.csv', names = ['ax', 'ay', 'az', 'gx', 'gy', 'gz'])\n",
        "x_7_2 = pd.read_csv('https://raw.githubusercontent.com/sushanthreddyC/Terrain-Identification-Using-Time-Series-Data/main/TrainingData/subject_007_02__x.csv', names = ['ax', 'ay', 'az', 'gx', 'gy', 'gz'])\n",
        "x_7_3 = pd.read_csv('https://raw.githubusercontent.com/sushanthreddyC/Terrain-Identification-Using-Time-Series-Data/main/TrainingData/subject_007_03__x.csv', names = ['ax', 'ay', 'az', 'gx', 'gy', 'gz'])\n",
        "x_7_4 = pd.read_csv('https://raw.githubusercontent.com/sushanthreddyC/Terrain-Identification-Using-Time-Series-Data/main/TrainingData/subject_007_04__x.csv', names = ['ax', 'ay', 'az', 'gx', 'gy', 'gz'])\n",
        "\n",
        "x_8_1 = pd.read_csv('https://raw.githubusercontent.com/sushanthreddyC/Terrain-Identification-Using-Time-Series-Data/main/TrainingData/subject_008_01__x.csv', names = ['ax', 'ay', 'az', 'gx', 'gy', 'gz'])"
      ]
    },
    {
      "cell_type": "code",
      "execution_count": null,
      "metadata": {
        "colab": {
          "base_uri": "https://localhost:8080/",
          "height": 206
        },
        "execution": {
          "iopub.status.busy": "2023-04-19T20:55:52.765600Z",
          "iopub.status.idle": "2023-04-19T20:55:52.766186Z",
          "shell.execute_reply": "2023-04-19T20:55:52.765960Z",
          "shell.execute_reply.started": "2023-04-19T20:55:52.765934Z"
        },
        "id": "mhqNDUEu4CTf",
        "outputId": "da513ca6-da40-4c74-8792-a0eba52d0e17",
        "trusted": true
      },
      "outputs": [
        {
          "data": {
            "text/html": [
              "\n",
              "  <div id=\"df-193ff7dd-487d-4385-8679-7a568f351547\">\n",
              "    <div class=\"colab-df-container\">\n",
              "      <div>\n",
              "<style scoped>\n",
              "    .dataframe tbody tr th:only-of-type {\n",
              "        vertical-align: middle;\n",
              "    }\n",
              "\n",
              "    .dataframe tbody tr th {\n",
              "        vertical-align: top;\n",
              "    }\n",
              "\n",
              "    .dataframe thead th {\n",
              "        text-align: right;\n",
              "    }\n",
              "</style>\n",
              "<table border=\"1\" class=\"dataframe\">\n",
              "  <thead>\n",
              "    <tr style=\"text-align: right;\">\n",
              "      <th></th>\n",
              "      <th>ax</th>\n",
              "      <th>ay</th>\n",
              "      <th>az</th>\n",
              "      <th>gx</th>\n",
              "      <th>gy</th>\n",
              "      <th>gz</th>\n",
              "    </tr>\n",
              "  </thead>\n",
              "  <tbody>\n",
              "    <tr>\n",
              "      <th>0</th>\n",
              "      <td>4.435275</td>\n",
              "      <td>8.196063</td>\n",
              "      <td>2.974488</td>\n",
              "      <td>0.014215</td>\n",
              "      <td>-0.039157</td>\n",
              "      <td>-0.016744</td>\n",
              "    </tr>\n",
              "    <tr>\n",
              "      <th>1</th>\n",
              "      <td>4.186920</td>\n",
              "      <td>8.344455</td>\n",
              "      <td>2.908057</td>\n",
              "      <td>0.005771</td>\n",
              "      <td>-0.004480</td>\n",
              "      <td>-0.003345</td>\n",
              "    </tr>\n",
              "    <tr>\n",
              "      <th>2</th>\n",
              "      <td>4.544637</td>\n",
              "      <td>8.408659</td>\n",
              "      <td>2.890000</td>\n",
              "      <td>0.007967</td>\n",
              "      <td>0.022412</td>\n",
              "      <td>0.001159</td>\n",
              "    </tr>\n",
              "    <tr>\n",
              "      <th>3</th>\n",
              "      <td>4.849308</td>\n",
              "      <td>8.411614</td>\n",
              "      <td>2.900692</td>\n",
              "      <td>0.027778</td>\n",
              "      <td>-0.010670</td>\n",
              "      <td>-0.014223</td>\n",
              "    </tr>\n",
              "    <tr>\n",
              "      <th>4</th>\n",
              "      <td>4.509190</td>\n",
              "      <td>8.118649</td>\n",
              "      <td>2.847298</td>\n",
              "      <td>0.021577</td>\n",
              "      <td>-0.045498</td>\n",
              "      <td>-0.021111</td>\n",
              "    </tr>\n",
              "  </tbody>\n",
              "</table>\n",
              "</div>\n",
              "      <button class=\"colab-df-convert\" onclick=\"convertToInteractive('df-193ff7dd-487d-4385-8679-7a568f351547')\"\n",
              "              title=\"Convert this dataframe to an interactive table.\"\n",
              "              style=\"display:none;\">\n",
              "        \n",
              "  <svg xmlns=\"http://www.w3.org/2000/svg\" height=\"24px\"viewBox=\"0 0 24 24\"\n",
              "       width=\"24px\">\n",
              "    <path d=\"M0 0h24v24H0V0z\" fill=\"none\"/>\n",
              "    <path d=\"M18.56 5.44l.94 2.06.94-2.06 2.06-.94-2.06-.94-.94-2.06-.94 2.06-2.06.94zm-11 1L8.5 8.5l.94-2.06 2.06-.94-2.06-.94L8.5 2.5l-.94 2.06-2.06.94zm10 10l.94 2.06.94-2.06 2.06-.94-2.06-.94-.94-2.06-.94 2.06-2.06.94z\"/><path d=\"M17.41 7.96l-1.37-1.37c-.4-.4-.92-.59-1.43-.59-.52 0-1.04.2-1.43.59L10.3 9.45l-7.72 7.72c-.78.78-.78 2.05 0 2.83L4 21.41c.39.39.9.59 1.41.59.51 0 1.02-.2 1.41-.59l7.78-7.78 2.81-2.81c.8-.78.8-2.07 0-2.86zM5.41 20L4 18.59l7.72-7.72 1.47 1.35L5.41 20z\"/>\n",
              "  </svg>\n",
              "      </button>\n",
              "      \n",
              "  <style>\n",
              "    .colab-df-container {\n",
              "      display:flex;\n",
              "      flex-wrap:wrap;\n",
              "      gap: 12px;\n",
              "    }\n",
              "\n",
              "    .colab-df-convert {\n",
              "      background-color: #E8F0FE;\n",
              "      border: none;\n",
              "      border-radius: 50%;\n",
              "      cursor: pointer;\n",
              "      display: none;\n",
              "      fill: #1967D2;\n",
              "      height: 32px;\n",
              "      padding: 0 0 0 0;\n",
              "      width: 32px;\n",
              "    }\n",
              "\n",
              "    .colab-df-convert:hover {\n",
              "      background-color: #E2EBFA;\n",
              "      box-shadow: 0px 1px 2px rgba(60, 64, 67, 0.3), 0px 1px 3px 1px rgba(60, 64, 67, 0.15);\n",
              "      fill: #174EA6;\n",
              "    }\n",
              "\n",
              "    [theme=dark] .colab-df-convert {\n",
              "      background-color: #3B4455;\n",
              "      fill: #D2E3FC;\n",
              "    }\n",
              "\n",
              "    [theme=dark] .colab-df-convert:hover {\n",
              "      background-color: #434B5C;\n",
              "      box-shadow: 0px 1px 3px 1px rgba(0, 0, 0, 0.15);\n",
              "      filter: drop-shadow(0px 1px 2px rgba(0, 0, 0, 0.3));\n",
              "      fill: #FFFFFF;\n",
              "    }\n",
              "  </style>\n",
              "\n",
              "      <script>\n",
              "        const buttonEl =\n",
              "          document.querySelector('#df-193ff7dd-487d-4385-8679-7a568f351547 button.colab-df-convert');\n",
              "        buttonEl.style.display =\n",
              "          google.colab.kernel.accessAllowed ? 'block' : 'none';\n",
              "\n",
              "        async function convertToInteractive(key) {\n",
              "          const element = document.querySelector('#df-193ff7dd-487d-4385-8679-7a568f351547');\n",
              "          const dataTable =\n",
              "            await google.colab.kernel.invokeFunction('convertToInteractive',\n",
              "                                                     [key], {});\n",
              "          if (!dataTable) return;\n",
              "\n",
              "          const docLinkHtml = 'Like what you see? Visit the ' +\n",
              "            '<a target=\"_blank\" href=https://colab.research.google.com/notebooks/data_table.ipynb>data table notebook</a>'\n",
              "            + ' to learn more about interactive tables.';\n",
              "          element.innerHTML = '';\n",
              "          dataTable['output_type'] = 'display_data';\n",
              "          await google.colab.output.renderOutput(dataTable, element);\n",
              "          const docLink = document.createElement('div');\n",
              "          docLink.innerHTML = docLinkHtml;\n",
              "          element.appendChild(docLink);\n",
              "        }\n",
              "      </script>\n",
              "    </div>\n",
              "  </div>\n",
              "  "
            ],
            "text/plain": [
              "         ax        ay        az        gx        gy        gz\n",
              "0  4.435275  8.196063  2.974488  0.014215 -0.039157 -0.016744\n",
              "1  4.186920  8.344455  2.908057  0.005771 -0.004480 -0.003345\n",
              "2  4.544637  8.408659  2.890000  0.007967  0.022412  0.001159\n",
              "3  4.849308  8.411614  2.900692  0.027778 -0.010670 -0.014223\n",
              "4  4.509190  8.118649  2.847298  0.021577 -0.045498 -0.021111"
            ]
          },
          "execution_count": 6,
          "metadata": {},
          "output_type": "execute_result"
        }
      ],
      "source": [
        "x_1_1.head()"
      ]
    },
    {
      "cell_type": "markdown",
      "metadata": {
        "id": "acYTZTeEEF_C"
      },
      "source": [
        "X-time Values"
      ]
    },
    {
      "cell_type": "code",
      "execution_count": null,
      "metadata": {
        "execution": {
          "iopub.status.busy": "2023-04-19T20:55:52.767608Z",
          "iopub.status.idle": "2023-04-19T20:55:52.768034Z",
          "shell.execute_reply": "2023-04-19T20:55:52.767854Z",
          "shell.execute_reply.started": "2023-04-19T20:55:52.767831Z"
        },
        "id": "mjhyF3PEEFo0",
        "trusted": true
      },
      "outputs": [],
      "source": [
        "#load data\n",
        "\n",
        "x_1_1_t = pd.read_csv('https://raw.githubusercontent.com/sushanthreddyC/Terrain-Identification-Using-Time-Series-Data/main/TrainingData/subject_001_01__x_time.csv', names = ['time'])\n",
        "x_1_2_t = pd.read_csv('https://raw.githubusercontent.com/sushanthreddyC/Terrain-Identification-Using-Time-Series-Data/main/TrainingData/subject_001_02__x_time.csv', names = ['time'])\n",
        "x_1_3_t = pd.read_csv('https://raw.githubusercontent.com/sushanthreddyC/Terrain-Identification-Using-Time-Series-Data/main/TrainingData/subject_001_03__x_time.csv', names = ['time'])\n",
        "x_1_4_t = pd.read_csv('https://raw.githubusercontent.com/sushanthreddyC/Terrain-Identification-Using-Time-Series-Data/main/TrainingData/subject_001_04__x_time.csv', names = ['time'])\n",
        "x_1_5_t = pd.read_csv('https://raw.githubusercontent.com/sushanthreddyC/Terrain-Identification-Using-Time-Series-Data/main/TrainingData/subject_001_05__x_time.csv', names = ['time'])\n",
        "x_1_6_t = pd.read_csv('https://raw.githubusercontent.com/sushanthreddyC/Terrain-Identification-Using-Time-Series-Data/main/TrainingData/subject_001_06__x_time.csv', names = ['time'])\n",
        "x_1_7_t = pd.read_csv('https://raw.githubusercontent.com/sushanthreddyC/Terrain-Identification-Using-Time-Series-Data/main/TrainingData/subject_001_07__x_time.csv', names = ['time'])\n",
        "x_1_8_t = pd.read_csv('https://raw.githubusercontent.com/sushanthreddyC/Terrain-Identification-Using-Time-Series-Data/main/TrainingData/subject_001_08__x_time.csv', names = ['time'])\n",
        "\n",
        "\n",
        "\n",
        "x_2_1_t = pd.read_csv('https://raw.githubusercontent.com/sushanthreddyC/Terrain-Identification-Using-Time-Series-Data/main/TrainingData/subject_002_01__x_time.csv', names = ['time'])\n",
        "x_2_2_t = pd.read_csv('https://raw.githubusercontent.com/sushanthreddyC/Terrain-Identification-Using-Time-Series-Data/main/TrainingData/subject_002_02__x_time.csv', names = ['time'])\n",
        "x_2_3_t = pd.read_csv('https://raw.githubusercontent.com/sushanthreddyC/Terrain-Identification-Using-Time-Series-Data/main/TrainingData/subject_002_03__x_time.csv', names = ['time'])\n",
        "x_2_4_t = pd.read_csv('https://raw.githubusercontent.com/sushanthreddyC/Terrain-Identification-Using-Time-Series-Data/main/TrainingData/subject_002_04__x_time.csv', names = ['time'])\n",
        "x_2_5_t = pd.read_csv('https://raw.githubusercontent.com/sushanthreddyC/Terrain-Identification-Using-Time-Series-Data/main/TrainingData/subject_002_05__x_time.csv', names = ['time'])\n",
        "\n",
        "\n",
        "\n",
        "x_3_1_t = pd.read_csv('https://raw.githubusercontent.com/sushanthreddyC/Terrain-Identification-Using-Time-Series-Data/main/TrainingData/subject_003_01__x_time.csv', names = ['time'])\n",
        "x_3_2_t = pd.read_csv('https://raw.githubusercontent.com/sushanthreddyC/Terrain-Identification-Using-Time-Series-Data/main/TrainingData/subject_003_02__x_time.csv', names = ['time'])\n",
        "x_3_3_t = pd.read_csv('https://raw.githubusercontent.com/sushanthreddyC/Terrain-Identification-Using-Time-Series-Data/main/TrainingData/subject_003_03__x_time.csv', names = ['time'])\n",
        "\n",
        "\n",
        "\n",
        "x_4_1_t = pd.read_csv('https://raw.githubusercontent.com/sushanthreddyC/Terrain-Identification-Using-Time-Series-Data/main/TrainingData/subject_004_01__x_time.csv',  names = ['time'])\n",
        "x_4_2_t = pd.read_csv('https://raw.githubusercontent.com/sushanthreddyC/Terrain-Identification-Using-Time-Series-Data/main/TrainingData/subject_004_02__x_time.csv',  names = ['time'])\n",
        "\n",
        "\n",
        "\n",
        "x_5_1_t = pd.read_csv('https://raw.githubusercontent.com/sushanthreddyC/Terrain-Identification-Using-Time-Series-Data/main/TrainingData/subject_005_01__x_time.csv', names = ['time'])\n",
        "x_5_2_t = pd.read_csv('https://raw.githubusercontent.com/sushanthreddyC/Terrain-Identification-Using-Time-Series-Data/main/TrainingData/subject_005_02__x_time.csv', names = ['time'])\n",
        "x_5_3_t = pd.read_csv('https://raw.githubusercontent.com/sushanthreddyC/Terrain-Identification-Using-Time-Series-Data/main/TrainingData/subject_005_03__x_time.csv', names = ['time'])\n",
        "\n",
        "\n",
        "x_6_1_t = pd.read_csv('https://raw.githubusercontent.com/sushanthreddyC/Terrain-Identification-Using-Time-Series-Data/main/TrainingData/subject_006_01__x_time.csv', names = ['time'])\n",
        "x_6_2_t = pd.read_csv('https://raw.githubusercontent.com/sushanthreddyC/Terrain-Identification-Using-Time-Series-Data/main/TrainingData/subject_006_02__x_time.csv', names = ['time'])\n",
        "x_6_3_t = pd.read_csv('https://raw.githubusercontent.com/sushanthreddyC/Terrain-Identification-Using-Time-Series-Data/main/TrainingData/subject_006_03__x_time.csv', names = ['time'])\n",
        "\n",
        "x_7_1_t = pd.read_csv('https://raw.githubusercontent.com/sushanthreddyC/Terrain-Identification-Using-Time-Series-Data/main/TrainingData/subject_007_01__x_time.csv', names =['time'])\n",
        "x_7_2_t = pd.read_csv('https://raw.githubusercontent.com/sushanthreddyC/Terrain-Identification-Using-Time-Series-Data/main/TrainingData/subject_007_02__x_time.csv', names = ['time'])\n",
        "x_7_3_t = pd.read_csv('https://raw.githubusercontent.com/sushanthreddyC/Terrain-Identification-Using-Time-Series-Data/main/TrainingData/subject_007_03__x_time.csv', names = ['time'])\n",
        "x_7_4_t = pd.read_csv('https://raw.githubusercontent.com/sushanthreddyC/Terrain-Identification-Using-Time-Series-Data/main/TrainingData/subject_007_04__x_time.csv', names = ['time'])\n",
        "\n",
        "x_8_1_t = pd.read_csv('https://raw.githubusercontent.com/sushanthreddyC/Terrain-Identification-Using-Time-Series-Data/main/TrainingData/subject_008_01__x_time.csv', names = ['time'])"
      ]
    },
    {
      "cell_type": "code",
      "execution_count": null,
      "metadata": {
        "colab": {
          "base_uri": "https://localhost:8080/",
          "height": 206
        },
        "execution": {
          "iopub.status.busy": "2023-04-19T20:55:52.770369Z",
          "iopub.status.idle": "2023-04-19T20:55:52.770826Z",
          "shell.execute_reply": "2023-04-19T20:55:52.770638Z",
          "shell.execute_reply.started": "2023-04-19T20:55:52.770615Z"
        },
        "id": "RBrn0oK14FlK",
        "outputId": "66b03fba-23ad-469b-849c-603af6de76ba",
        "trusted": true
      },
      "outputs": [
        {
          "data": {
            "text/html": [
              "\n",
              "  <div id=\"df-eb8a2c7c-88bc-4b40-93c2-2e5f33f7140c\">\n",
              "    <div class=\"colab-df-container\">\n",
              "      <div>\n",
              "<style scoped>\n",
              "    .dataframe tbody tr th:only-of-type {\n",
              "        vertical-align: middle;\n",
              "    }\n",
              "\n",
              "    .dataframe tbody tr th {\n",
              "        vertical-align: top;\n",
              "    }\n",
              "\n",
              "    .dataframe thead th {\n",
              "        text-align: right;\n",
              "    }\n",
              "</style>\n",
              "<table border=\"1\" class=\"dataframe\">\n",
              "  <thead>\n",
              "    <tr style=\"text-align: right;\">\n",
              "      <th></th>\n",
              "      <th>time</th>\n",
              "    </tr>\n",
              "  </thead>\n",
              "  <tbody>\n",
              "    <tr>\n",
              "      <th>0</th>\n",
              "      <td>0.000</td>\n",
              "    </tr>\n",
              "    <tr>\n",
              "      <th>1</th>\n",
              "      <td>0.025</td>\n",
              "    </tr>\n",
              "    <tr>\n",
              "      <th>2</th>\n",
              "      <td>0.050</td>\n",
              "    </tr>\n",
              "    <tr>\n",
              "      <th>3</th>\n",
              "      <td>0.075</td>\n",
              "    </tr>\n",
              "    <tr>\n",
              "      <th>4</th>\n",
              "      <td>0.100</td>\n",
              "    </tr>\n",
              "  </tbody>\n",
              "</table>\n",
              "</div>\n",
              "      <button class=\"colab-df-convert\" onclick=\"convertToInteractive('df-eb8a2c7c-88bc-4b40-93c2-2e5f33f7140c')\"\n",
              "              title=\"Convert this dataframe to an interactive table.\"\n",
              "              style=\"display:none;\">\n",
              "        \n",
              "  <svg xmlns=\"http://www.w3.org/2000/svg\" height=\"24px\"viewBox=\"0 0 24 24\"\n",
              "       width=\"24px\">\n",
              "    <path d=\"M0 0h24v24H0V0z\" fill=\"none\"/>\n",
              "    <path d=\"M18.56 5.44l.94 2.06.94-2.06 2.06-.94-2.06-.94-.94-2.06-.94 2.06-2.06.94zm-11 1L8.5 8.5l.94-2.06 2.06-.94-2.06-.94L8.5 2.5l-.94 2.06-2.06.94zm10 10l.94 2.06.94-2.06 2.06-.94-2.06-.94-.94-2.06-.94 2.06-2.06.94z\"/><path d=\"M17.41 7.96l-1.37-1.37c-.4-.4-.92-.59-1.43-.59-.52 0-1.04.2-1.43.59L10.3 9.45l-7.72 7.72c-.78.78-.78 2.05 0 2.83L4 21.41c.39.39.9.59 1.41.59.51 0 1.02-.2 1.41-.59l7.78-7.78 2.81-2.81c.8-.78.8-2.07 0-2.86zM5.41 20L4 18.59l7.72-7.72 1.47 1.35L5.41 20z\"/>\n",
              "  </svg>\n",
              "      </button>\n",
              "      \n",
              "  <style>\n",
              "    .colab-df-container {\n",
              "      display:flex;\n",
              "      flex-wrap:wrap;\n",
              "      gap: 12px;\n",
              "    }\n",
              "\n",
              "    .colab-df-convert {\n",
              "      background-color: #E8F0FE;\n",
              "      border: none;\n",
              "      border-radius: 50%;\n",
              "      cursor: pointer;\n",
              "      display: none;\n",
              "      fill: #1967D2;\n",
              "      height: 32px;\n",
              "      padding: 0 0 0 0;\n",
              "      width: 32px;\n",
              "    }\n",
              "\n",
              "    .colab-df-convert:hover {\n",
              "      background-color: #E2EBFA;\n",
              "      box-shadow: 0px 1px 2px rgba(60, 64, 67, 0.3), 0px 1px 3px 1px rgba(60, 64, 67, 0.15);\n",
              "      fill: #174EA6;\n",
              "    }\n",
              "\n",
              "    [theme=dark] .colab-df-convert {\n",
              "      background-color: #3B4455;\n",
              "      fill: #D2E3FC;\n",
              "    }\n",
              "\n",
              "    [theme=dark] .colab-df-convert:hover {\n",
              "      background-color: #434B5C;\n",
              "      box-shadow: 0px 1px 3px 1px rgba(0, 0, 0, 0.15);\n",
              "      filter: drop-shadow(0px 1px 2px rgba(0, 0, 0, 0.3));\n",
              "      fill: #FFFFFF;\n",
              "    }\n",
              "  </style>\n",
              "\n",
              "      <script>\n",
              "        const buttonEl =\n",
              "          document.querySelector('#df-eb8a2c7c-88bc-4b40-93c2-2e5f33f7140c button.colab-df-convert');\n",
              "        buttonEl.style.display =\n",
              "          google.colab.kernel.accessAllowed ? 'block' : 'none';\n",
              "\n",
              "        async function convertToInteractive(key) {\n",
              "          const element = document.querySelector('#df-eb8a2c7c-88bc-4b40-93c2-2e5f33f7140c');\n",
              "          const dataTable =\n",
              "            await google.colab.kernel.invokeFunction('convertToInteractive',\n",
              "                                                     [key], {});\n",
              "          if (!dataTable) return;\n",
              "\n",
              "          const docLinkHtml = 'Like what you see? Visit the ' +\n",
              "            '<a target=\"_blank\" href=https://colab.research.google.com/notebooks/data_table.ipynb>data table notebook</a>'\n",
              "            + ' to learn more about interactive tables.';\n",
              "          element.innerHTML = '';\n",
              "          dataTable['output_type'] = 'display_data';\n",
              "          await google.colab.output.renderOutput(dataTable, element);\n",
              "          const docLink = document.createElement('div');\n",
              "          docLink.innerHTML = docLinkHtml;\n",
              "          element.appendChild(docLink);\n",
              "        }\n",
              "      </script>\n",
              "    </div>\n",
              "  </div>\n",
              "  "
            ],
            "text/plain": [
              "    time\n",
              "0  0.000\n",
              "1  0.025\n",
              "2  0.050\n",
              "3  0.075\n",
              "4  0.100"
            ]
          },
          "execution_count": 8,
          "metadata": {},
          "output_type": "execute_result"
        }
      ],
      "source": [
        "x_8_1_t.head()"
      ]
    },
    {
      "cell_type": "markdown",
      "metadata": {
        "id": "OW5oxwRKMwLo"
      },
      "source": [
        "Y-Values"
      ]
    },
    {
      "cell_type": "code",
      "execution_count": null,
      "metadata": {
        "execution": {
          "iopub.status.busy": "2023-04-19T20:55:52.772079Z",
          "iopub.status.idle": "2023-04-19T20:55:52.772484Z",
          "shell.execute_reply": "2023-04-19T20:55:52.772306Z",
          "shell.execute_reply.started": "2023-04-19T20:55:52.772285Z"
        },
        "id": "Rju3fMUWQUIA",
        "trusted": true
      },
      "outputs": [],
      "source": [
        "y_1_1 = pd.read_csv('https://raw.githubusercontent.com/sushanthreddyC/Terrain-Identification-Using-Time-Series-Data/main/TrainingData/subject_001_01__y.csv', names = ['target'])\n",
        "y_1_2 = pd.read_csv('https://raw.githubusercontent.com/sushanthreddyC/Terrain-Identification-Using-Time-Series-Data/main/TrainingData/subject_001_02__y.csv', names = ['target'])\n",
        "y_1_3 = pd.read_csv('https://raw.githubusercontent.com/sushanthreddyC/Terrain-Identification-Using-Time-Series-Data/main/TrainingData/subject_001_03__y.csv', names = ['target'])\n",
        "y_1_4 = pd.read_csv('https://raw.githubusercontent.com/sushanthreddyC/Terrain-Identification-Using-Time-Series-Data/main/TrainingData/subject_001_04__y.csv', names = ['target'])\n",
        "y_1_5 = pd.read_csv('https://raw.githubusercontent.com/sushanthreddyC/Terrain-Identification-Using-Time-Series-Data/main/TrainingData/subject_001_05__y.csv', names = ['target'])\n",
        "y_1_6 = pd.read_csv('https://raw.githubusercontent.com/sushanthreddyC/Terrain-Identification-Using-Time-Series-Data/main/TrainingData/subject_001_06__y.csv', names = ['target'])\n",
        "y_1_7 = pd.read_csv('https://raw.githubusercontent.com/sushanthreddyC/Terrain-Identification-Using-Time-Series-Data/main/TrainingData/subject_001_07__y.csv', names = ['target'])\n",
        "y_1_8 = pd.read_csv('https://raw.githubusercontent.com/sushanthreddyC/Terrain-Identification-Using-Time-Series-Data/main/TrainingData/subject_001_08__y.csv', names = ['target'])\n",
        "\n",
        "\n",
        "\n",
        "y_2_1 = pd.read_csv('https://raw.githubusercontent.com/sushanthreddyC/Terrain-Identification-Using-Time-Series-Data/main/TrainingData/subject_002_01__y.csv', names = ['target'])\n",
        "y_2_2 = pd.read_csv('https://raw.githubusercontent.com/sushanthreddyC/Terrain-Identification-Using-Time-Series-Data/main/TrainingData/subject_002_02__y.csv', names = ['target'])\n",
        "y_2_3 = pd.read_csv('https://raw.githubusercontent.com/sushanthreddyC/Terrain-Identification-Using-Time-Series-Data/main/TrainingData/subject_002_03__y.csv', names = ['target'])\n",
        "y_2_4 = pd.read_csv('https://raw.githubusercontent.com/sushanthreddyC/Terrain-Identification-Using-Time-Series-Data/main/TrainingData/subject_002_04__y.csv', names = ['target'])\n",
        "y_2_5 = pd.read_csv('https://raw.githubusercontent.com/sushanthreddyC/Terrain-Identification-Using-Time-Series-Data/main/TrainingData/subject_002_05__y.csv', names = ['target'])\n",
        "\n",
        "\n",
        "\n",
        "y_3_1 = pd.read_csv('https://raw.githubusercontent.com/sushanthreddyC/Terrain-Identification-Using-Time-Series-Data/main/TrainingData/subject_003_01__y.csv', names = ['target'])\n",
        "y_3_2 = pd.read_csv('https://raw.githubusercontent.com/sushanthreddyC/Terrain-Identification-Using-Time-Series-Data/main/TrainingData/subject_003_02__y.csv', names = ['target'])\n",
        "y_3_3 = pd.read_csv('https://raw.githubusercontent.com/sushanthreddyC/Terrain-Identification-Using-Time-Series-Data/main/TrainingData/subject_003_03__y.csv', names = ['target'])\n",
        "\n",
        "y_4_1 = pd.read_csv('https://raw.githubusercontent.com/sushanthreddyC/Terrain-Identification-Using-Time-Series-Data/main/TrainingData/subject_004_01__y.csv',  names = ['target'])\n",
        "y_4_2 = pd.read_csv('https://raw.githubusercontent.com/sushanthreddyC/Terrain-Identification-Using-Time-Series-Data/main/TrainingData/subject_004_02__y.csv',  names = ['target'])\n",
        "\n",
        "y_5_1 = pd.read_csv('https://raw.githubusercontent.com/sushanthreddyC/Terrain-Identification-Using-Time-Series-Data/main/TrainingData/subject_005_01__y.csv', names = ['target'])\n",
        "y_5_2 = pd.read_csv('https://raw.githubusercontent.com/sushanthreddyC/Terrain-Identification-Using-Time-Series-Data/main/TrainingData/subject_005_02__y.csv', names = ['target'])\n",
        "y_5_3 = pd.read_csv('https://raw.githubusercontent.com/sushanthreddyC/Terrain-Identification-Using-Time-Series-Data/main/TrainingData/subject_005_03__y.csv', names = ['target'])\n",
        "\n",
        "\n",
        "y_6_1 = pd.read_csv('https://raw.githubusercontent.com/sushanthreddyC/Terrain-Identification-Using-Time-Series-Data/main/TrainingData/subject_006_01__y.csv', names = ['target'])\n",
        "y_6_2 = pd.read_csv('https://raw.githubusercontent.com/sushanthreddyC/Terrain-Identification-Using-Time-Series-Data/main/TrainingData/subject_006_02__y.csv', names = ['target'])\n",
        "y_6_3 = pd.read_csv('https://raw.githubusercontent.com/sushanthreddyC/Terrain-Identification-Using-Time-Series-Data/main/TrainingData/subject_006_03__y.csv', names = ['target'])\n",
        "\n",
        "y_7_1 = pd.read_csv('https://raw.githubusercontent.com/sushanthreddyC/Terrain-Identification-Using-Time-Series-Data/main/TrainingData/subject_007_01__y.csv', names = ['target'])\n",
        "y_7_2 = pd.read_csv('https://raw.githubusercontent.com/sushanthreddyC/Terrain-Identification-Using-Time-Series-Data/main/TrainingData/subject_007_02__y.csv', names = ['target'])\n",
        "y_7_3 = pd.read_csv('https://raw.githubusercontent.com/sushanthreddyC/Terrain-Identification-Using-Time-Series-Data/main/TrainingData/subject_007_03__y.csv', names = ['target'])\n",
        "y_7_4 = pd.read_csv('https://raw.githubusercontent.com/sushanthreddyC/Terrain-Identification-Using-Time-Series-Data/main/TrainingData/subject_007_04__y.csv', names = ['target'])\n",
        "\n",
        "y_8_1 = pd.read_csv('https://raw.githubusercontent.com/sushanthreddyC/Terrain-Identification-Using-Time-Series-Data/main/TrainingData/subject_008_01__y.csv', names = ['target'])"
      ]
    },
    {
      "cell_type": "markdown",
      "metadata": {
        "id": "C1STZEEIMuSG"
      },
      "source": [
        "Y-Time"
      ]
    },
    {
      "cell_type": "code",
      "execution_count": null,
      "metadata": {
        "execution": {
          "iopub.status.busy": "2023-04-19T20:55:52.773996Z",
          "iopub.status.idle": "2023-04-19T20:55:52.774407Z",
          "shell.execute_reply": "2023-04-19T20:55:52.774216Z",
          "shell.execute_reply.started": "2023-04-19T20:55:52.774196Z"
        },
        "id": "bMdLBo2SLl9L",
        "trusted": true
      },
      "outputs": [],
      "source": [
        "#load data\n",
        "\n",
        "y_1_1_t = pd.read_csv('https://raw.githubusercontent.com/sushanthreddyC/Terrain-Identification-Using-Time-Series-Data/main/TrainingData/subject_001_01__y_time.csv', names = ['time'])\n",
        "y_1_2_t = pd.read_csv('https://raw.githubusercontent.com/sushanthreddyC/Terrain-Identification-Using-Time-Series-Data/main/TrainingData/subject_001_02__y_time.csv', names = ['time'])\n",
        "y_1_3_t = pd.read_csv('https://raw.githubusercontent.com/sushanthreddyC/Terrain-Identification-Using-Time-Series-Data/main/TrainingData/subject_001_03__y_time.csv', names = ['time'])\n",
        "y_1_4_t = pd.read_csv('https://raw.githubusercontent.com/sushanthreddyC/Terrain-Identification-Using-Time-Series-Data/main/TrainingData/subject_001_04__y_time.csv', names = ['time'])\n",
        "y_1_5_t = pd.read_csv('https://raw.githubusercontent.com/sushanthreddyC/Terrain-Identification-Using-Time-Series-Data/main/TrainingData/subject_001_05__y_time.csv', names = ['time'])\n",
        "y_1_6_t = pd.read_csv('https://raw.githubusercontent.com/sushanthreddyC/Terrain-Identification-Using-Time-Series-Data/main/TrainingData/subject_001_06__y_time.csv', names = ['time'])\n",
        "y_1_7_t = pd.read_csv('https://raw.githubusercontent.com/sushanthreddyC/Terrain-Identification-Using-Time-Series-Data/main/TrainingData/subject_001_07__y_time.csv', names = ['time'])\n",
        "y_1_8_t = pd.read_csv('https://raw.githubusercontent.com/sushanthreddyC/Terrain-Identification-Using-Time-Series-Data/main/TrainingData/subject_001_08__y_time.csv', names = ['time'])\n",
        "\n",
        "\n",
        "\n",
        "y_2_1_t = pd.read_csv('https://raw.githubusercontent.com/sushanthreddyC/Terrain-Identification-Using-Time-Series-Data/main/TrainingData/subject_002_01__y_time.csv', names = ['time'])\n",
        "y_2_2_t = pd.read_csv('https://raw.githubusercontent.com/sushanthreddyC/Terrain-Identification-Using-Time-Series-Data/main/TrainingData/subject_002_02__y_time.csv', names = ['time'])\n",
        "y_2_3_t = pd.read_csv('https://raw.githubusercontent.com/sushanthreddyC/Terrain-Identification-Using-Time-Series-Data/main/TrainingData/subject_002_03__y_time.csv', names = ['time'])\n",
        "y_2_4_t = pd.read_csv('https://raw.githubusercontent.com/sushanthreddyC/Terrain-Identification-Using-Time-Series-Data/main/TrainingData/subject_002_04__y_time.csv', names = ['time'])\n",
        "y_2_5_t = pd.read_csv('https://raw.githubusercontent.com/sushanthreddyC/Terrain-Identification-Using-Time-Series-Data/main/TrainingData/subject_002_05__y_time.csv', names = ['time'])\n",
        "\n",
        "\n",
        "\n",
        "y_3_1_t = pd.read_csv('https://raw.githubusercontent.com/sushanthreddyC/Terrain-Identification-Using-Time-Series-Data/main/TrainingData/subject_003_01__y_time.csv', names = ['time'])\n",
        "y_3_2_t = pd.read_csv('https://raw.githubusercontent.com/sushanthreddyC/Terrain-Identification-Using-Time-Series-Data/main/TrainingData/subject_003_02__y_time.csv', names = ['time'])\n",
        "y_3_3_t = pd.read_csv('https://raw.githubusercontent.com/sushanthreddyC/Terrain-Identification-Using-Time-Series-Data/main/TrainingData/subject_003_03__y_time.csv', names = ['time'])\n",
        "\n",
        "\n",
        "\n",
        "y_4_1_t = pd.read_csv('https://raw.githubusercontent.com/sushanthreddyC/Terrain-Identification-Using-Time-Series-Data/main/TrainingData/subject_004_01__y_time.csv',  names = ['time'])\n",
        "y_4_2_t = pd.read_csv('https://raw.githubusercontent.com/sushanthreddyC/Terrain-Identification-Using-Time-Series-Data/main/TrainingData/subject_004_02__y_time.csv',  names = ['time'])\n",
        "\n",
        "\n",
        "\n",
        "y_5_1_t = pd.read_csv('https://raw.githubusercontent.com/sushanthreddyC/Terrain-Identification-Using-Time-Series-Data/main/TrainingData/subject_005_01__y_time.csv', names = ['time'])\n",
        "y_5_2_t = pd.read_csv('https://raw.githubusercontent.com/sushanthreddyC/Terrain-Identification-Using-Time-Series-Data/main/TrainingData/subject_005_02__y_time.csv', names = ['time'])\n",
        "y_5_3_t = pd.read_csv('https://raw.githubusercontent.com/sushanthreddyC/Terrain-Identification-Using-Time-Series-Data/main/TrainingData/subject_005_03__y_time.csv', names = ['time'])\n",
        "\n",
        "\n",
        "y_6_1_t = pd.read_csv('https://raw.githubusercontent.com/sushanthreddyC/Terrain-Identification-Using-Time-Series-Data/main/TrainingData/subject_006_01__y_time.csv', names = ['time'])\n",
        "y_6_2_t = pd.read_csv('https://raw.githubusercontent.com/sushanthreddyC/Terrain-Identification-Using-Time-Series-Data/main/TrainingData/subject_006_02__y_time.csv', names = ['time'])\n",
        "y_6_3_t = pd.read_csv('https://raw.githubusercontent.com/sushanthreddyC/Terrain-Identification-Using-Time-Series-Data/main/TrainingData/subject_006_03__y_time.csv', names = ['time'])\n",
        "\n",
        "y_7_1_t = pd.read_csv('https://raw.githubusercontent.com/sushanthreddyC/Terrain-Identification-Using-Time-Series-Data/main/TrainingData/subject_007_01__y_time.csv', names =['time'])\n",
        "y_7_2_t = pd.read_csv('https://raw.githubusercontent.com/sushanthreddyC/Terrain-Identification-Using-Time-Series-Data/main/TrainingData/subject_007_02__y_time.csv', names = ['time'])\n",
        "y_7_3_t = pd.read_csv('https://raw.githubusercontent.com/sushanthreddyC/Terrain-Identification-Using-Time-Series-Data/main/TrainingData/subject_007_03__y_time.csv', names = ['time'])\n",
        "y_7_4_t = pd.read_csv('https://raw.githubusercontent.com/sushanthreddyC/Terrain-Identification-Using-Time-Series-Data/main/TrainingData/subject_007_04__y_time.csv', names = ['time'])\n",
        "\n",
        "y_8_1_t = pd.read_csv('https://raw.githubusercontent.com/sushanthreddyC/Terrain-Identification-Using-Time-Series-Data/main/TrainingData/subject_008_01__y_time.csv', names = ['time'])"
      ]
    },
    {
      "cell_type": "markdown",
      "metadata": {
        "id": "7IaW6BxN91r-"
      },
      "source": [
        "#Utils Functions"
      ]
    },
    {
      "cell_type": "code",
      "execution_count": null,
      "metadata": {
        "execution": {
          "iopub.execute_input": "2023-04-19T21:09:35.448218Z",
          "iopub.status.busy": "2023-04-19T21:09:35.447627Z",
          "iopub.status.idle": "2023-04-19T21:09:35.454203Z",
          "shell.execute_reply": "2023-04-19T21:09:35.452873Z",
          "shell.execute_reply.started": "2023-04-19T21:09:35.448175Z"
        },
        "id": "7zDynrfIBBpX",
        "trusted": true
      },
      "outputs": [],
      "source": [
        "sampling_size=20"
      ]
    },
    {
      "cell_type": "code",
      "execution_count": null,
      "metadata": {
        "execution": {
          "iopub.execute_input": "2023-04-19T21:09:36.006246Z",
          "iopub.status.busy": "2023-04-19T21:09:36.005426Z",
          "iopub.status.idle": "2023-04-19T21:09:36.014871Z",
          "shell.execute_reply": "2023-04-19T21:09:36.013876Z",
          "shell.execute_reply.started": "2023-04-19T21:09:36.006205Z"
        },
        "id": "1qyeiLdN947b",
        "trusted": true
      },
      "outputs": [],
      "source": [
        "def sampling(x, y, sampling_size):\n",
        "  sample_x=[]\n",
        "  sample_y=[]\n",
        "  rem = sample_x.shape[0]%sampling_size\n",
        "  if(rem):\n",
        "    x = pd.concat([x, x[-(sampling_size-rem):]])\n",
        "    y = pd.concat([y, y[-(sampling_size-rem):]])\n",
        "  for i in range(0, len(df_x)-sampling_size+1, sampling_size):\n",
        "    sample_x.append([x.values[i:i+sampling_size]])\n",
        "    sample_y.append([y.values[i:i+sampling_size]])\n",
        "  sample_x=np.array(sample_x).reshape(-1,sampling_size,6)\n",
        "  sample_y=np.array(sample_y).reshape(-1,sampling_size,4)\n",
        "  return sample_x, sample_y"
      ]
    },
    {
      "cell_type": "code",
      "execution_count": null,
      "metadata": {
        "execution": {
          "iopub.execute_input": "2023-04-19T21:09:36.511351Z",
          "iopub.status.busy": "2023-04-19T21:09:36.510785Z",
          "iopub.status.idle": "2023-04-19T21:09:36.519075Z",
          "shell.execute_reply": "2023-04-19T21:09:36.517607Z",
          "shell.execute_reply.started": "2023-04-19T21:09:36.511294Z"
        },
        "id": "2U7JGfVq95u9",
        "trusted": true
      },
      "outputs": [],
      "source": [
        "def flatten_pred(y_pred):\n",
        "  y_hat=[]\n",
        "  for i in y_pred:\n",
        "    for j in i:\n",
        "      y_hat.append(np.argmax(j))\n",
        "  \n",
        "  return y_hat"
      ]
    },
    {
      "cell_type": "code",
      "execution_count": null,
      "metadata": {
        "execution": {
          "iopub.execute_input": "2023-04-19T21:09:36.963031Z",
          "iopub.status.busy": "2023-04-19T21:09:36.962565Z",
          "iopub.status.idle": "2023-04-19T21:09:36.971623Z",
          "shell.execute_reply": "2023-04-19T21:09:36.970300Z",
          "shell.execute_reply.started": "2023-04-19T21:09:36.962994Z"
        },
        "id": "Qbx0Hslx-m6Z",
        "trusted": true
      },
      "outputs": [],
      "source": [
        "def get_f1(y_true, y_pred): #taken from old keras source code\n",
        "    true_positives = K.sum(K.round(K.clip(y_true * y_pred, 0, 1)))\n",
        "    possible_positives = K.sum(K.round(K.clip(y_true, 0, 1)))\n",
        "    predicted_positives = K.sum(K.round(K.clip(y_pred, 0, 1)))\n",
        "    precision = true_positives / (predicted_positives + K.epsilon())\n",
        "    recall = true_positives / (possible_positives + K.epsilon())\n",
        "    f1_val = 2*(precision*recall)/(precision+recall+K.epsilon())\n",
        "    return f1_val"
      ]
    },
    {
      "cell_type": "code",
      "execution_count": null,
      "metadata": {
        "execution": {
          "iopub.execute_input": "2023-04-19T21:09:37.825687Z",
          "iopub.status.busy": "2023-04-19T21:09:37.825269Z",
          "iopub.status.idle": "2023-04-19T21:09:37.981386Z",
          "shell.execute_reply": "2023-04-19T21:09:37.980272Z",
          "shell.execute_reply.started": "2023-04-19T21:09:37.825650Z"
        },
        "id": "siKT7TpkCgN0",
        "trusted": true
      },
      "outputs": [],
      "source": [
        "METRICS = [ \n",
        "      keras.metrics.BinaryAccuracy(name='accuracy'),\n",
        "      keras.metrics.Precision(name='precision'),\n",
        "      keras.metrics.Recall(name='recall'),\n",
        "      get_f1\n",
        "      #tf.keras.metrics.F1Score( name='f1_score')\n",
        "]"
      ]
    },
    {
      "cell_type": "code",
      "execution_count": null,
      "metadata": {
        "execution": {
          "iopub.execute_input": "2023-04-19T21:09:38.241175Z",
          "iopub.status.busy": "2023-04-19T21:09:38.240718Z",
          "iopub.status.idle": "2023-04-19T21:09:38.249332Z",
          "shell.execute_reply": "2023-04-19T21:09:38.248229Z",
          "shell.execute_reply.started": "2023-04-19T21:09:38.241134Z"
        },
        "id": "KIatUAfjCnPy",
        "trusted": true
      },
      "outputs": [],
      "source": [
        "def sampling_test(x, sampling_size):\n",
        "  sample_x=[]\n",
        "  rem = x.shape[0]%sampling_size\n",
        "  if(rem):\n",
        "    x = pd.concat([x, x[-(sampling_size-rem):]])\n",
        "  for i in range(0, len(x)-sampling_size+1, sampling_size):\n",
        "    sample_x.append([x.values[i:i+sampling_size]])\n",
        "  sample_x=np.array(sample_x).reshape(-1,sampling_size,6)\n",
        "  return sample_x\n"
      ]
    },
    {
      "cell_type": "markdown",
      "metadata": {
        "id": "G6MS4vHX3NB_"
      },
      "source": [
        "#Data Processing"
      ]
    },
    {
      "cell_type": "code",
      "execution_count": null,
      "metadata": {
        "execution": {
          "iopub.execute_input": "2023-04-19T21:09:39.082373Z",
          "iopub.status.busy": "2023-04-19T21:09:39.081889Z",
          "iopub.status.idle": "2023-04-19T21:09:39.122900Z",
          "shell.execute_reply": "2023-04-19T21:09:39.121394Z",
          "shell.execute_reply.started": "2023-04-19T21:09:39.082330Z"
        },
        "id": "OBfLtnNNXhzV",
        "trusted": true
      },
      "outputs": [],
      "source": [
        "X =   [x_1_1, x_1_2, x_1_3, x_1_4, x_1_5, x_1_6, x_1_7, x_1_8, x_2_1, x_2_2, x_2_3, x_2_4, x_2_5, x_3_1, x_3_2, x_3_3,x_4_1,x_4_2, x_5_1,x_5_2,x_5_3, x_6_1,x_6_2, x_6_3, x_7_1, x_7_2,x_7_3,x_7_4, x_8_1]\n",
        "Y =   [y_1_1, y_1_2, y_1_3, y_1_4, y_1_5, y_1_6, y_1_7, y_1_8, y_2_1, y_2_2, y_2_3, y_2_4, y_2_5, y_3_1, y_3_2, y_3_3,y_4_1,y_4_2, y_5_1,y_5_2,y_5_3, y_6_1,y_6_2, y_6_3, y_7_1, y_7_2,y_7_3,y_7_4, y_8_1 ]\n",
        "X_t = [x_1_1_t, x_1_2_t, x_1_3_t, x_1_4_t, x_1_5_t, x_1_6_t, x_1_7_t, x_1_8_t, x_2_1_t, x_2_2_t, x_2_3_t, x_2_4_t, x_2_5_t, x_3_1_t, x_3_2_t, x_3_3_t,x_4_1_t,x_4_2_t, x_5_1_t,x_5_2_t,x_5_3_t, x_6_1_t,x_6_2_t, x_6_3_t, x_7_1_t, x_7_2_t,x_7_3_t,x_7_4_t, x_8_1_t]\n",
        "Y_t = [y_1_1_t, y_1_2_t, y_1_3_t, y_1_4_t, y_1_5_t, y_1_6_t, y_1_7_t, y_1_8_t, y_2_1_t, y_2_2_t, y_2_3_t, y_2_4_t, y_2_5_t, y_3_1_t, y_3_2_t, y_3_3_t,y_4_1_t,y_4_2_t, y_5_1_t,y_5_2_t,y_5_3_t, y_6_1_t,y_6_2_t, y_6_3_t, y_7_1_t, y_7_2_t,y_7_3_t,y_7_4_t, y_8_1_t ]"
      ]
    },
    {
      "cell_type": "code",
      "execution_count": null,
      "metadata": {
        "id": "Ked8--dvXhzV"
      },
      "outputs": [],
      "source": [
        "for i in range(len(X)):\n",
        "  assert(X[i].shape[0]==X_t[i].shape[0])\n",
        "  assert(Y[i].shape[0]==Y_t[i].shape[0])"
      ]
    },
    {
      "cell_type": "code",
      "execution_count": null,
      "metadata": {
        "id": "EtaH-16YXhzV"
      },
      "outputs": [],
      "source": [
        "X_fin=[]\n",
        "for i in  range(len(X)):\n",
        "  X_fin.append(pd.concat([X[i],X_t[i]],axis=1))"
      ]
    },
    {
      "cell_type": "code",
      "execution_count": null,
      "metadata": {
        "id": "X2hvOIl2XhzV"
      },
      "outputs": [],
      "source": [
        "Y_all=[]\n",
        "for i in range(len(X_fin)):\n",
        "  labels=[]\n",
        "  j,k=0,0\n",
        "  while(j < Y[i].shape[0] and k < X_fin[i].shape[0]):\n",
        "    if( X_fin[i]['time'].iloc[k]<=Y_t[i]['time'].iloc[j] ):\n",
        "      labels.append(Y[i]['target'].iloc[j])\n",
        "      k+=1\n",
        "    else:\n",
        "      j+=1\n",
        "  while(k < X_fin[i].shape[0]):\n",
        "    labels.append(Y[i]['target'].iloc[-1])\n",
        "    k+=1\n",
        "  Y_all.append(pd.DataFrame(labels, columns=['target']))"
      ]
    },
    {
      "cell_type": "code",
      "execution_count": null,
      "metadata": {
        "id": "G9FnQPAAXhzV"
      },
      "outputs": [],
      "source": [
        "x_train = pd.concat([ X_fin[0],X_fin[1],X_fin[2],X_fin[3],X_fin[4],X_fin[5],X_fin[6],X_fin[7],X_fin[8],X_fin[9],X_fin[10],X_fin[11],X_fin[12],X_fin[13],X_fin[14],X_fin[15]],axis=0)\n",
        "y_train = pd.concat([ Y_all[0],Y_all[1],Y_all[2],Y_all[3],Y_all[4],Y_all[5],Y_all[6],Y_all[7],Y_all[8],Y_all[9],Y_all[10],Y_all[11],Y_all[12],Y_all[13],Y_all[14],Y_all[15]],axis=0)"
      ]
    },
    {
      "cell_type": "code",
      "execution_count": null,
      "metadata": {
        "id": "rt2MjXi-XhzW"
      },
      "outputs": [],
      "source": [
        "x_val=pd.concat([X_fin[16],X_fin[17],X_fin[18],X_fin[19],X_fin[20]],axis=0)\n",
        "y_val=pd.concat([Y_all[16],Y_all[17],Y_all[18],Y_all[19],Y_all[20]],axis=0)"
      ]
    },
    {
      "cell_type": "code",
      "execution_count": null,
      "metadata": {
        "id": "L3dzi-dypUyF"
      },
      "outputs": [],
      "source": [
        "X_test=pd.concat([X_fin[21],X_fin[22],X_fin[23],X_fin[24],X_fin[25],X_fin[26],X_fin[27],X_fin[28]],axis=0)\n",
        "Y_test=pd.concat([Y_all[21],Y_all[22],Y_all[23],Y_all[24],Y_all[25],Y_all[26],Y_all[27],Y_all[28]],axis=0)"
      ]
    },
    {
      "cell_type": "code",
      "execution_count": null,
      "metadata": {
        "id": "3Tq6PP_k55Fz"
      },
      "outputs": [],
      "source": [
        "scaler_cat = StandardScaler().fit(x_train)\n",
        "X_train_norm=scaler_cat.transform(x_train)\n",
        "X_val_norm  =scaler_cat.transform(x_val)\n",
        "X_test_norm =scaler_cat.transform(X_test)"
      ]
    },
    {
      "cell_type": "markdown",
      "metadata": {
        "id": "eaaJYk9l7H3R"
      },
      "source": [
        "DATA WITHOUT TIME COLUMN"
      ]
    },
    {
      "cell_type": "code",
      "execution_count": null,
      "metadata": {
        "id": "1BVN0owj7FqX"
      },
      "outputs": [],
      "source": [
        "from sklearn.model_selection import train_test_split\n",
        "X_train_t= x_train.drop(['time'], axis=1)\n",
        "X_val_t= x_val.drop(['time'], axis=1)\n",
        "X_test_t=X_test.drop(['time'], axis=1)"
      ]
    },
    {
      "cell_type": "code",
      "execution_count": null,
      "metadata": {
        "id": "gpBG2JjO7HSy"
      },
      "outputs": [],
      "source": [
        "from sklearn.preprocessing import  StandardScaler\n",
        "scaler_t = StandardScaler().fit(X_train_t)\n",
        "X_train_norm_t=scaler_t.transform(X_train_t)\n",
        "X_val_norm_t  =scaler_t.transform(X_val_t)\n",
        "X_test_norm_t =scaler_t.transform(X_test_t)"
      ]
    },
    {
      "cell_type": "code",
      "execution_count": null,
      "metadata": {
        "id": "XmTLIzwV6wx6"
      },
      "outputs": [],
      "source": [
        "y_train_t_cat=pd.DataFrame(to_categorical(y_train['target'],4).reshape(-1,4), columns = ['l1','l2','l3','l4'])\n",
        "y_val_t_cat=pd.DataFrame(to_categorical(y_val['target'],4).reshape(-1,4), columns = ['l1','l2','l3','l4'])\n",
        "Y_test_cat=pd.DataFrame(to_categorical(Y_test['target'],4).reshape(-1,4), columns = ['l1','l2','l3','l4'])"
      ]
    },
    {
      "cell_type": "code",
      "execution_count": null,
      "metadata": {
        "colab": {
          "base_uri": "https://localhost:8080/"
        },
        "id": "iIq_xUP5JcJL",
        "outputId": "fa7bdd0d-232e-4fcb-cad7-dd26104cb6f8"
      },
      "outputs": [
        {
          "data": {
            "text/plain": [
              "0.0    636202\n",
              "1.0    122932\n",
              "Name: l4, dtype: int64"
            ]
          },
          "execution_count": 47,
          "metadata": {},
          "output_type": "execute_result"
        }
      ],
      "source": [
        "y_train_t_cat.l4.value_counts()"
      ]
    },
    {
      "cell_type": "code",
      "execution_count": null,
      "metadata": {
        "id": "1CX_Hil_9xcf"
      },
      "outputs": [],
      "source": [
        "X_Train,Y_Train=sampling(pd.DataFrame(X_train_norm_t, columns = ['ax','ay','az','gx','gy','gz']), y_train_t_cat,sampling_size )\n",
        "X_val,Y_val=sampling(pd.DataFrame(X_val_norm_t, columns = ['ax','ay','az','gx','gy','gz']), y_val_t_cat,sampling_size )\n",
        "X_Test,Y_Test=sampling(pd.DataFrame(X_test_norm_t, columns = ['ax','ay','az','gx','gy','gz']), Y_test_cat,sampling_size )"
      ]
    },
    {
      "cell_type": "markdown",
      "metadata": {
        "id": "3eVOnzJUrqtt"
      },
      "source": [
        "#CNN model"
      ]
    },
    {
      "cell_type": "code",
      "execution_count": null,
      "metadata": {
        "id": "MXEC-DFIJ78z"
      },
      "outputs": [],
      "source": [
        "\n",
        "def cnn1D_model():\n",
        "  model = Sequential()\n",
        "  model.add(Conv1D(16, kernel_size=4, activation='relu',padding='same',input_shape=(sampling_size,6)))\n",
        "  model.add(AveragePooling1D(2))\n",
        "  model.add(Dropout(0.2))\n",
        "\n",
        "  model.add(Conv1D(32, kernel_size=4, activation= 'relu', padding='same'))\n",
        "  model.add(AveragePooling1D(2))\n",
        "  model.add(Dropout(0.2))\n",
        "\n",
        "  model.add(Conv1D(32, kernel_size=4, activation='relu', padding='same'))\n",
        "  model.add(UpSampling1D(size=2))\n",
        "  model.add(Dropout(0.2))\n",
        "\n",
        "  model.add(Conv1D(16, kernel_size=4, activation='relu', padding='same'))\n",
        "  model.add(UpSampling1D(size=2))\n",
        "  model.add(Dropout(0.2))\n",
        "\n",
        "  model.add(Conv1D(4, kernel_size=4, activation='softmax', padding='same'))\n",
        "  model.compile(optimizer=Adagrad(learning_rate=0.01) , loss='categorical_crossentropy', metrics=['accuracy'])\n",
        "  return model\n"
      ]
    },
    {
      "cell_type": "code",
      "execution_count": null,
      "metadata": {
        "id": "g2sbjuTRRX24"
      },
      "outputs": [],
      "source": [
        "cnn_model=cnn1D_model()\n",
        "print(cnn_model.summary())"
      ]
    },
    {
      "cell_type": "code",
      "execution_count": null,
      "metadata": {
        "id": "rw2Y7ZQmRcW2"
      },
      "outputs": [],
      "source": [
        "cnn_history= cnn_model.fit(X_Train,Y_Train, epochs=25, verbose=1, validation_data=(X_val,Y_val))"
      ]
    },
    {
      "cell_type": "code",
      "execution_count": null,
      "metadata": {
        "colab": {
          "base_uri": "https://localhost:8080/"
        },
        "id": "yrHdwukyWmWJ",
        "outputId": "2c07764d-3269-4d16-a970-87d09cb26f6e"
      },
      "outputs": [
        {
          "name": "stdout",
          "output_type": "stream",
          "text": [
            "289/289 [==============================] - 2s 6ms/step\n"
          ]
        }
      ],
      "source": [
        "y_test_preds=cnn_model.predict(X_Test)"
      ]
    },
    {
      "cell_type": "code",
      "execution_count": null,
      "metadata": {
        "colab": {
          "base_uri": "https://localhost:8080/"
        },
        "id": "0jrTI8THu99q",
        "outputId": "a73a0d73-5807-48dd-93b3-c234eea6f162"
      },
      "outputs": [
        {
          "name": "stdout",
          "output_type": "stream",
          "text": [
            "              precision    recall  f1-score   support\n",
            "\n",
            "\n",
            "\n",
            "           0       0.84      0.94      0.89    278159\n",
            "\n",
            "           1       0.66      0.77      0.71     10572\n",
            "\n",
            "           2       0.74      0.82      0.78     16774\n",
            "\n",
            "           3       0.61      0.24      0.35     63455\n",
            "\n",
            "\n",
            "\n",
            "    accuracy                           0.81    368960\n",
            "\n",
            "   macro avg       0.71      0.69      0.68    368960\n",
            "\n",
            "weighted avg       0.79      0.81      0.79    368960\n",
            "\n",
            "\n"
          ]
        }
      ],
      "source": [
        "from sklearn.metrics import classification_report\n",
        "print(classification_report(flatten_pred(Y_Test), flatten_pred(y_test_preds)))"
      ]
    },
    {
      "cell_type": "markdown",
      "metadata": {
        "id": "LOTSfZBtUqTu"
      },
      "source": [
        "#LSTM model"
      ]
    },
    {
      "cell_type": "code",
      "execution_count": null,
      "metadata": {
        "id": "zGU9N8FwbUop"
      },
      "outputs": [],
      "source": [
        "\n",
        "def lstm_model():\n",
        "  model = Sequential()\n",
        "  model.add(LSTM(128, activation='relu', return_sequences=True, input_shape=(40,6)))\n",
        "  model.add(Dropout(0.2))\n",
        "\n",
        "  model.add(LSTM(64, activation='relu', return_sequences=True))\n",
        "  model.add(Dropout(0.2))\n",
        "\n",
        "  model.add(Dense(4, activation='softmax'))\n",
        "  model.compile(optimizer=Adagrad(learning_rate=0.01) , loss='categorical_crossentropy', metrics=['accuracy'],)\n",
        "  return model \n"
      ]
    },
    {
      "cell_type": "code",
      "execution_count": null,
      "metadata": {
        "colab": {
          "base_uri": "https://localhost:8080/"
        },
        "id": "mxra2cmcXRe3",
        "outputId": "af82910f-eaed-49cb-ee72-4a8f21fe6a45"
      },
      "outputs": [
        {
          "name": "stderr",
          "output_type": "stream",
          "text": [
            "WARNING:tensorflow:Layer lstm_1 will not use cuDNN kernels since it doesn't meet the criteria. It will use a generic GPU kernel as fallback when running on GPU.\n",
            "\n",
            "WARNING:tensorflow:Layer lstm_2 will not use cuDNN kernels since it doesn't meet the criteria. It will use a generic GPU kernel as fallback when running on GPU.\n"
          ]
        },
        {
          "name": "stdout",
          "output_type": "stream",
          "text": [
            "Model: \"sequential_1\"\n",
            "\n",
            "_________________________________________________________________\n",
            "\n",
            " Layer (type)                Output Shape              Param #   \n",
            "\n",
            "=================================================================\n",
            "\n",
            " lstm_1 (LSTM)               (None, 40, 128)           69120     \n",
            "\n",
            "                                                                 \n",
            "\n",
            " dropout_4 (Dropout)         (None, 40, 128)           0         \n",
            "\n",
            "                                                                 \n",
            "\n",
            " lstm_2 (LSTM)               (None, 40, 64)            49408     \n",
            "\n",
            "                                                                 \n",
            "\n",
            " dropout_5 (Dropout)         (None, 40, 64)            0         \n",
            "\n",
            "                                                                 \n",
            "\n",
            " dense_1 (Dense)             (None, 40, 4)             260       \n",
            "\n",
            "                                                                 \n",
            "\n",
            "=================================================================\n",
            "\n",
            "Total params: 118,788\n",
            "\n",
            "Trainable params: 118,788\n",
            "\n",
            "Non-trainable params: 0\n",
            "\n",
            "_________________________________________________________________\n"
          ]
        }
      ],
      "source": [
        "lstm_clf = lstm_model()\n",
        "lstm_clf.summary()"
      ]
    },
    {
      "cell_type": "code",
      "execution_count": null,
      "metadata": {
        "id": "xRI0zDW8YNOc"
      },
      "outputs": [],
      "source": [
        "lstm_history = lstm_clf.fit(X_Train,Y_Train, epochs=25, verbose=1, validation_data=(X_val,Y_val))"
      ]
    },
    {
      "cell_type": "code",
      "execution_count": null,
      "metadata": {
        "colab": {
          "base_uri": "https://localhost:8080/"
        },
        "id": "TA2NXpd7yMjg",
        "outputId": "b0a61097-5c1f-4ddf-b772-06fd709a670a"
      },
      "outputs": [
        {
          "name": "stdout",
          "output_type": "stream",
          "text": [
            "289/289 [==============================] - 5s 15ms/step\n"
          ]
        }
      ],
      "source": [
        "lstm_test_preds=lstm_clf.predict(X_Test)"
      ]
    },
    {
      "cell_type": "code",
      "execution_count": null,
      "metadata": {
        "colab": {
          "base_uri": "https://localhost:8080/"
        },
        "id": "_FK2OLyntEhu",
        "outputId": "87892086-293e-4400-cca6-06825449d031"
      },
      "outputs": [
        {
          "name": "stdout",
          "output_type": "stream",
          "text": [
            "              precision    recall  f1-score   support\n",
            "\n",
            "\n",
            "\n",
            "           0       0.85      0.89      0.87    278159\n",
            "\n",
            "           1       0.71      0.52      0.60     10572\n",
            "\n",
            "           2       0.84      0.57      0.68     16774\n",
            "\n",
            "           3       0.52      0.46      0.49     63455\n",
            "\n",
            "\n",
            "\n",
            "    accuracy                           0.79    368960\n",
            "\n",
            "   macro avg       0.73      0.61      0.66    368960\n",
            "\n",
            "weighted avg       0.79      0.79      0.79    368960\n",
            "\n",
            "\n"
          ]
        }
      ],
      "source": [
        "from sklearn.metrics import classification_report\n",
        "print(classification_report(flatten_pred(Y_Test), flatten_pred(lstm_test_preds)))"
      ]
    },
    {
      "cell_type": "markdown",
      "metadata": {
        "id": "VFeZLeQfzvqr"
      },
      "source": [
        "#CNN+Bidirectional-LSTM model"
      ]
    },
    {
      "cell_type": "code",
      "execution_count": null,
      "metadata": {
        "id": "wrcwvXQmyJ3q"
      },
      "outputs": [],
      "source": [
        "def create_cnn_lstm():\n",
        "  model = Sequential()\n",
        "  model.add(Conv1D(128,4, padding='same', activation='relu', input_shape=(sampling_size,6)))\n",
        "  model.add(BatchNormalization())\n",
        "  model.add(AveragePooling1D(2))\n",
        "  model.add(Dropout(0.2))\n",
        "\n",
        "  model.add(Conv1D(128,4, padding='same', activation='relu'))\n",
        "  model.add(BatchNormalization())\n",
        "  model.add(Dropout(0.2))\n",
        "  model.add(UpSampling1D(size=2))\n",
        "  \n",
        "\n",
        "\n",
        "\n",
        "  model.add(Bidirectional( LSTM(128, activation='relu',return_sequences=True)))\n",
        "  model.add(Dropout(0.2))\n",
        "  \n",
        "  model.add(Dense(4, activation='softmax'))\n",
        "  \n",
        "  model.compile(optimizer=Adam(), loss='categorical_crossentropy', metrics=METRICS)\n",
        "  return model \n"
      ]
    },
    {
      "cell_type": "code",
      "execution_count": null,
      "metadata": {
        "colab": {
          "base_uri": "https://localhost:8080/"
        },
        "id": "9do2iZHU2CMx",
        "outputId": "27081d1e-107e-44c6-a1d7-c834a122ce37"
      },
      "outputs": [
        {
          "name": "stdout",
          "output_type": "stream",
          "text": [
            "Model: \"sequential\"\n",
            "_________________________________________________________________\n",
            " Layer (type)                Output Shape              Param #   \n",
            "=================================================================\n",
            " conv1d (Conv1D)             (None, 40, 128)           3200      \n",
            "                                                                 \n",
            " batch_normalization (BatchN  (None, 40, 128)          512       \n",
            " ormalization)                                                   \n",
            "                                                                 \n",
            " average_pooling1d (AverageP  (None, 20, 128)          0         \n",
            " ooling1D)                                                       \n",
            "                                                                 \n",
            " dropout (Dropout)           (None, 20, 128)           0         \n",
            "                                                                 \n",
            " conv1d_1 (Conv1D)           (None, 20, 128)           65664     \n",
            "                                                                 \n",
            " batch_normalization_1 (Batc  (None, 20, 128)          512       \n",
            " hNormalization)                                                 \n",
            "                                                                 \n",
            " dropout_1 (Dropout)         (None, 20, 128)           0         \n",
            "                                                                 \n",
            " up_sampling1d (UpSampling1D  (None, 40, 128)          0         \n",
            " )                                                               \n",
            "                                                                 \n",
            " bidirectional (Bidirectiona  (None, 40, 256)          263168    \n",
            " l)                                                              \n",
            "                                                                 \n",
            " dropout_2 (Dropout)         (None, 40, 256)           0         \n",
            "                                                                 \n",
            " dense (Dense)               (None, 40, 4)             1028      \n",
            "                                                                 \n",
            "=================================================================\n",
            "Total params: 334,084\n",
            "Trainable params: 333,572\n",
            "Non-trainable params: 512\n",
            "_________________________________________________________________\n"
          ]
        }
      ],
      "source": [
        "CNN_lstm = create_cnn_lstm()\n",
        "CNN_lstm.summary()"
      ]
    },
    {
      "cell_type": "code",
      "execution_count": null,
      "metadata": {
        "id": "6VkTc6bVbAIl"
      },
      "outputs": [],
      "source": [
        "learning_rate_reduction = ReduceLROnPlateau(monitor='f1_m',  patience = 2,verbose=1,factor=0.5,min_lr=0.000001)"
      ]
    },
    {
      "cell_type": "code",
      "execution_count": null,
      "metadata": {
        "colab": {
          "base_uri": "https://localhost:8080/"
        },
        "id": "1eRLVB-V5C0F",
        "outputId": "d3c826d1-5c05-4da5-d325-b980631cf358"
      },
      "outputs": [
        {
          "name": "stdout",
          "output_type": "stream",
          "text": [
            "Epoch 1/15\n",
            "1049/1049 [==============================] - 193s 180ms/step - loss: 0.3524 - accuracy: 0.9369 - precision: 0.8809 - recall: 0.8644 - f1_m: 0.8719 - lr: 0.0010\n",
            "Epoch 2/15\n",
            "1049/1049 [==============================] - 181s 173ms/step - loss: 0.2324 - accuracy: 0.9595 - precision: 0.9213 - recall: 0.9163 - f1_m: 0.9188 - lr: 0.0010\n",
            "Epoch 3/15\n",
            "1049/1049 [==============================] - ETA: 0s - loss: 0.2012 - accuracy: 0.9648 - precision: 0.9312 - recall: 0.9275 - f1_m: 0.9294\n",
            "Epoch 3: ReduceLROnPlateau reducing learning rate to 0.0005000000237487257.\n",
            "1049/1049 [==============================] - 184s 175ms/step - loss: 0.2012 - accuracy: 0.9648 - precision: 0.9312 - recall: 0.9275 - f1_m: 0.9294 - lr: 0.0010\n",
            "Epoch 4/15\n",
            "1049/1049 [==============================] - 182s 173ms/step - loss: 0.1669 - accuracy: 0.9714 - precision: 0.9440 - recall: 0.9415 - f1_m: 0.9428 - lr: 5.0000e-04\n",
            "Epoch 5/15\n",
            "1049/1049 [==============================] - ETA: 0s - loss: 0.1543 - accuracy: 0.9731 - precision: 0.9472 - recall: 0.9450 - f1_m: 0.9459\n",
            "Epoch 5: ReduceLROnPlateau reducing learning rate to 0.0002500000118743628.\n",
            "1049/1049 [==============================] - 181s 172ms/step - loss: 0.1543 - accuracy: 0.9731 - precision: 0.9472 - recall: 0.9450 - f1_m: 0.9459 - lr: 5.0000e-04\n",
            "Epoch 6/15\n",
            "1049/1049 [==============================] - 182s 173ms/step - loss: 0.1328 - accuracy: 0.9774 - precision: 0.9555 - recall: 0.9538 - f1_m: 0.9545 - lr: 2.5000e-04\n",
            "Epoch 7/15\n",
            "1049/1049 [==============================] - ETA: 0s - loss: 0.1254 - accuracy: 0.9787 - precision: 0.9581 - recall: 0.9566 - f1_m: 0.9573\n",
            "Epoch 7: ReduceLROnPlateau reducing learning rate to 0.0001250000059371814.\n",
            "1049/1049 [==============================] - 180s 171ms/step - loss: 0.1254 - accuracy: 0.9787 - precision: 0.9581 - recall: 0.9566 - f1_m: 0.9573 - lr: 2.5000e-04\n",
            "Epoch 8/15\n",
            "1049/1049 [==============================] - 180s 171ms/step - loss: 0.1137 - accuracy: 0.9805 - precision: 0.9616 - recall: 0.9603 - f1_m: 0.9609 - lr: 1.2500e-04\n",
            "Epoch 9/15\n",
            "1049/1049 [==============================] - ETA: 0s - loss: 0.1087 - accuracy: 0.9812 - precision: 0.9631 - recall: 0.9619 - f1_m: 0.9625\n",
            "Epoch 9: ReduceLROnPlateau reducing learning rate to 6.25000029685907e-05.\n",
            "1049/1049 [==============================] - 181s 172ms/step - loss: 0.1087 - accuracy: 0.9812 - precision: 0.9631 - recall: 0.9619 - f1_m: 0.9625 - lr: 1.2500e-04\n",
            "Epoch 10/15\n",
            "1049/1049 [==============================] - 177s 169ms/step - loss: 0.1016 - accuracy: 0.9824 - precision: 0.9652 - recall: 0.9642 - f1_m: 0.9647 - lr: 6.2500e-05\n",
            "Epoch 11/15\n",
            "1049/1049 [==============================] - ETA: 0s - loss: 0.0989 - accuracy: 0.9828 - precision: 0.9661 - recall: 0.9650 - f1_m: 0.9655\n",
            "Epoch 11: ReduceLROnPlateau reducing learning rate to 3.125000148429535e-05.\n",
            "1049/1049 [==============================] - 182s 173ms/step - loss: 0.0989 - accuracy: 0.9828 - precision: 0.9661 - recall: 0.9650 - f1_m: 0.9655 - lr: 6.2500e-05\n",
            "Epoch 12/15\n",
            "1049/1049 [==============================] - 179s 170ms/step - loss: 0.0961 - accuracy: 0.9835 - precision: 0.9675 - recall: 0.9665 - f1_m: 0.9670 - lr: 3.1250e-05\n",
            "Epoch 13/15\n",
            "1049/1049 [==============================] - ETA: 0s - loss: 0.0944 - accuracy: 0.9837 - precision: 0.9678 - recall: 0.9670 - f1_m: 0.9674\n",
            "Epoch 13: ReduceLROnPlateau reducing learning rate to 1.5625000742147677e-05.\n",
            "1049/1049 [==============================] - 212s 202ms/step - loss: 0.0944 - accuracy: 0.9837 - precision: 0.9678 - recall: 0.9670 - f1_m: 0.9674 - lr: 3.1250e-05\n",
            "Epoch 14/15\n",
            "1049/1049 [==============================] - 182s 174ms/step - loss: 0.0920 - accuracy: 0.9841 - precision: 0.9687 - recall: 0.9678 - f1_m: 0.9683 - lr: 1.5625e-05\n",
            "Epoch 15/15\n",
            "1049/1049 [==============================] - ETA: 0s - loss: 0.0932 - accuracy: 0.9839 - precision: 0.9681 - recall: 0.9673 - f1_m: 0.9677\n",
            "Epoch 15: ReduceLROnPlateau reducing learning rate to 7.812500371073838e-06.\n",
            "1049/1049 [==============================] - 181s 172ms/step - loss: 0.0932 - accuracy: 0.9839 - precision: 0.9681 - recall: 0.9673 - f1_m: 0.9677 - lr: 1.5625e-05\n"
          ]
        },
        {
          "data": {
            "text/plain": [
              "<keras.callbacks.History at 0x7f0a55eb06d0>"
            ]
          },
          "execution_count": 46,
          "metadata": {},
          "output_type": "execute_result"
        }
      ],
      "source": [
        "CNN_lstm.fit(X_Train,Y_Train, epochs=15, verbose=1, callbacks=learning_rate_reduction)"
      ]
    },
    {
      "cell_type": "code",
      "execution_count": null,
      "metadata": {
        "colab": {
          "base_uri": "https://localhost:8080/"
        },
        "id": "Vztu6RlpVC-D",
        "outputId": "86393596-a996-4c00-c2ae-cc208cb7aeba"
      },
      "outputs": [
        {
          "data": {
            "text/plain": [
              "(378224, 1)"
            ]
          },
          "execution_count": 44,
          "metadata": {},
          "output_type": "execute_result"
        }
      ],
      "source": [
        "Y_test.shape"
      ]
    },
    {
      "cell_type": "code",
      "execution_count": null,
      "metadata": {
        "colab": {
          "base_uri": "https://localhost:8080/"
        },
        "id": "piiG9rnqVM2c",
        "outputId": "c5e5c306-2e59-424e-83dc-15d7ff89e54e"
      },
      "outputs": [
        {
          "name": "stdout",
          "output_type": "stream",
          "text": [
            "296/296 [==============================] - 5s 16ms/step\n"
          ]
        },
        {
          "data": {
            "text/plain": [
              "378240"
            ]
          },
          "execution_count": 45,
          "metadata": {},
          "output_type": "execute_result"
        }
      ],
      "source": [
        "cnn_lstm_test_preds1=CNN_lstm.predict(X_Test)\n",
        "y_pred_flat = flatten_pred(cnn_lstm_test_preds1)\n",
        "len(y_pred_flat)"
      ]
    },
    {
      "cell_type": "code",
      "execution_count": null,
      "metadata": {
        "id": "Q5dJox1NZ88J"
      },
      "outputs": [],
      "source": [
        "y_pred_flat_reshape=y_pred_flat[:Y_test.shape[0]]"
      ]
    },
    {
      "cell_type": "code",
      "execution_count": null,
      "metadata": {
        "colab": {
          "base_uri": "https://localhost:8080/"
        },
        "id": "r_w-IZNX5nIC",
        "outputId": "3fce2dc6-9005-44de-a37b-36d96bf978d8"
      },
      "outputs": [
        {
          "name": "stdout",
          "output_type": "stream",
          "text": [
            "              precision    recall  f1-score   support\n",
            "\n",
            "           0       0.88      0.96      0.92    285148\n",
            "           1       0.84      0.83      0.84     10840\n",
            "           2       0.94      0.82      0.88     17196\n",
            "           3       0.78      0.47      0.59     65040\n",
            "\n",
            "    accuracy                           0.87    378224\n",
            "   macro avg       0.86      0.77      0.80    378224\n",
            "weighted avg       0.86      0.87      0.86    378224\n",
            "\n"
          ]
        }
      ],
      "source": [
        "print(classification_report(Y_test,y_pred_flat_reshape ))"
      ]
    },
    {
      "cell_type": "markdown",
      "metadata": {
        "id": "PPCcoKUp46C5"
      },
      "source": [
        "#Parameter Tuning"
      ]
    },
    {
      "cell_type": "markdown",
      "metadata": {
        "id": "NgDO5UFdp12N"
      },
      "source": []
    },
    {
      "cell_type": "code",
      "execution_count": null,
      "metadata": {
        "id": "w_Ph6vg8CnIj"
      },
      "outputs": [],
      "source": [
        "layer1_units=1\n",
        "drop_out_layer1=2\n",
        "layer_2_units=3\n",
        "drop_out_layer_2=4\n",
        "layer_3_units=5\n",
        "dropout_layer3=6\n",
        "layer_4_units=7\n",
        "dropout_layer4=8\n",
        "learning_rate_=9\n",
        "optimizer=10"
      ]
    },
    {
      "cell_type": "markdown",
      "metadata": {
        "id": "7M5KGSUrp4V2"
      },
      "source": [
        "#CNN"
      ]
    },
    {
      "cell_type": "code",
      "execution_count": null,
      "metadata": {
        "id": "zDr1XhFAfsHC"
      },
      "outputs": [],
      "source": [
        "\n",
        "def cnn1D_model(args):\n",
        "  model = Sequential()\n",
        "  model.add(Conv1D(args[layer1_units], kernel_size=4, activation='relu',padding='same',input_shape=(sampling_size,6)))\n",
        "  model.add(AveragePooling1D(2))\n",
        "\n",
        "  model.add(Dropout(args[drop_out_layer1]))\n",
        "\n",
        "  model.add(Conv1D(args[layer_2_units], kernel_size=4, activation= 'relu', padding='same'))\n",
        "  model.add(AveragePooling1D(2))\n",
        "  model.add(Dropout(args[drop_out_layer_2]))\n",
        "\n",
        "  model.add(Conv1D(args[layer_3_units], kernel_size=4, activation='relu', padding='same'))\n",
        "  model.add(UpSampling1D(size=2))\n",
        "  model.add(Dropout(args[dropout_layer3]))\n",
        "\n",
        "  model.add(Conv1D(args[layer_4_units], kernel_size=4, activation='relu', padding='same'))\n",
        "  model.add(UpSampling1D(size=2))\n",
        "  model.add(Dropout(args[dropout_layer4]))\n",
        "\n",
        "  model.add(Conv1D(4, kernel_size=4, activation='softmax', padding='same'))\n",
        "  model.compile(optimizer=Adam(learning_rate=args[learning_rate_]) , loss='categorical_crossentropy', metrics=METRICS)\n",
        "  return model\n"
      ]
    },
    {
      "cell_type": "code",
      "execution_count": null,
      "metadata": {
        "id": "Bqt5qagTEHB2"
      },
      "outputs": [],
      "source": [
        "class LSTMHyperModel(kt.HyperModel):\n",
        "  def build(self, hp):\n",
        "    args = {}\n",
        "    args[layer1_units] = hp.Int(\"base lstm units\", min_value=64, max_value=128, step=32)\n",
        "    args[layer_2_units] = hp.Int(\"second lstm layer units\", min_value=64, max_value=128, step=32)\n",
        "    args[layer_3_units] = hp.Int(\"third lstm units\",  min_value=64, max_value=128, step=32)\n",
        "    args[layer_4_units] = hp.Int(\"fourth lstm layer units\",  min_value=64, max_value=128, step=32)\n",
        "   \n",
        "    args[drop_out_layer1] = hp.Float(\"dropout1\", min_value=.1, max_value=.2, step=.1)\n",
        "    args[drop_out_layer_2] = hp.Float(\"dropout2\", min_value=.1, max_value=.3, step=.1)\n",
        "    args[dropout_layer3] = hp.Float(\"dropout3\", min_value=.1, max_value=.3, step=.1)\n",
        "    args[dropout_layer4] = hp.Float(\"dropout4\", min_value=.1, max_value=.3, step=.1)\n",
        "\n",
        "    #args[optimizer] = hp.Choice(\"optimizer\", ['adam', 'adagrad', 'rmsprop'])\n",
        "    args[learning_rate_] = hp.Choice(\"learning_rate\", [.001, .01, .005])\n",
        "\n",
        "    model = cnn1D_model(args)\n",
        "    return model"
      ]
    },
    {
      "cell_type": "code",
      "execution_count": null,
      "metadata": {
        "id": "Xv6EN5VSFQ4s"
      },
      "outputs": [],
      "source": [
        "tuner = kt.BayesianOptimization(\n",
        "    hypermodel=LSTMHyperModel(),\n",
        "    objective=kt.Objective(\"f1_m\", direction=\"max\"),\n",
        "    directory='keras_tuner_outputs',\n",
        "    project_name='models',\n",
        "    overwrite=True,\n",
        "    max_trials=5\n",
        ")"
      ]
    },
    {
      "cell_type": "code",
      "execution_count": null,
      "metadata": {
        "id": "vM3xfwfMG1Po"
      },
      "outputs": [],
      "source": [
        "tuner.search_space_summary()"
      ]
    },
    {
      "cell_type": "code",
      "execution_count": null,
      "metadata": {
        "id": "JO2BITRpHD0h"
      },
      "outputs": [],
      "source": [
        "tuner.search(X_Train,Y_Train ,epochs=15, validation_data=(X_val,Y_val), )"
      ]
    },
    {
      "cell_type": "code",
      "execution_count": null,
      "metadata": {
        "id": "w-VufL7sLfvi"
      },
      "outputs": [],
      "source": [
        "tuner.results_summary()"
      ]
    },
    {
      "cell_type": "code",
      "execution_count": null,
      "metadata": {
        "colab": {
          "base_uri": "https://localhost:8080/"
        },
        "id": "FscrKm6DH3mL",
        "outputId": "8bab07cc-6fc5-47f1-b01a-934722e4c0da"
      },
      "outputs": [
        {
          "name": "stdout",
          "output_type": "stream",
          "text": [
            "296/296 [==============================] - 1s 3ms/step\n"
          ]
        }
      ],
      "source": [
        "best_preds= tuner.get_best_models()[0].predict(X_Test)"
      ]
    },
    {
      "cell_type": "code",
      "execution_count": null,
      "metadata": {
        "id": "5Zvi8RHGMmF_"
      },
      "outputs": [],
      "source": [
        "preds_flat=flatten_pred(best_preds)"
      ]
    },
    {
      "cell_type": "code",
      "execution_count": null,
      "metadata": {
        "colab": {
          "base_uri": "https://localhost:8080/"
        },
        "id": "YvmYjBVu_UGo",
        "outputId": "78090dc7-f3e9-49d0-dfb2-519cb3bddb8a"
      },
      "outputs": [
        {
          "data": {
            "text/plain": [
              "378224"
            ]
          },
          "execution_count": 109,
          "metadata": {},
          "output_type": "execute_result"
        }
      ],
      "source": [
        "reshape_preds = preds_flat[:Y_test.shape[0]]\n",
        "len(reshape_preds)"
      ]
    },
    {
      "cell_type": "code",
      "execution_count": null,
      "metadata": {
        "colab": {
          "base_uri": "https://localhost:8080/"
        },
        "id": "5ZwsOqrsL7cM",
        "outputId": "520ee537-d1e1-429d-e04c-2c083c48f8ce"
      },
      "outputs": [
        {
          "name": "stdout",
          "output_type": "stream",
          "text": [
            "              precision    recall  f1-score   support\n",
            "\n",
            "\n",
            "\n",
            "           0       0.88      0.91      0.90    285148\n",
            "\n",
            "           1       0.66      0.81      0.73     10840\n",
            "\n",
            "           2       0.95      0.77      0.85     17196\n",
            "\n",
            "           3       0.61      0.51      0.56     65040\n",
            "\n",
            "\n",
            "\n",
            "    accuracy                           0.84    378224\n",
            "\n",
            "   macro avg       0.78      0.75      0.76    378224\n",
            "\n",
            "weighted avg       0.83      0.84      0.83    378224\n",
            "\n",
            "\n"
          ]
        }
      ],
      "source": [
        "from sklearn.metrics import classification_report\n",
        "print(classification_report(Y_test['target'], reshape_preds))"
      ]
    },
    {
      "cell_type": "markdown",
      "metadata": {
        "id": "dBfIwdftqBX9"
      },
      "source": [
        "#CNN+LSTM"
      ]
    },
    {
      "cell_type": "code",
      "execution_count": null,
      "metadata": {
        "id": "Ddjjuv9JMWwg"
      },
      "outputs": [],
      "source": [
        "def create_cnn_lstm(args):\n",
        "  model = Sequential()\n",
        "  model.add(Conv1D(args[layer1_units], kernel_size=4, activation='relu',padding='same',input_shape=(sampling_size,6)))\n",
        "  model.add(AveragePooling1D(2))\n",
        "  model.add(Dropout(args[drop_out_layer1]))\n",
        "\n",
        "  model.add(Conv1D(args[layer_2_units], kernel_size=4, activation= 'relu', padding='same'))\n",
        "  model.add(AveragePooling1D(2))\n",
        "  model.add(Dropout(args[drop_out_layer_2]))\n",
        "\n",
        "  model.add(Conv1D(args[layer_3_units], kernel_size=4, activation='relu', padding='same'))\n",
        "  model.add(UpSampling1D(size=2))\n",
        "  model.add(Dropout(args[dropout_layer3]))\n",
        "\n",
        "\n",
        "\n",
        "  model.add(Bidirectional( LSTM(128, activation='relu',return_sequences=True)))\n",
        "  model.add(UpSampling1D(size=2))\n",
        "  \n",
        "  \n",
        "  model.add(Dense(4, activation='softmax'))\n",
        "  \n",
        "  model.compile(optimizer=args[optimizer], loss='categorical_crossentropy', metrics=METRICS)\n",
        "  return model \n"
      ]
    },
    {
      "cell_type": "code",
      "execution_count": null,
      "metadata": {
        "id": "6kuZ_1VPWsfN"
      },
      "outputs": [],
      "source": [
        "class CNN_LSTMHyperModel(kt.HyperModel):\n",
        "  def build(self, hp):\n",
        "    args = {}\n",
        "    args[layer1_units]  = hp.Choice(\"conv layer 1\", [128, 256,512])\n",
        "    args[layer_2_units] = hp.Choice(\"conv layer 2\", [128, 256,512])\n",
        "    args[layer_3_units] = hp.Choice(\"conv layer 3\", [128, 256,512])\n",
        "    args[layer_4_units] = hp.Choice(\"Bi dir LSTM layer \", [128, 256,512])\n",
        "   \n",
        "    args[drop_out_layer1] = hp.Choice(\"drop_out_layer1 \", [.1, .2, .5])\n",
        "    args[drop_out_layer_2]= hp.Choice(\"drop_out_layer2 \", [.1, .2, .5])\n",
        "    args[dropout_layer3]  = hp.Choice(\"drop_out_layer3 \", [.1, .2, .5])\n",
        "    args[dropout_layer4]  = hp.Choice(\"drop_out_layer4 \", [.1, .2, .5])\n",
        "\n",
        "    args[optimizer] = hp.Choice(\"optimizer\", ['adam', 'adagrad', 'rmsprop'])\n",
        "    #args[learning_rate_] = hp.Choice(\"learning_rate\", [.001, .01, .005])\n",
        "\n",
        "    model = create_cnn_lstm(args)\n",
        "    return model"
      ]
    },
    {
      "cell_type": "code",
      "execution_count": null,
      "metadata": {
        "colab": {
          "base_uri": "https://localhost:8080/"
        },
        "id": "zVHxyKZ0aPbT",
        "outputId": "a7c30508-c9c4-4c06-f79d-ca20c67cf054"
      },
      "outputs": [
        {
          "name": "stderr",
          "output_type": "stream",
          "text": [
            "WARNING:tensorflow:Layer lstm_1 will not use cuDNN kernels since it doesn't meet the criteria. It will use a generic GPU kernel as fallback when running on GPU.\n",
            "WARNING:tensorflow:Layer lstm_1 will not use cuDNN kernels since it doesn't meet the criteria. It will use a generic GPU kernel as fallback when running on GPU.\n",
            "WARNING:tensorflow:Layer lstm_1 will not use cuDNN kernels since it doesn't meet the criteria. It will use a generic GPU kernel as fallback when running on GPU.\n"
          ]
        }
      ],
      "source": [
        "tuner = kt.BayesianOptimization(\n",
        "    hypermodel=CNN_LSTMHyperModel(),\n",
        "    objective=kt.Objective(\"f1_m\", direction=\"max\"),\n",
        "    directory='keras_tuner_outputs',\n",
        "    project_name='models',\n",
        "    overwrite=True,\n",
        "    seed=42,\n",
        "    max_trials=10\n",
        ")"
      ]
    },
    {
      "cell_type": "code",
      "execution_count": null,
      "metadata": {
        "colab": {
          "base_uri": "https://localhost:8080/"
        },
        "id": "ZQdpw1klaUpI",
        "outputId": "7e932025-fe00-42a3-d7aa-1bd3603209ad"
      },
      "outputs": [
        {
          "name": "stdout",
          "output_type": "stream",
          "text": [
            "Search space summary\n",
            "Default search space size: 9\n",
            "conv layer 1 (Choice)\n",
            "{'default': 128, 'conditions': [], 'values': [128, 256, 512], 'ordered': True}\n",
            "conv layer 2 (Choice)\n",
            "{'default': 128, 'conditions': [], 'values': [128, 256, 512], 'ordered': True}\n",
            "conv layer 3 (Choice)\n",
            "{'default': 128, 'conditions': [], 'values': [128, 256, 512], 'ordered': True}\n",
            "Bi dir LSTM layer  (Choice)\n",
            "{'default': 128, 'conditions': [], 'values': [128, 256, 512], 'ordered': True}\n",
            "drop_out_layer1  (Choice)\n",
            "{'default': 0.1, 'conditions': [], 'values': [0.1, 0.2, 0.5], 'ordered': True}\n",
            "drop_out_layer2  (Choice)\n",
            "{'default': 0.1, 'conditions': [], 'values': [0.1, 0.2, 0.5], 'ordered': True}\n",
            "drop_out_layer3  (Choice)\n",
            "{'default': 0.1, 'conditions': [], 'values': [0.1, 0.2, 0.5], 'ordered': True}\n",
            "drop_out_layer4  (Choice)\n",
            "{'default': 0.1, 'conditions': [], 'values': [0.1, 0.2, 0.5], 'ordered': True}\n",
            "optimizer (Choice)\n",
            "{'default': 'adam', 'conditions': [], 'values': ['adam', 'adagrad', 'rmsprop'], 'ordered': False}\n"
          ]
        }
      ],
      "source": [
        "tuner.search_space_summary()"
      ]
    },
    {
      "cell_type": "code",
      "execution_count": null,
      "metadata": {
        "colab": {
          "base_uri": "https://localhost:8080/"
        },
        "id": "NX-WX5XsaVIp",
        "outputId": "d57c3a61-c81e-4c1a-a9cf-55302109c148"
      },
      "outputs": [
        {
          "name": "stdout",
          "output_type": "stream",
          "text": [
            "Trial 2 Complete [00h 13m 39s]\n",
            "f1_m: 0.955132782459259\n",
            "\n",
            "Best f1_m So Far: 0.955132782459259\n",
            "Total elapsed time: 00h 27m 58s\n",
            "\n",
            "Search: Running Trial #3\n",
            "\n",
            "Value             |Best Value So Far |Hyperparameter\n",
            "128               |128               |conv layer 1\n",
            "256               |512               |conv layer 2\n",
            "512               |256               |conv layer 3\n",
            "256               |512               |Bi dir LSTM layer \n",
            "0.2               |0.1               |drop_out_layer1 \n",
            "0.2               |0.5               |drop_out_layer2 \n",
            "0.1               |0.1               |drop_out_layer3 \n",
            "0.1               |0.2               |drop_out_layer4 \n",
            "rmsprop           |adam              |optimizer\n",
            "\n"
          ]
        },
        {
          "name": "stderr",
          "output_type": "stream",
          "text": [
            "WARNING:tensorflow:Layer lstm will not use cuDNN kernels since it doesn't meet the criteria. It will use a generic GPU kernel as fallback when running on GPU.\n",
            "WARNING:tensorflow:Layer lstm will not use cuDNN kernels since it doesn't meet the criteria. It will use a generic GPU kernel as fallback when running on GPU.\n",
            "WARNING:tensorflow:Layer lstm will not use cuDNN kernels since it doesn't meet the criteria. It will use a generic GPU kernel as fallback when running on GPU.\n"
          ]
        },
        {
          "name": "stdout",
          "output_type": "stream",
          "text": [
            "Epoch 1/15\n",
            "594/594 [==============================] - 61s 95ms/step - loss: 0.5260 - accuracy: 0.9165 - precision: 0.8483 - recall: 0.8111 - f1_m: 0.7989 - val_loss: 1.1027 - val_accuracy: 0.7679 - val_precision: 0.5414 - val_recall: 0.4669 - val_f1_m: 0.4973 - lr: 0.0010\n",
            "Epoch 2/15\n",
            "594/594 [==============================] - 55s 92ms/step - loss: 0.3338 - accuracy: 0.9401 - precision: 0.8841 - recall: 0.8752 - f1_m: 0.8797 - val_loss: 0.2133 - val_accuracy: 0.9643 - val_precision: 0.9332 - val_recall: 0.9232 - val_f1_m: 0.9279 - lr: 0.0010\n",
            "Epoch 3/15\n",
            "594/594 [==============================] - ETA: 0s - loss: 0.2855 - accuracy: 0.9495 - precision: 0.9015 - recall: 0.8957 - f1_m: 0.8987\n",
            "Epoch 3: ReduceLROnPlateau reducing learning rate to 0.0005000000237487257.\n",
            "594/594 [==============================] - 54s 92ms/step - loss: 0.2855 - accuracy: 0.9495 - precision: 0.9015 - recall: 0.8957 - f1_m: 0.8987 - val_loss: 0.2244 - val_accuracy: 0.9619 - val_precision: 0.9257 - val_recall: 0.9214 - val_f1_m: 0.9237 - lr: 0.0010\n",
            "Epoch 4/15\n",
            "594/594 [==============================] - 54s 91ms/step - loss: 0.2230 - accuracy: 0.9614 - precision: 0.9240 - recall: 0.9214 - f1_m: 0.9223 - val_loss: 0.1999 - val_accuracy: 0.9690 - val_precision: 0.9400 - val_recall: 0.9355 - val_f1_m: 0.9378 - lr: 5.0000e-04\n",
            "Epoch 5/15\n",
            "594/594 [==============================] - ETA: 0s - loss: 0.2134 - accuracy: 0.9632 - precision: 0.9277 - recall: 0.9250 - f1_m: 0.9264\n",
            "Epoch 5: ReduceLROnPlateau reducing learning rate to 0.0002500000118743628.\n",
            "594/594 [==============================] - 53s 89ms/step - loss: 0.2134 - accuracy: 0.9632 - precision: 0.9277 - recall: 0.9250 - f1_m: 0.9264 - val_loss: 0.1907 - val_accuracy: 0.9678 - val_precision: 0.9375 - val_recall: 0.9333 - val_f1_m: 0.9354 - lr: 5.0000e-04\n",
            "Epoch 6/15\n",
            "594/594 [==============================] - 54s 91ms/step - loss: 0.1852 - accuracy: 0.9679 - precision: 0.9366 - recall: 0.9347 - f1_m: 0.9358 - val_loss: 0.2070 - val_accuracy: 0.9634 - val_precision: 0.9289 - val_recall: 0.9245 - val_f1_m: 0.9265 - lr: 2.5000e-04\n",
            "Epoch 7/15\n",
            "594/594 [==============================] - ETA: 0s - loss: 0.1798 - accuracy: 0.9683 - precision: 0.9375 - recall: 0.9354 - f1_m: 0.9365\n",
            "Epoch 7: ReduceLROnPlateau reducing learning rate to 0.0001250000059371814.\n",
            "594/594 [==============================] - 53s 89ms/step - loss: 0.1798 - accuracy: 0.9683 - precision: 0.9375 - recall: 0.9354 - f1_m: 0.9365 - val_loss: 0.2078 - val_accuracy: 0.9665 - val_precision: 0.9347 - val_recall: 0.9312 - val_f1_m: 0.9328 - lr: 2.5000e-04\n",
            "Epoch 8/15\n",
            "493/594 [=======================>......] - ETA: 8s - loss: 0.1672 - accuracy: 0.9711 - precision: 0.9429 - recall: 0.9413 - f1_m: 0.9420"
          ]
        }
      ],
      "source": [
        "from keras.api._v2.keras import callbacks\n",
        "tuner.search(X_Train,Y_Train ,epochs=15, validation_data=(X_val,Y_val), callbacks=[learning_rate_reduction] )"
      ]
    },
    {
      "cell_type": "code",
      "execution_count": null,
      "metadata": {
        "id": "fnVQaw73dYZ6"
      },
      "outputs": [],
      "source": [
        "best_preds_cnn_lstm= tuner.get_best_models()[0]"
      ]
    },
    {
      "cell_type": "code",
      "execution_count": null,
      "metadata": {
        "colab": {
          "base_uri": "https://localhost:8080/"
        },
        "id": "XJTF5TdxdfD7",
        "outputId": "a51f4732-2757-4dab-8400-f8c0bf10f015"
      },
      "outputs": [
        {
          "name": "stdout",
          "output_type": "stream",
          "text": [
            "              precision    recall  f1-score   support\n",
            "\n",
            "\n",
            "\n",
            "           0       0.87      0.95      0.91    278159\n",
            "\n",
            "           1       0.89      0.64      0.74     10572\n",
            "\n",
            "           2       0.80      0.83      0.81     16774\n",
            "\n",
            "           3       0.72      0.49      0.58     63455\n",
            "\n",
            "\n",
            "\n",
            "    accuracy                           0.85    368960\n",
            "\n",
            "   macro avg       0.82      0.73      0.76    368960\n",
            "\n",
            "weighted avg       0.84      0.85      0.84    368960\n",
            "\n",
            "\n"
          ]
        }
      ],
      "source": [
        "from sklearn.metrics import classification_report\n",
        "print(classification_report(Y_test, flatten_pred(best_preds_cnn_lstm)))\n"
      ]
    },
    {
      "cell_type": "code",
      "execution_count": null,
      "metadata": {
        "colab": {
          "base_uri": "https://localhost:8080/"
        },
        "id": "Gi_ciF-HCMLz",
        "outputId": "fe889ba6-6416-4523-b272-5dbce2e99061"
      },
      "outputs": [
        {
          "data": {
            "text/plain": [
              "array([0, 1, 2, 3])"
            ]
          },
          "execution_count": 36,
          "metadata": {},
          "output_type": "execute_result"
        }
      ],
      "source": [
        "np.unique(y_train)"
      ]
    },
    {
      "cell_type": "code",
      "execution_count": null,
      "metadata": {
        "id": "DcRZgM-5H8j7"
      },
      "outputs": [],
      "source": [
        "y_train"
      ]
    },
    {
      "cell_type": "code",
      "execution_count": null,
      "metadata": {
        "id": "hnvbWw30AVMx"
      },
      "outputs": [],
      "source": [
        "def create_cnn_lstm():\n",
        "  model = Sequential()\n",
        "  model.add(Conv1D(128, kernel_size=4, activation='relu',padding='same',input_shape=(sampling_size,6)))\n",
        "  model.add(AveragePooling1D(2))\n",
        "  model.add(Dropout(0.1))\n",
        "\n",
        "  model.add(Conv1D(512, kernel_size=4, activation= 'relu', padding='same'))\n",
        "  model.add(AveragePooling1D(2))\n",
        "  model.add(Dropout(0.5))\n",
        "\n",
        "  model.add(Conv1D(256, kernel_size=4, activation='relu', padding='same'))\n",
        "  model.add(UpSampling1D(size=2))\n",
        "  model.add(Dropout(0.1))\n",
        "\n",
        "\n",
        "\n",
        "  model.add(Bidirectional( LSTM(512, activation='relu',return_sequences=True)))\n",
        "  # model.add(Dropout(args[dropout_layer4]))\n",
        "  model.add(UpSampling1D(size=2))\n",
        "  \n",
        "  \n",
        "  model.add(Dense(4, activation='softmax'))\n",
        "  \n",
        "  model.compile(optimizer='adam', loss='categorical_crossentropy', metrics=METRICS)\n",
        "  return model \n"
      ]
    },
    {
      "cell_type": "code",
      "execution_count": null,
      "metadata": {
        "id": "XcfFOz7hAwLB"
      },
      "outputs": [],
      "source": [
        "lstm_cnn =create_cnn_lstm()"
      ]
    },
    {
      "cell_type": "code",
      "execution_count": null,
      "metadata": {
        "colab": {
          "base_uri": "https://localhost:8080/"
        },
        "id": "4tOwdh4EA-w1",
        "outputId": "e5a50b00-8e90-4cf4-9b6f-886805c8766f"
      },
      "outputs": [
        {
          "name": "stdout",
          "output_type": "stream",
          "text": [
            "Epoch 1/15\n",
            "594/594 [==============================] - 60s 94ms/step - loss: 0.7030 - accuracy: 0.8879 - precision: 0.8056 - recall: 0.7271 - f1_m: 0.7513 - val_loss: 0.4833 - val_accuracy: 0.9377 - val_precision: 0.9149 - val_recall: 0.8280 - val_f1_m: 0.8606 - lr: 0.0010\n",
            "Epoch 2/15\n",
            "594/594 [==============================] - 59s 99ms/step - loss: 0.4321 - accuracy: 0.9191 - precision: 0.8519 - recall: 0.8190 - f1_m: 0.8349 - val_loss: 0.2627 - val_accuracy: 0.9595 - val_precision: 0.9251 - val_recall: 0.9120 - val_f1_m: 0.9184 - lr: 0.0010\n",
            "Epoch 3/15\n",
            "594/594 [==============================] - ETA: 0s - loss: 0.3546 - accuracy: 0.9375 - precision: 0.8804 - recall: 0.8679 - f1_m: 0.8737\n",
            "Epoch 3: ReduceLROnPlateau reducing learning rate to 0.0005000000237487257.\n",
            "594/594 [==============================] - 55s 93ms/step - loss: 0.3546 - accuracy: 0.9375 - precision: 0.8804 - recall: 0.8679 - f1_m: 0.8737 - val_loss: 0.2578 - val_accuracy: 0.9616 - val_precision: 0.9300 - val_recall: 0.9152 - val_f1_m: 0.9222 - lr: 0.0010\n",
            "Epoch 4/15\n",
            "594/594 [==============================] - 54s 92ms/step - loss: 0.3096 - accuracy: 0.9446 - precision: 0.8928 - recall: 0.8847 - f1_m: 0.8885 - val_loss: 0.2417 - val_accuracy: 0.9623 - val_precision: 0.9294 - val_recall: 0.9189 - val_f1_m: 0.9240 - lr: 5.0000e-04\n",
            "Epoch 5/15\n",
            "594/594 [==============================] - ETA: 0s - loss: 0.2847 - accuracy: 0.9503 - precision: 0.9035 - recall: 0.8970 - f1_m: 0.9004\n",
            "Epoch 5: ReduceLROnPlateau reducing learning rate to 0.0002500000118743628.\n",
            "594/594 [==============================] - 58s 97ms/step - loss: 0.2847 - accuracy: 0.9503 - precision: 0.9035 - recall: 0.8970 - f1_m: 0.9004 - val_loss: 0.2146 - val_accuracy: 0.9670 - val_precision: 0.9382 - val_recall: 0.9292 - val_f1_m: 0.9335 - lr: 5.0000e-04\n",
            "Epoch 6/15\n",
            "594/594 [==============================] - 54s 91ms/step - loss: 0.2586 - accuracy: 0.9549 - precision: 0.9119 - recall: 0.9072 - f1_m: 0.9097 - val_loss: 0.2428 - val_accuracy: 0.9599 - val_precision: 0.9250 - val_recall: 0.9135 - val_f1_m: 0.9188 - lr: 2.5000e-04\n",
            "Epoch 7/15\n",
            "594/594 [==============================] - ETA: 0s - loss: 0.2519 - accuracy: 0.9558 - precision: 0.9138 - recall: 0.9089 - f1_m: 0.9113\n",
            "Epoch 7: ReduceLROnPlateau reducing learning rate to 0.0001250000059371814.\n",
            "594/594 [==============================] - 54s 90ms/step - loss: 0.2519 - accuracy: 0.9558 - precision: 0.9138 - recall: 0.9089 - f1_m: 0.9113 - val_loss: 0.2167 - val_accuracy: 0.9670 - val_precision: 0.9394 - val_recall: 0.9276 - val_f1_m: 0.9332 - lr: 2.5000e-04\n",
            "Epoch 8/15\n",
            "594/594 [==============================] - 55s 92ms/step - loss: 0.2365 - accuracy: 0.9588 - precision: 0.9194 - recall: 0.9153 - f1_m: 0.9174 - val_loss: 0.2032 - val_accuracy: 0.9667 - val_precision: 0.9368 - val_recall: 0.9297 - val_f1_m: 0.9331 - lr: 1.2500e-04\n",
            "Epoch 9/15\n",
            "594/594 [==============================] - ETA: 0s - loss: 0.2308 - accuracy: 0.9591 - precision: 0.9202 - recall: 0.9160 - f1_m: 0.9177\n",
            "Epoch 9: ReduceLROnPlateau reducing learning rate to 6.25000029685907e-05.\n",
            "594/594 [==============================] - 54s 91ms/step - loss: 0.2308 - accuracy: 0.9591 - precision: 0.9202 - recall: 0.9160 - f1_m: 0.9177 - val_loss: 0.1958 - val_accuracy: 0.9676 - val_precision: 0.9389 - val_recall: 0.9312 - val_f1_m: 0.9350 - lr: 1.2500e-04\n",
            "Epoch 10/15\n",
            "594/594 [==============================] - 55s 92ms/step - loss: 0.2252 - accuracy: 0.9608 - precision: 0.9234 - recall: 0.9193 - f1_m: 0.9213 - val_loss: 0.1980 - val_accuracy: 0.9676 - val_precision: 0.9381 - val_recall: 0.9318 - val_f1_m: 0.9349 - lr: 6.2500e-05\n",
            "Epoch 11/15\n",
            "594/594 [==============================] - ETA: 0s - loss: 0.2219 - accuracy: 0.9599 - precision: 0.9215 - recall: 0.9177 - f1_m: 0.9197\n",
            "Epoch 11: ReduceLROnPlateau reducing learning rate to 3.125000148429535e-05.\n",
            "594/594 [==============================] - 55s 92ms/step - loss: 0.2219 - accuracy: 0.9599 - precision: 0.9215 - recall: 0.9177 - f1_m: 0.9197 - val_loss: 0.1954 - val_accuracy: 0.9684 - val_precision: 0.9399 - val_recall: 0.9333 - val_f1_m: 0.9364 - lr: 6.2500e-05\n",
            "Epoch 12/15\n",
            "594/594 [==============================] - 54s 91ms/step - loss: 0.2181 - accuracy: 0.9618 - precision: 0.9254 - recall: 0.9217 - f1_m: 0.9236 - val_loss: 0.1952 - val_accuracy: 0.9680 - val_precision: 0.9390 - val_recall: 0.9327 - val_f1_m: 0.9357 - lr: 3.1250e-05\n",
            "Epoch 13/15\n",
            "594/594 [==============================] - ETA: 0s - loss: 0.2138 - accuracy: 0.9628 - precision: 0.9272 - recall: 0.9236 - f1_m: 0.9255\n",
            "Epoch 13: ReduceLROnPlateau reducing learning rate to 1.5625000742147677e-05.\n",
            "594/594 [==============================] - 56s 95ms/step - loss: 0.2138 - accuracy: 0.9628 - precision: 0.9272 - recall: 0.9236 - f1_m: 0.9255 - val_loss: 0.1941 - val_accuracy: 0.9686 - val_precision: 0.9401 - val_recall: 0.9338 - val_f1_m: 0.9368 - lr: 3.1250e-05\n",
            "Epoch 14/15\n",
            "594/594 [==============================] - 55s 92ms/step - loss: 0.2110 - accuracy: 0.9633 - precision: 0.9281 - recall: 0.9249 - f1_m: 0.9261 - val_loss: 0.1958 - val_accuracy: 0.9682 - val_precision: 0.9398 - val_recall: 0.9325 - val_f1_m: 0.9358 - lr: 1.5625e-05\n",
            "Epoch 15/15\n",
            "594/594 [==============================] - ETA: 0s - loss: 0.2122 - accuracy: 0.9629 - precision: 0.9273 - recall: 0.9240 - f1_m: 0.9258\n",
            "Epoch 15: ReduceLROnPlateau reducing learning rate to 7.812500371073838e-06.\n",
            "594/594 [==============================] - 56s 95ms/step - loss: 0.2122 - accuracy: 0.9629 - precision: 0.9273 - recall: 0.9240 - f1_m: 0.9258 - val_loss: 0.1957 - val_accuracy: 0.9682 - val_precision: 0.9397 - val_recall: 0.9326 - val_f1_m: 0.9359 - lr: 1.5625e-05\n"
          ]
        },
        {
          "data": {
            "text/plain": [
              "<keras.callbacks.History at 0x7fbd6428e7f0>"
            ]
          },
          "execution_count": 36,
          "metadata": {},
          "output_type": "execute_result"
        }
      ],
      "source": [
        "lstm_cnn.fit(X_Train,Y_Train, epochs=15, verbose=1, validation_data=(X_val,Y_val), callbacks=[learning_rate_reduction])"
      ]
    },
    {
      "cell_type": "code",
      "execution_count": null,
      "metadata": {
        "colab": {
          "base_uri": "https://localhost:8080/"
        },
        "id": "Fyy98CHnI34Z",
        "outputId": "856cbba1-cdef-4bd3-fe92-e6825de1a639"
      },
      "outputs": [
        {
          "name": "stdout",
          "output_type": "stream",
          "text": [
            "296/296 [==============================] - 3s 9ms/step\n"
          ]
        }
      ],
      "source": [
        "preds_cnn_lstm = lstm_cnn.predict(X_Test)\n",
        "flatten_preds=flatten_pred(preds_cnn_lstm)"
      ]
    },
    {
      "cell_type": "code",
      "execution_count": null,
      "metadata": {
        "colab": {
          "base_uri": "https://localhost:8080/"
        },
        "id": "kZR5E1b7I9Q7",
        "outputId": "e527e073-f696-4d31-c4da-7ef40e3aa4ae"
      },
      "outputs": [
        {
          "data": {
            "text/plain": [
              "378240"
            ]
          },
          "execution_count": 38,
          "metadata": {},
          "output_type": "execute_result"
        }
      ],
      "source": [
        "len(flatten_preds)"
      ]
    },
    {
      "cell_type": "code",
      "execution_count": null,
      "metadata": {
        "id": "1Fxruq_KJDUL"
      },
      "outputs": [],
      "source": [
        "reshape_preds = flatten_preds[:Y_test.shape[0]]"
      ]
    },
    {
      "cell_type": "code",
      "execution_count": null,
      "metadata": {
        "colab": {
          "base_uri": "https://localhost:8080/"
        },
        "id": "T4r8VZzFDZsI",
        "outputId": "e7571ef6-1adc-4d80-da1c-54060c735074"
      },
      "outputs": [
        {
          "name": "stdout",
          "output_type": "stream",
          "text": [
            "              precision    recall  f1-score   support\n",
            "\n",
            "           0       0.91      0.89      0.90    285148\n",
            "           1       0.84      0.86      0.85     10840\n",
            "           2       0.95      0.86      0.90     17196\n",
            "           3       0.58      0.65      0.61     65040\n",
            "\n",
            "    accuracy                           0.84    378224\n",
            "   macro avg       0.82      0.81      0.81    378224\n",
            "weighted avg       0.85      0.84      0.85    378224\n",
            "\n"
          ]
        }
      ],
      "source": [
        "from sklearn.metrics import classification_report\n",
        "print(classification_report(Y_test, reshape_preds))"
      ]
    },
    {
      "cell_type": "markdown",
      "metadata": {
        "id": "cxbrPshEDyN1"
      },
      "source": [
        "#Test"
      ]
    },
    {
      "cell_type": "code",
      "execution_count": null,
      "metadata": {
        "id": "hvRecTTRDnxn"
      },
      "outputs": [],
      "source": [
        "#load data\n",
        "\n",
        "x_9_1 = pd.read_csv('https://raw.githubusercontent.com/sushanthreddyC/Terrain-Identification-Using-Time-Series-Data/main/TestData/subject_009_01__x.csv', names = ['ax', 'ay', 'az', 'gx', 'gy', 'gz'])\n",
        "x_10_1 = pd.read_csv('https://raw.githubusercontent.com/sushanthreddyC/Terrain-Identification-Using-Time-Series-Data/main/TestData/subject_010_01__x.csv', names = ['ax', 'ay', 'az', 'gx', 'gy', 'gz'])\n",
        "x_11_1 = pd.read_csv('https://raw.githubusercontent.com/sushanthreddyC/Terrain-Identification-Using-Time-Series-Data/main/TestData/subject_011_01__x.csv', names = ['ax', 'ay', 'az', 'gx', 'gy', 'gz'])\n",
        "x_12_1 = pd.read_csv('https://raw.githubusercontent.com/sushanthreddyC/Terrain-Identification-Using-Time-Series-Data/main/TestData/subject_012_01__x.csv',  names = ['ax', 'ay', 'az', 'gx', 'gy', 'gz'])\n",
        "\n",
        "x_9_1_time = pd.read_csv('https://raw.githubusercontent.com/sushanthreddyC/Terrain-Identification-Using-Time-Series-Data/main/TestData/subject_009_01__x_time.csv', names = ['time'])\n",
        "x_10_1_time = pd.read_csv('https://raw.githubusercontent.com/sushanthreddyC/Terrain-Identification-Using-Time-Series-Data/main/TestData/subject_010_01__x_time.csv',  names = ['time'])\n",
        "x_11_1_time = pd.read_csv('https://raw.githubusercontent.com/sushanthreddyC/Terrain-Identification-Using-Time-Series-Data/main/TestData/subject_011_01__x_time.csv',  names = ['time'])\n",
        "x_12_1_time = pd.read_csv('https://raw.githubusercontent.com/sushanthreddyC/Terrain-Identification-Using-Time-Series-Data/main/TestData/subject_012_01__x_time.csv',   names = ['time'])\n",
        "\n",
        "\n",
        "y_9_1_time = pd.read_csv('https://raw.githubusercontent.com/sushanthreddyC/Terrain-Identification-Using-Time-Series-Data/main/TestData/subject_009_01__y_time.csv',  names = ['time'])\n",
        "y_10_1_time = pd.read_csv('https://raw.githubusercontent.com/sushanthreddyC/Terrain-Identification-Using-Time-Series-Data/main/TestData/subject_010_01__y_time.csv',  names = ['time'])\n",
        "y_11_1_time = pd.read_csv('https://raw.githubusercontent.com/sushanthreddyC/Terrain-Identification-Using-Time-Series-Data/main/TestData/subject_011_01__y_time.csv', names = ['time'])\n",
        "y_12_1_time = pd.read_csv('https://raw.githubusercontent.com/sushanthreddyC/Terrain-Identification-Using-Time-Series-Data/main/TestData/subject_012_01__y_time.csv',  names = ['time'])"
      ]
    },
    {
      "cell_type": "code",
      "execution_count": null,
      "metadata": {
        "id": "LLoXnkDnW8_4"
      },
      "outputs": [],
      "source": [
        "#Normalizing Test data\n",
        "X_9_norm = scaler_t.transform(x_9_1)\n",
        "X_10_norm = scaler_t.transform(x_10_1)\n",
        "X_11_norm = scaler_t.transform(x_11_1)\n",
        "X_12_norm = scaler_t.transform(x_12_1)"
      ]
    },
    {
      "cell_type": "code",
      "execution_count": null,
      "metadata": {
        "id": "OqZo0_xwEih3"
      },
      "outputs": [],
      "source": [
        "#Sampling test data\n",
        "X_Test_9=sampling_test(pd.DataFrame(X_9_norm, columns = ['ax','ay','az','gx','gy','gz']) ,sampling_size=40)\n",
        "X_Test_10=sampling_test(pd.DataFrame(X_10_norm, columns = ['ax','ay','az','gx','gy','gz']) ,sampling_test=40)\n",
        "X_Test_11=sampling_test(pd.DataFrame(X_11_norm, columns = ['ax','ay','az','gx','gy','gz']) ,sampling_test=40)\n",
        "X_Test_12=sampling_test(pd.DataFrame(X_12_norm, columns = ['ax','ay','az','gx','gy','gz']) ,sampling_test=40)"
      ]
    },
    {
      "cell_type": "code",
      "execution_count": null,
      "metadata": {
        "colab": {
          "base_uri": "https://localhost:8080/"
        },
        "id": "06ohX5szFluF",
        "outputId": "52012a48-01c7-44f4-df06-227e3e784d35"
      },
      "outputs": [
        {
          "data": {
            "text/plain": [
              "(950, 40, 6)"
            ]
          },
          "execution_count": 52,
          "metadata": {},
          "output_type": "execute_result"
        }
      ],
      "source": [
        "X_Test_9.shape"
      ]
    },
    {
      "cell_type": "code",
      "execution_count": null,
      "metadata": {
        "id": "X-XnQk59Jff1"
      },
      "outputs": [],
      "source": [
        "#predictions function \n",
        "def predictions(test_data,X_test_org):\n",
        "  preds_cnn_lstm = CNN_lstm.predict(test_data)\n",
        "  flatten_preds=flatten_pred(preds_cnn_lstm)\n",
        "  print(len(flatten_preds))\n",
        "  reshape_preds = flatten_preds[:X_test_org.shape[0]]\n",
        "  return reshape_preds"
      ]
    },
    {
      "cell_type": "code",
      "execution_count": null,
      "metadata": {
        "colab": {
          "base_uri": "https://localhost:8080/"
        },
        "id": "_4_KTGToJw8w",
        "outputId": "ab322bf1-b378-4815-d62d-0537e7207ec4"
      },
      "outputs": [
        {
          "name": "stdout",
          "output_type": "stream",
          "text": [
            "30/30 [==============================] - 2s 41ms/step\n",
            "38000\n",
            "39/39 [==============================] - 2s 40ms/step\n",
            "49120\n",
            "41/41 [==============================] - 2s 39ms/step\n",
            "51800\n",
            "36/36 [==============================] - 1s 39ms/step\n",
            "45320\n"
          ]
        }
      ],
      "source": [
        "predictions_9=predictions(X_Test_9,x_9_1)\n",
        "predictions_10=predictions(X_Test_10,x_10_1)\n",
        "predictions_11=predictions(X_Test_11,x_11_1)\n",
        "predictions_12=predictions(X_Test_12,x_12_1)"
      ]
    },
    {
      "cell_type": "code",
      "execution_count": null,
      "metadata": {
        "id": "jAAzkZNqKFm6"
      },
      "outputs": [],
      "source": [
        "len(predictions_9)"
      ]
    },
    {
      "cell_type": "code",
      "execution_count": null,
      "metadata": {
        "id": "2axlahX4GqCN"
      },
      "outputs": [],
      "source": [
        "[9498, 12270, 12940, 11330]"
      ]
    },
    {
      "cell_type": "code",
      "execution_count": null,
      "metadata": {
        "id": "9J9-0FSUfnek"
      },
      "outputs": [],
      "source": [
        "from statistics import mode\n",
        "def mode_preds(preds,X_time,Y_time):\n",
        "  x_ind=0\n",
        "  y_ind=0\n",
        "  label=[]\n",
        "  final_prediction=[]\n",
        "  while(x_ind<X_time.shape[0] and y_ind<Y_time.shape[0]):\n",
        "    if(X_time['time'].iloc[x_ind]<Y_time['time'].iloc[y_ind]):\n",
        "      label.append(preds[x_ind])\n",
        "      x_ind+=1\n",
        "    else:\n",
        "      final_prediction.append(mode(label))\n",
        "      label=[]\n",
        "      y_ind+=1\n",
        "  return pd.DataFrame(final_prediction)"
      ]
    },
    {
      "cell_type": "code",
      "execution_count": null,
      "metadata": {
        "id": "3_hh9u8-gxUY"
      },
      "outputs": [],
      "source": [
        "final_pred_9 =mode_preds(predictions_9,x_9_1_time,y_9_1_time)\n",
        "final_pred_10=mode_preds(predictions_10,x_10_1_time,y_10_1_time)\n",
        "final_pred_11=mode_preds(predictions_11,x_11_1_time,y_11_1_time)\n",
        "final_pred_12=mode_preds(predictions_12,x_12_1_time,y_12_1_time)"
      ]
    },
    {
      "cell_type": "code",
      "execution_count": null,
      "metadata": {
        "id": "tbeUfhiojQWI"
      },
      "outputs": [],
      "source": [
        "def write(name, preds):\n",
        "\n",
        "  pd.DataFrame(preds[0]).to_csv(name + 'subject_009_01__y.csv', index=False, header=False)\n",
        "  pd.DataFrame(preds[1]).to_csv(name + 'subject_010_01__y.csv', index=False, header=False)\n",
        "  pd.DataFrame(preds[2]).to_csv(name + 'subject_011_01__y.csv', index=False, header=False)\n",
        "  pd.DataFrame(preds[3]).to_csv(name + 'subject_012_01__y.csv', index=False, header=False)\n",
        "\n",
        "\n",
        "write('', [final_pred_9,final_pred_10,final_pred_11,final_pred_12])"
      ]
    }
  ],
  "metadata": {
    "colab": {
      "collapsed_sections": [
        "0Qi_AbWuEBj3",
        "7IaW6BxN91r-",
        "3eVOnzJUrqtt",
        "LOTSfZBtUqTu",
        "VFeZLeQfzvqr",
        "CBWXFgfANPmy",
        "PPCcoKUp46C5",
        "7M5KGSUrp4V2",
        "dBfIwdftqBX9"
      ],
      "provenance": []
    },
    "gpuClass": "standard",
    "kernelspec": {
      "display_name": "Python 3",
      "language": "python",
      "name": "python3"
    },
    "language_info": {
      "codemirror_mode": {
        "name": "ipython",
        "version": 3
      },
      "file_extension": ".py",
      "mimetype": "text/x-python",
      "name": "python",
      "nbconvert_exporter": "python",
      "pygments_lexer": "ipython3",
      "version": "3.7.12"
    }
  },
  "nbformat": 4,
  "nbformat_minor": 0
}
